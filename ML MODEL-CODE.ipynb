{
 "cells": [
  {
   "cell_type": "code",
   "execution_count": 1,
   "id": "0bc8851c",
   "metadata": {},
   "outputs": [],
   "source": [
    "# Importing Libraries first"
   ]
  },
  {
   "cell_type": "code",
   "execution_count": 2,
   "id": "49284d9e",
   "metadata": {},
   "outputs": [],
   "source": [
    "#Importing Common Data Science Libraries\n",
    "import pandas as pd\n",
    "import numpy as np\n",
    "import seaborn as sns\n",
    "import matplotlib.pyplot as plt\n",
    "from sklearn.model_selection import train_test_split\n",
    "from datetime import datetime, timedelta\n",
    "import warnings\n",
    "warnings.filterwarnings(\"ignore\")\n"
   ]
  },
  {
   "cell_type": "markdown",
   "id": "445042f8",
   "metadata": {},
   "source": [
    "# Data Loading "
   ]
  },
  {
   "cell_type": "code",
   "execution_count": 3,
   "id": "529fe8da",
   "metadata": {},
   "outputs": [],
   "source": [
    "# read csv file into a DataFrame\n",
    "#load dataset now"
   ]
  },
  {
   "cell_type": "code",
   "execution_count": 4,
   "id": "cb6a74a7",
   "metadata": {},
   "outputs": [
    {
     "data": {
      "text/html": [
       "<div>\n",
       "<style scoped>\n",
       "    .dataframe tbody tr th:only-of-type {\n",
       "        vertical-align: middle;\n",
       "    }\n",
       "\n",
       "    .dataframe tbody tr th {\n",
       "        vertical-align: top;\n",
       "    }\n",
       "\n",
       "    .dataframe thead th {\n",
       "        text-align: right;\n",
       "    }\n",
       "</style>\n",
       "<table border=\"1\" class=\"dataframe\">\n",
       "  <thead>\n",
       "    <tr style=\"text-align: right;\">\n",
       "      <th></th>\n",
       "      <th>business_code</th>\n",
       "      <th>cust_number</th>\n",
       "      <th>name_customer</th>\n",
       "      <th>clear_date</th>\n",
       "      <th>buisness_year</th>\n",
       "      <th>doc_id</th>\n",
       "      <th>posting_date</th>\n",
       "      <th>document_create_date</th>\n",
       "      <th>document_create_date.1</th>\n",
       "      <th>due_in_date</th>\n",
       "      <th>invoice_currency</th>\n",
       "      <th>document type</th>\n",
       "      <th>posting_id</th>\n",
       "      <th>area_business</th>\n",
       "      <th>total_open_amount</th>\n",
       "      <th>baseline_create_date</th>\n",
       "      <th>cust_payment_terms</th>\n",
       "      <th>invoice_id</th>\n",
       "      <th>isOpen</th>\n",
       "    </tr>\n",
       "  </thead>\n",
       "  <tbody>\n",
       "    <tr>\n",
       "      <th>0</th>\n",
       "      <td>U001</td>\n",
       "      <td>CCCA02</td>\n",
       "      <td>KRAFT  llc</td>\n",
       "      <td>2019-03-01</td>\n",
       "      <td>2019.0</td>\n",
       "      <td>1.928613e+09</td>\n",
       "      <td>2019-01-13</td>\n",
       "      <td>20190111</td>\n",
       "      <td>20190113</td>\n",
       "      <td>20190217</td>\n",
       "      <td>USD</td>\n",
       "      <td>RV</td>\n",
       "      <td>1.0</td>\n",
       "      <td>NaN</td>\n",
       "      <td>95878.89</td>\n",
       "      <td>20190113</td>\n",
       "      <td>NAG2</td>\n",
       "      <td>1.928613e+09</td>\n",
       "      <td>0</td>\n",
       "    </tr>\n",
       "    <tr>\n",
       "      <th>1</th>\n",
       "      <td>U001</td>\n",
       "      <td>0200772670</td>\n",
       "      <td>ASSOCIAT systems</td>\n",
       "      <td>2019-05-15</td>\n",
       "      <td>2019.0</td>\n",
       "      <td>1.928940e+09</td>\n",
       "      <td>2019-03-10</td>\n",
       "      <td>20190310</td>\n",
       "      <td>20190310</td>\n",
       "      <td>20190514</td>\n",
       "      <td>USD</td>\n",
       "      <td>RV</td>\n",
       "      <td>1.0</td>\n",
       "      <td>NaN</td>\n",
       "      <td>7852.13</td>\n",
       "      <td>20190310</td>\n",
       "      <td>NAGD</td>\n",
       "      <td>1.928940e+09</td>\n",
       "      <td>0</td>\n",
       "    </tr>\n",
       "    <tr>\n",
       "      <th>2</th>\n",
       "      <td>U001</td>\n",
       "      <td>0200744019</td>\n",
       "      <td>TARG co</td>\n",
       "      <td>NaT</td>\n",
       "      <td>2020.0</td>\n",
       "      <td>1.930710e+09</td>\n",
       "      <td>2020-03-27</td>\n",
       "      <td>20200327</td>\n",
       "      <td>20200327</td>\n",
       "      <td>20200411</td>\n",
       "      <td>USD</td>\n",
       "      <td>RV</td>\n",
       "      <td>1.0</td>\n",
       "      <td>NaN</td>\n",
       "      <td>18118.48</td>\n",
       "      <td>20200327</td>\n",
       "      <td>NAA8</td>\n",
       "      <td>1.930710e+09</td>\n",
       "      <td>1</td>\n",
       "    </tr>\n",
       "    <tr>\n",
       "      <th>3</th>\n",
       "      <td>U001</td>\n",
       "      <td>0200769623</td>\n",
       "      <td>WAL-MAR corporation</td>\n",
       "      <td>2019-10-25</td>\n",
       "      <td>2019.0</td>\n",
       "      <td>1.930008e+09</td>\n",
       "      <td>2019-10-13</td>\n",
       "      <td>20191013</td>\n",
       "      <td>20191013</td>\n",
       "      <td>20191028</td>\n",
       "      <td>USD</td>\n",
       "      <td>RV</td>\n",
       "      <td>1.0</td>\n",
       "      <td>NaN</td>\n",
       "      <td>3225.75</td>\n",
       "      <td>20191013</td>\n",
       "      <td>NAH4</td>\n",
       "      <td>1.930008e+09</td>\n",
       "      <td>0</td>\n",
       "    </tr>\n",
       "    <tr>\n",
       "      <th>4</th>\n",
       "      <td>U001</td>\n",
       "      <td>0200777735</td>\n",
       "      <td>NASH  corporation</td>\n",
       "      <td>2019-06-21</td>\n",
       "      <td>2019.0</td>\n",
       "      <td>1.929455e+09</td>\n",
       "      <td>2019-06-07</td>\n",
       "      <td>20190607</td>\n",
       "      <td>20190607</td>\n",
       "      <td>20190622</td>\n",
       "      <td>USD</td>\n",
       "      <td>RV</td>\n",
       "      <td>1.0</td>\n",
       "      <td>NaN</td>\n",
       "      <td>9490.98</td>\n",
       "      <td>20190607</td>\n",
       "      <td>NAA8</td>\n",
       "      <td>1.929455e+09</td>\n",
       "      <td>0</td>\n",
       "    </tr>\n",
       "  </tbody>\n",
       "</table>\n",
       "</div>"
      ],
      "text/plain": [
       "  business_code cust_number        name_customer clear_date  buisness_year  \\\n",
       "0          U001      CCCA02           KRAFT  llc 2019-03-01         2019.0   \n",
       "1          U001  0200772670     ASSOCIAT systems 2019-05-15         2019.0   \n",
       "2          U001  0200744019              TARG co        NaT         2020.0   \n",
       "3          U001  0200769623  WAL-MAR corporation 2019-10-25         2019.0   \n",
       "4          U001  0200777735    NASH  corporation 2019-06-21         2019.0   \n",
       "\n",
       "         doc_id posting_date  document_create_date  document_create_date.1  \\\n",
       "0  1.928613e+09   2019-01-13              20190111                20190113   \n",
       "1  1.928940e+09   2019-03-10              20190310                20190310   \n",
       "2  1.930710e+09   2020-03-27              20200327                20200327   \n",
       "3  1.930008e+09   2019-10-13              20191013                20191013   \n",
       "4  1.929455e+09   2019-06-07              20190607                20190607   \n",
       "\n",
       "   due_in_date invoice_currency document type  posting_id  area_business  \\\n",
       "0     20190217              USD            RV         1.0            NaN   \n",
       "1     20190514              USD            RV         1.0            NaN   \n",
       "2     20200411              USD            RV         1.0            NaN   \n",
       "3     20191028              USD            RV         1.0            NaN   \n",
       "4     20190622              USD            RV         1.0            NaN   \n",
       "\n",
       "   total_open_amount  baseline_create_date cust_payment_terms    invoice_id  \\\n",
       "0           95878.89              20190113               NAG2  1.928613e+09   \n",
       "1            7852.13              20190310               NAGD  1.928940e+09   \n",
       "2           18118.48              20200327               NAA8  1.930710e+09   \n",
       "3            3225.75              20191013               NAH4  1.930008e+09   \n",
       "4            9490.98              20190607               NAA8  1.929455e+09   \n",
       "\n",
       "   isOpen  \n",
       "0       0  \n",
       "1       0  \n",
       "2       1  \n",
       "3       0  \n",
       "4       0  "
      ]
     },
     "execution_count": 4,
     "metadata": {},
     "output_type": "execute_result"
    }
   ],
   "source": [
    "df = pd.read_csv(\"C:/Users/Akashdeep/Downloads/H2HBABBA2568.csv\")\n",
    "df.head()\n",
    "\n",
    "df['clear_date'] = pd.to_datetime(df.clear_date)\n",
    "df['posting_date'] = pd.to_datetime(df.posting_date)\n",
    "df['due_in_date'] = df['due_in_date'].apply(int)\n",
    "df['baseline_create_date'] = df['baseline_create_date'].apply(int)\n",
    "df.head()\n",
    "# transforming columns \n"
   ]
  },
  {
   "cell_type": "code",
   "execution_count": 5,
   "id": "b2304291",
   "metadata": {},
   "outputs": [],
   "source": [
    "# Checking dataframe"
   ]
  },
  {
   "cell_type": "code",
   "execution_count": 6,
   "id": "4c25befe",
   "metadata": {},
   "outputs": [
    {
     "data": {
      "text/plain": [
       "Index(['business_code', 'cust_number', 'name_customer', 'clear_date',\n",
       "       'buisness_year', 'doc_id', 'posting_date', 'document_create_date',\n",
       "       'document_create_date.1', 'due_in_date', 'invoice_currency',\n",
       "       'document type', 'posting_id', 'area_business', 'total_open_amount',\n",
       "       'baseline_create_date', 'cust_payment_terms', 'invoice_id', 'isOpen'],\n",
       "      dtype='object')"
      ]
     },
     "execution_count": 6,
     "metadata": {},
     "output_type": "execute_result"
    }
   ],
   "source": [
    "df.columns"
   ]
  },
  {
   "cell_type": "code",
   "execution_count": 7,
   "id": "a6ca20d0",
   "metadata": {},
   "outputs": [
    {
     "data": {
      "text/plain": [
       "(50000, 19)"
      ]
     },
     "execution_count": 7,
     "metadata": {},
     "output_type": "execute_result"
    }
   ],
   "source": [
    "df.shape"
   ]
  },
  {
   "cell_type": "markdown",
   "id": "7b655ce6",
   "metadata": {},
   "source": [
    "#  Data Preprocessing"
   ]
  },
  {
   "cell_type": "code",
   "execution_count": 8,
   "id": "66b70d84",
   "metadata": {},
   "outputs": [],
   "source": [
    "### Checking for null columns now"
   ]
  },
  {
   "cell_type": "code",
   "execution_count": 9,
   "id": "07e58207",
   "metadata": {},
   "outputs": [
    {
     "data": {
      "text/plain": [
       "business_code                 0\n",
       "cust_number                   0\n",
       "name_customer                 0\n",
       "clear_date                10000\n",
       "buisness_year                 0\n",
       "doc_id                        0\n",
       "posting_date                  0\n",
       "document_create_date          0\n",
       "document_create_date.1        0\n",
       "due_in_date                   0\n",
       "invoice_currency              0\n",
       "document type                 0\n",
       "posting_id                    0\n",
       "area_business             50000\n",
       "total_open_amount             0\n",
       "baseline_create_date          0\n",
       "cust_payment_terms            0\n",
       "invoice_id                    5\n",
       "isOpen                        0\n",
       "dtype: int64"
      ]
     },
     "execution_count": 9,
     "metadata": {},
     "output_type": "execute_result"
    }
   ],
   "source": [
    "df.isnull().sum()"
   ]
  },
  {
   "cell_type": "code",
   "execution_count": 10,
   "id": "47d9e588",
   "metadata": {},
   "outputs": [],
   "source": [
    "### Change date columns into datetime data type"
   ]
  },
  {
   "cell_type": "code",
   "execution_count": 11,
   "id": "2cfedf03",
   "metadata": {},
   "outputs": [
    {
     "data": {
      "text/html": [
       "<div>\n",
       "<style scoped>\n",
       "    .dataframe tbody tr th:only-of-type {\n",
       "        vertical-align: middle;\n",
       "    }\n",
       "\n",
       "    .dataframe tbody tr th {\n",
       "        vertical-align: top;\n",
       "    }\n",
       "\n",
       "    .dataframe thead th {\n",
       "        text-align: right;\n",
       "    }\n",
       "</style>\n",
       "<table border=\"1\" class=\"dataframe\">\n",
       "  <thead>\n",
       "    <tr style=\"text-align: right;\">\n",
       "      <th></th>\n",
       "      <th>business_code</th>\n",
       "      <th>cust_number</th>\n",
       "      <th>name_customer</th>\n",
       "      <th>clear_date</th>\n",
       "      <th>buisness_year</th>\n",
       "      <th>doc_id</th>\n",
       "      <th>posting_date</th>\n",
       "      <th>document_create_date</th>\n",
       "      <th>document_create_date.1</th>\n",
       "      <th>due_in_date</th>\n",
       "      <th>invoice_currency</th>\n",
       "      <th>document type</th>\n",
       "      <th>posting_id</th>\n",
       "      <th>area_business</th>\n",
       "      <th>total_open_amount</th>\n",
       "      <th>baseline_create_date</th>\n",
       "      <th>cust_payment_terms</th>\n",
       "      <th>invoice_id</th>\n",
       "      <th>isOpen</th>\n",
       "      <th>document_create_date_1</th>\n",
       "    </tr>\n",
       "  </thead>\n",
       "  <tbody>\n",
       "    <tr>\n",
       "      <th>0</th>\n",
       "      <td>U001</td>\n",
       "      <td>CCCA02</td>\n",
       "      <td>KRAFT  llc</td>\n",
       "      <td>2019-03-01</td>\n",
       "      <td>2019.0</td>\n",
       "      <td>1.928613e+09</td>\n",
       "      <td>2019-01-13</td>\n",
       "      <td>2019-01-11</td>\n",
       "      <td>20190113</td>\n",
       "      <td>2019-02-17</td>\n",
       "      <td>USD</td>\n",
       "      <td>RV</td>\n",
       "      <td>1.0</td>\n",
       "      <td>NaN</td>\n",
       "      <td>95878.89</td>\n",
       "      <td>2019-01-13</td>\n",
       "      <td>NAG2</td>\n",
       "      <td>1.928613e+09</td>\n",
       "      <td>0</td>\n",
       "      <td>2019-01-13</td>\n",
       "    </tr>\n",
       "    <tr>\n",
       "      <th>1</th>\n",
       "      <td>U001</td>\n",
       "      <td>0200772670</td>\n",
       "      <td>ASSOCIAT systems</td>\n",
       "      <td>2019-05-15</td>\n",
       "      <td>2019.0</td>\n",
       "      <td>1.928940e+09</td>\n",
       "      <td>2019-03-10</td>\n",
       "      <td>2019-03-10</td>\n",
       "      <td>20190310</td>\n",
       "      <td>2019-05-14</td>\n",
       "      <td>USD</td>\n",
       "      <td>RV</td>\n",
       "      <td>1.0</td>\n",
       "      <td>NaN</td>\n",
       "      <td>7852.13</td>\n",
       "      <td>2019-03-10</td>\n",
       "      <td>NAGD</td>\n",
       "      <td>1.928940e+09</td>\n",
       "      <td>0</td>\n",
       "      <td>2019-03-10</td>\n",
       "    </tr>\n",
       "    <tr>\n",
       "      <th>2</th>\n",
       "      <td>U001</td>\n",
       "      <td>0200744019</td>\n",
       "      <td>TARG co</td>\n",
       "      <td>NaT</td>\n",
       "      <td>2020.0</td>\n",
       "      <td>1.930710e+09</td>\n",
       "      <td>2020-03-27</td>\n",
       "      <td>2020-03-27</td>\n",
       "      <td>20200327</td>\n",
       "      <td>2020-04-11</td>\n",
       "      <td>USD</td>\n",
       "      <td>RV</td>\n",
       "      <td>1.0</td>\n",
       "      <td>NaN</td>\n",
       "      <td>18118.48</td>\n",
       "      <td>2020-03-27</td>\n",
       "      <td>NAA8</td>\n",
       "      <td>1.930710e+09</td>\n",
       "      <td>1</td>\n",
       "      <td>2020-03-27</td>\n",
       "    </tr>\n",
       "    <tr>\n",
       "      <th>3</th>\n",
       "      <td>U001</td>\n",
       "      <td>0200769623</td>\n",
       "      <td>WAL-MAR corporation</td>\n",
       "      <td>2019-10-25</td>\n",
       "      <td>2019.0</td>\n",
       "      <td>1.930008e+09</td>\n",
       "      <td>2019-10-13</td>\n",
       "      <td>2019-10-13</td>\n",
       "      <td>20191013</td>\n",
       "      <td>2019-10-28</td>\n",
       "      <td>USD</td>\n",
       "      <td>RV</td>\n",
       "      <td>1.0</td>\n",
       "      <td>NaN</td>\n",
       "      <td>3225.75</td>\n",
       "      <td>2019-10-13</td>\n",
       "      <td>NAH4</td>\n",
       "      <td>1.930008e+09</td>\n",
       "      <td>0</td>\n",
       "      <td>2019-10-13</td>\n",
       "    </tr>\n",
       "    <tr>\n",
       "      <th>4</th>\n",
       "      <td>U001</td>\n",
       "      <td>0200777735</td>\n",
       "      <td>NASH  corporation</td>\n",
       "      <td>2019-06-21</td>\n",
       "      <td>2019.0</td>\n",
       "      <td>1.929455e+09</td>\n",
       "      <td>2019-06-07</td>\n",
       "      <td>2019-06-07</td>\n",
       "      <td>20190607</td>\n",
       "      <td>2019-06-22</td>\n",
       "      <td>USD</td>\n",
       "      <td>RV</td>\n",
       "      <td>1.0</td>\n",
       "      <td>NaN</td>\n",
       "      <td>9490.98</td>\n",
       "      <td>2019-06-07</td>\n",
       "      <td>NAA8</td>\n",
       "      <td>1.929455e+09</td>\n",
       "      <td>0</td>\n",
       "      <td>2019-06-07</td>\n",
       "    </tr>\n",
       "  </tbody>\n",
       "</table>\n",
       "</div>"
      ],
      "text/plain": [
       "  business_code cust_number        name_customer clear_date  buisness_year  \\\n",
       "0          U001      CCCA02           KRAFT  llc 2019-03-01         2019.0   \n",
       "1          U001  0200772670     ASSOCIAT systems 2019-05-15         2019.0   \n",
       "2          U001  0200744019              TARG co        NaT         2020.0   \n",
       "3          U001  0200769623  WAL-MAR corporation 2019-10-25         2019.0   \n",
       "4          U001  0200777735    NASH  corporation 2019-06-21         2019.0   \n",
       "\n",
       "         doc_id posting_date document_create_date  document_create_date.1  \\\n",
       "0  1.928613e+09   2019-01-13          2019-01-11                 20190113   \n",
       "1  1.928940e+09   2019-03-10          2019-03-10                 20190310   \n",
       "2  1.930710e+09   2020-03-27          2020-03-27                 20200327   \n",
       "3  1.930008e+09   2019-10-13          2019-10-13                 20191013   \n",
       "4  1.929455e+09   2019-06-07          2019-06-07                 20190607   \n",
       "\n",
       "   due_in_date invoice_currency document type  posting_id  area_business  \\\n",
       "0  2019-02-17               USD            RV         1.0            NaN   \n",
       "1  2019-05-14               USD            RV         1.0            NaN   \n",
       "2  2020-04-11               USD            RV         1.0            NaN   \n",
       "3  2019-10-28               USD            RV         1.0            NaN   \n",
       "4  2019-06-22               USD            RV         1.0            NaN   \n",
       "\n",
       "   total_open_amount baseline_create_date cust_payment_terms    invoice_id  \\\n",
       "0           95878.89           2019-01-13               NAG2  1.928613e+09   \n",
       "1            7852.13           2019-03-10               NAGD  1.928940e+09   \n",
       "2           18118.48           2020-03-27               NAA8  1.930710e+09   \n",
       "3            3225.75           2019-10-13               NAH4  1.930008e+09   \n",
       "4            9490.98           2019-06-07               NAA8  1.929455e+09   \n",
       "\n",
       "   isOpen document_create_date_1  \n",
       "0       0             2019-01-13  \n",
       "1       0             2019-03-10  \n",
       "2       1             2020-03-27  \n",
       "3       0             2019-10-13  \n",
       "4       0             2019-06-07  "
      ]
     },
     "execution_count": 11,
     "metadata": {},
     "output_type": "execute_result"
    }
   ],
   "source": [
    "df['due_in_date'] = pd.to_datetime(df['due_in_date'], format='%Y%m%d').dt.strftime('%Y-%m-%d ')\n",
    "df['baseline_create_date'] = pd.to_datetime(df['baseline_create_date'], format='%Y%m%d').dt.strftime('%Y-%m-%d')\n",
    "df['document_create_date'] = pd.to_datetime(df['document_create_date'], format='%Y%m%d').dt.strftime('%Y-%m-%d ')\n",
    "df['document_create_date_1'] = pd.to_datetime(df['document_create_date.1'], format='%Y%m%d').dt.strftime('%Y-%m-%d')\n",
    "\n",
    "df.head()\n"
   ]
  },
  {
   "cell_type": "code",
   "execution_count": 12,
   "id": "26434134",
   "metadata": {},
   "outputs": [
    {
     "data": {
      "text/plain": [
       "business_code                     object\n",
       "cust_number                       object\n",
       "name_customer                     object\n",
       "clear_date                datetime64[ns]\n",
       "buisness_year                    float64\n",
       "doc_id                           float64\n",
       "posting_date              datetime64[ns]\n",
       "document_create_date              object\n",
       "document_create_date.1             int64\n",
       "due_in_date                       object\n",
       "invoice_currency                  object\n",
       "document type                     object\n",
       "posting_id                       float64\n",
       "area_business                    float64\n",
       "total_open_amount                float64\n",
       "baseline_create_date              object\n",
       "cust_payment_terms                object\n",
       "invoice_id                       float64\n",
       "isOpen                             int64\n",
       "document_create_date_1            object\n",
       "dtype: object"
      ]
     },
     "execution_count": 12,
     "metadata": {},
     "output_type": "execute_result"
    }
   ],
   "source": [
    "df.dtypes"
   ]
  },
  {
   "cell_type": "code",
   "execution_count": 13,
   "id": "ea5e0ea2",
   "metadata": {},
   "outputs": [
    {
     "data": {
      "text/html": [
       "<div>\n",
       "<style scoped>\n",
       "    .dataframe tbody tr th:only-of-type {\n",
       "        vertical-align: middle;\n",
       "    }\n",
       "\n",
       "    .dataframe tbody tr th {\n",
       "        vertical-align: top;\n",
       "    }\n",
       "\n",
       "    .dataframe thead th {\n",
       "        text-align: right;\n",
       "    }\n",
       "</style>\n",
       "<table border=\"1\" class=\"dataframe\">\n",
       "  <thead>\n",
       "    <tr style=\"text-align: right;\">\n",
       "      <th></th>\n",
       "      <th>business_code</th>\n",
       "      <th>cust_number</th>\n",
       "      <th>name_customer</th>\n",
       "      <th>clear_date</th>\n",
       "      <th>buisness_year</th>\n",
       "      <th>doc_id</th>\n",
       "      <th>posting_date</th>\n",
       "      <th>document_create_date</th>\n",
       "      <th>document_create_date.1</th>\n",
       "      <th>due_in_date</th>\n",
       "      <th>invoice_currency</th>\n",
       "      <th>document type</th>\n",
       "      <th>posting_id</th>\n",
       "      <th>area_business</th>\n",
       "      <th>total_open_amount</th>\n",
       "      <th>baseline_create_date</th>\n",
       "      <th>cust_payment_terms</th>\n",
       "      <th>invoice_id</th>\n",
       "      <th>isOpen</th>\n",
       "      <th>document_create_date_1</th>\n",
       "    </tr>\n",
       "  </thead>\n",
       "  <tbody>\n",
       "    <tr>\n",
       "      <th>0</th>\n",
       "      <td>U001</td>\n",
       "      <td>CCCA02</td>\n",
       "      <td>KRAFT  llc</td>\n",
       "      <td>2019-03-01</td>\n",
       "      <td>2019.0</td>\n",
       "      <td>1.928613e+09</td>\n",
       "      <td>2019-01-13</td>\n",
       "      <td>2019-01-11</td>\n",
       "      <td>2019-01-13</td>\n",
       "      <td>2019-02-17</td>\n",
       "      <td>USD</td>\n",
       "      <td>RV</td>\n",
       "      <td>1.0</td>\n",
       "      <td>NaN</td>\n",
       "      <td>95878.89</td>\n",
       "      <td>2019-01-13</td>\n",
       "      <td>NAG2</td>\n",
       "      <td>1.928613e+09</td>\n",
       "      <td>0</td>\n",
       "      <td>0</td>\n",
       "    </tr>\n",
       "    <tr>\n",
       "      <th>1</th>\n",
       "      <td>U001</td>\n",
       "      <td>0200772670</td>\n",
       "      <td>ASSOCIAT systems</td>\n",
       "      <td>2019-05-15</td>\n",
       "      <td>2019.0</td>\n",
       "      <td>1.928940e+09</td>\n",
       "      <td>2019-03-10</td>\n",
       "      <td>2019-03-10</td>\n",
       "      <td>2019-03-10</td>\n",
       "      <td>2019-05-14</td>\n",
       "      <td>USD</td>\n",
       "      <td>RV</td>\n",
       "      <td>1.0</td>\n",
       "      <td>NaN</td>\n",
       "      <td>7852.13</td>\n",
       "      <td>2019-03-10</td>\n",
       "      <td>NAGD</td>\n",
       "      <td>1.928940e+09</td>\n",
       "      <td>0</td>\n",
       "      <td>0</td>\n",
       "    </tr>\n",
       "    <tr>\n",
       "      <th>2</th>\n",
       "      <td>U001</td>\n",
       "      <td>0200744019</td>\n",
       "      <td>TARG co</td>\n",
       "      <td>NaT</td>\n",
       "      <td>2020.0</td>\n",
       "      <td>1.930710e+09</td>\n",
       "      <td>2020-03-27</td>\n",
       "      <td>2020-03-27</td>\n",
       "      <td>2020-03-27</td>\n",
       "      <td>2020-04-11</td>\n",
       "      <td>USD</td>\n",
       "      <td>RV</td>\n",
       "      <td>1.0</td>\n",
       "      <td>NaN</td>\n",
       "      <td>18118.48</td>\n",
       "      <td>2020-03-27</td>\n",
       "      <td>NAA8</td>\n",
       "      <td>1.930710e+09</td>\n",
       "      <td>1</td>\n",
       "      <td>0</td>\n",
       "    </tr>\n",
       "    <tr>\n",
       "      <th>3</th>\n",
       "      <td>U001</td>\n",
       "      <td>0200769623</td>\n",
       "      <td>WAL-MAR corporation</td>\n",
       "      <td>2019-10-25</td>\n",
       "      <td>2019.0</td>\n",
       "      <td>1.930008e+09</td>\n",
       "      <td>2019-10-13</td>\n",
       "      <td>2019-10-13</td>\n",
       "      <td>2019-10-13</td>\n",
       "      <td>2019-10-28</td>\n",
       "      <td>USD</td>\n",
       "      <td>RV</td>\n",
       "      <td>1.0</td>\n",
       "      <td>NaN</td>\n",
       "      <td>3225.75</td>\n",
       "      <td>2019-10-13</td>\n",
       "      <td>NAH4</td>\n",
       "      <td>1.930008e+09</td>\n",
       "      <td>0</td>\n",
       "      <td>0</td>\n",
       "    </tr>\n",
       "    <tr>\n",
       "      <th>4</th>\n",
       "      <td>U001</td>\n",
       "      <td>0200777735</td>\n",
       "      <td>NASH  corporation</td>\n",
       "      <td>2019-06-21</td>\n",
       "      <td>2019.0</td>\n",
       "      <td>1.929455e+09</td>\n",
       "      <td>2019-06-07</td>\n",
       "      <td>2019-06-07</td>\n",
       "      <td>2019-06-07</td>\n",
       "      <td>2019-06-22</td>\n",
       "      <td>USD</td>\n",
       "      <td>RV</td>\n",
       "      <td>1.0</td>\n",
       "      <td>NaN</td>\n",
       "      <td>9490.98</td>\n",
       "      <td>2019-06-07</td>\n",
       "      <td>NAA8</td>\n",
       "      <td>1.929455e+09</td>\n",
       "      <td>0</td>\n",
       "      <td>0</td>\n",
       "    </tr>\n",
       "    <tr>\n",
       "      <th>...</th>\n",
       "      <td>...</td>\n",
       "      <td>...</td>\n",
       "      <td>...</td>\n",
       "      <td>...</td>\n",
       "      <td>...</td>\n",
       "      <td>...</td>\n",
       "      <td>...</td>\n",
       "      <td>...</td>\n",
       "      <td>...</td>\n",
       "      <td>...</td>\n",
       "      <td>...</td>\n",
       "      <td>...</td>\n",
       "      <td>...</td>\n",
       "      <td>...</td>\n",
       "      <td>...</td>\n",
       "      <td>...</td>\n",
       "      <td>...</td>\n",
       "      <td>...</td>\n",
       "      <td>...</td>\n",
       "      <td>...</td>\n",
       "    </tr>\n",
       "    <tr>\n",
       "      <th>49995</th>\n",
       "      <td>U001</td>\n",
       "      <td>0200561861</td>\n",
       "      <td>CO llc</td>\n",
       "      <td>2019-11-22</td>\n",
       "      <td>2019.0</td>\n",
       "      <td>1.930126e+09</td>\n",
       "      <td>2019-11-08</td>\n",
       "      <td>2019-11-07</td>\n",
       "      <td>2019-11-08</td>\n",
       "      <td>2019-11-23</td>\n",
       "      <td>USD</td>\n",
       "      <td>RV</td>\n",
       "      <td>1.0</td>\n",
       "      <td>NaN</td>\n",
       "      <td>50632.23</td>\n",
       "      <td>2019-11-08</td>\n",
       "      <td>NAA8</td>\n",
       "      <td>1.930126e+09</td>\n",
       "      <td>0</td>\n",
       "      <td>0</td>\n",
       "    </tr>\n",
       "    <tr>\n",
       "      <th>49996</th>\n",
       "      <td>U001</td>\n",
       "      <td>0200769623</td>\n",
       "      <td>WAL-MAR llc</td>\n",
       "      <td>2019-10-24</td>\n",
       "      <td>2019.0</td>\n",
       "      <td>1.930009e+09</td>\n",
       "      <td>2019-10-14</td>\n",
       "      <td>2019-10-13</td>\n",
       "      <td>2019-10-14</td>\n",
       "      <td>2019-10-29</td>\n",
       "      <td>USD</td>\n",
       "      <td>RV</td>\n",
       "      <td>1.0</td>\n",
       "      <td>NaN</td>\n",
       "      <td>48481.90</td>\n",
       "      <td>2019-10-14</td>\n",
       "      <td>NAH4</td>\n",
       "      <td>1.930009e+09</td>\n",
       "      <td>0</td>\n",
       "      <td>0</td>\n",
       "    </tr>\n",
       "    <tr>\n",
       "      <th>49997</th>\n",
       "      <td>U001</td>\n",
       "      <td>0200769623</td>\n",
       "      <td>WAL-MAR co</td>\n",
       "      <td>2019-08-13</td>\n",
       "      <td>2019.0</td>\n",
       "      <td>1.929697e+09</td>\n",
       "      <td>2019-08-03</td>\n",
       "      <td>2019-08-03</td>\n",
       "      <td>2019-08-03</td>\n",
       "      <td>2019-08-18</td>\n",
       "      <td>USD</td>\n",
       "      <td>RV</td>\n",
       "      <td>1.0</td>\n",
       "      <td>NaN</td>\n",
       "      <td>10281.44</td>\n",
       "      <td>2019-08-03</td>\n",
       "      <td>NAH4</td>\n",
       "      <td>1.929697e+09</td>\n",
       "      <td>0</td>\n",
       "      <td>0</td>\n",
       "    </tr>\n",
       "    <tr>\n",
       "      <th>49998</th>\n",
       "      <td>U001</td>\n",
       "      <td>0200769623</td>\n",
       "      <td>WAL-MAR corporation</td>\n",
       "      <td>2019-09-11</td>\n",
       "      <td>2019.0</td>\n",
       "      <td>1.929818e+09</td>\n",
       "      <td>2019-08-31</td>\n",
       "      <td>2019-08-31</td>\n",
       "      <td>2019-08-31</td>\n",
       "      <td>2019-09-15</td>\n",
       "      <td>USD</td>\n",
       "      <td>RV</td>\n",
       "      <td>1.0</td>\n",
       "      <td>NaN</td>\n",
       "      <td>46816.78</td>\n",
       "      <td>2019-08-31</td>\n",
       "      <td>NAH4</td>\n",
       "      <td>1.929818e+09</td>\n",
       "      <td>0</td>\n",
       "      <td>0</td>\n",
       "    </tr>\n",
       "    <tr>\n",
       "      <th>49999</th>\n",
       "      <td>U001</td>\n",
       "      <td>0200772670</td>\n",
       "      <td>ASSOCIAT us</td>\n",
       "      <td>NaT</td>\n",
       "      <td>2020.0</td>\n",
       "      <td>1.930688e+09</td>\n",
       "      <td>2020-03-23</td>\n",
       "      <td>2020-03-23</td>\n",
       "      <td>2020-03-23</td>\n",
       "      <td>2020-04-07</td>\n",
       "      <td>USD</td>\n",
       "      <td>RV</td>\n",
       "      <td>1.0</td>\n",
       "      <td>NaN</td>\n",
       "      <td>18165.53</td>\n",
       "      <td>2020-03-23</td>\n",
       "      <td>NAU5</td>\n",
       "      <td>1.930688e+09</td>\n",
       "      <td>1</td>\n",
       "      <td>0</td>\n",
       "    </tr>\n",
       "  </tbody>\n",
       "</table>\n",
       "<p>50000 rows × 20 columns</p>\n",
       "</div>"
      ],
      "text/plain": [
       "      business_code cust_number        name_customer clear_date  \\\n",
       "0              U001      CCCA02           KRAFT  llc 2019-03-01   \n",
       "1              U001  0200772670     ASSOCIAT systems 2019-05-15   \n",
       "2              U001  0200744019              TARG co        NaT   \n",
       "3              U001  0200769623  WAL-MAR corporation 2019-10-25   \n",
       "4              U001  0200777735    NASH  corporation 2019-06-21   \n",
       "...             ...         ...                  ...        ...   \n",
       "49995          U001  0200561861               CO llc 2019-11-22   \n",
       "49996          U001  0200769623          WAL-MAR llc 2019-10-24   \n",
       "49997          U001  0200769623           WAL-MAR co 2019-08-13   \n",
       "49998          U001  0200769623  WAL-MAR corporation 2019-09-11   \n",
       "49999          U001  0200772670          ASSOCIAT us        NaT   \n",
       "\n",
       "       buisness_year        doc_id posting_date document_create_date  \\\n",
       "0             2019.0  1.928613e+09   2019-01-13           2019-01-11   \n",
       "1             2019.0  1.928940e+09   2019-03-10           2019-03-10   \n",
       "2             2020.0  1.930710e+09   2020-03-27           2020-03-27   \n",
       "3             2019.0  1.930008e+09   2019-10-13           2019-10-13   \n",
       "4             2019.0  1.929455e+09   2019-06-07           2019-06-07   \n",
       "...              ...           ...          ...                  ...   \n",
       "49995         2019.0  1.930126e+09   2019-11-08           2019-11-07   \n",
       "49996         2019.0  1.930009e+09   2019-10-14           2019-10-13   \n",
       "49997         2019.0  1.929697e+09   2019-08-03           2019-08-03   \n",
       "49998         2019.0  1.929818e+09   2019-08-31           2019-08-31   \n",
       "49999         2020.0  1.930688e+09   2020-03-23           2020-03-23   \n",
       "\n",
       "      document_create_date.1 due_in_date invoice_currency document type  \\\n",
       "0                 2019-01-13  2019-02-17              USD            RV   \n",
       "1                 2019-03-10  2019-05-14              USD            RV   \n",
       "2                 2020-03-27  2020-04-11              USD            RV   \n",
       "3                 2019-10-13  2019-10-28              USD            RV   \n",
       "4                 2019-06-07  2019-06-22              USD            RV   \n",
       "...                      ...         ...              ...           ...   \n",
       "49995             2019-11-08  2019-11-23              USD            RV   \n",
       "49996             2019-10-14  2019-10-29              USD            RV   \n",
       "49997             2019-08-03  2019-08-18              USD            RV   \n",
       "49998             2019-08-31  2019-09-15              USD            RV   \n",
       "49999             2020-03-23  2020-04-07              USD            RV   \n",
       "\n",
       "       posting_id  area_business  total_open_amount baseline_create_date  \\\n",
       "0             1.0            NaN           95878.89           2019-01-13   \n",
       "1             1.0            NaN            7852.13           2019-03-10   \n",
       "2             1.0            NaN           18118.48           2020-03-27   \n",
       "3             1.0            NaN            3225.75           2019-10-13   \n",
       "4             1.0            NaN            9490.98           2019-06-07   \n",
       "...           ...            ...                ...                  ...   \n",
       "49995         1.0            NaN           50632.23           2019-11-08   \n",
       "49996         1.0            NaN           48481.90           2019-10-14   \n",
       "49997         1.0            NaN           10281.44           2019-08-03   \n",
       "49998         1.0            NaN           46816.78           2019-08-31   \n",
       "49999         1.0            NaN           18165.53           2020-03-23   \n",
       "\n",
       "      cust_payment_terms    invoice_id  isOpen  document_create_date_1  \n",
       "0                   NAG2  1.928613e+09       0                       0  \n",
       "1                   NAGD  1.928940e+09       0                       0  \n",
       "2                   NAA8  1.930710e+09       1                       0  \n",
       "3                   NAH4  1.930008e+09       0                       0  \n",
       "4                   NAA8  1.929455e+09       0                       0  \n",
       "...                  ...           ...     ...                     ...  \n",
       "49995               NAA8  1.930126e+09       0                       0  \n",
       "49996               NAH4  1.930009e+09       0                       0  \n",
       "49997               NAH4  1.929697e+09       0                       0  \n",
       "49998               NAH4  1.929818e+09       0                       0  \n",
       "49999               NAU5  1.930688e+09       1                       0  \n",
       "\n",
       "[50000 rows x 20 columns]"
      ]
     },
     "execution_count": 13,
     "metadata": {},
     "output_type": "execute_result"
    }
   ],
   "source": [
    "# Change date columns into datetime data type\n",
    "df['due_in_date'] = pd.to_datetime(df.due_in_date)\n",
    "df['baseline_create_date'] = pd.to_datetime(df.baseline_create_date)\n",
    "df['document_create_date'] = pd.to_datetime(df.document_create_date)\n",
    "df['document_create_date.1'] = pd.to_datetime(df.document_create_date_1 )\n",
    "# extra column created document_created_date_1 which will be removed further\n",
    "# now columns=20\n",
    "df['document_create_date_1'] = 0\n",
    "\n",
    "df"
   ]
  },
  {
   "cell_type": "code",
   "execution_count": 14,
   "id": "88491779",
   "metadata": {},
   "outputs": [
    {
     "data": {
      "text/plain": [
       "business_code                     object\n",
       "cust_number                       object\n",
       "name_customer                     object\n",
       "clear_date                datetime64[ns]\n",
       "buisness_year                    float64\n",
       "doc_id                           float64\n",
       "posting_date              datetime64[ns]\n",
       "document_create_date      datetime64[ns]\n",
       "document_create_date.1    datetime64[ns]\n",
       "due_in_date               datetime64[ns]\n",
       "invoice_currency                  object\n",
       "document type                     object\n",
       "posting_id                       float64\n",
       "area_business                    float64\n",
       "total_open_amount                float64\n",
       "baseline_create_date      datetime64[ns]\n",
       "cust_payment_terms                object\n",
       "invoice_id                       float64\n",
       "isOpen                             int64\n",
       "document_create_date_1             int64\n",
       "dtype: object"
      ]
     },
     "execution_count": 14,
     "metadata": {},
     "output_type": "execute_result"
    }
   ],
   "source": [
    "df.dtypes\n"
   ]
  },
  {
   "cell_type": "code",
   "execution_count": 15,
   "id": "f7c722f1",
   "metadata": {
    "scrolled": true
   },
   "outputs": [
    {
     "data": {
      "text/html": [
       "<div>\n",
       "<style scoped>\n",
       "    .dataframe tbody tr th:only-of-type {\n",
       "        vertical-align: middle;\n",
       "    }\n",
       "\n",
       "    .dataframe tbody tr th {\n",
       "        vertical-align: top;\n",
       "    }\n",
       "\n",
       "    .dataframe thead th {\n",
       "        text-align: right;\n",
       "    }\n",
       "</style>\n",
       "<table border=\"1\" class=\"dataframe\">\n",
       "  <thead>\n",
       "    <tr style=\"text-align: right;\">\n",
       "      <th></th>\n",
       "      <th>buisness_year</th>\n",
       "      <th>doc_id</th>\n",
       "      <th>posting_id</th>\n",
       "      <th>area_business</th>\n",
       "      <th>total_open_amount</th>\n",
       "      <th>invoice_id</th>\n",
       "      <th>isOpen</th>\n",
       "      <th>document_create_date_1</th>\n",
       "    </tr>\n",
       "  </thead>\n",
       "  <tbody>\n",
       "    <tr>\n",
       "      <th>count</th>\n",
       "      <td>50000.000000</td>\n",
       "      <td>5.000000e+04</td>\n",
       "      <td>50000.0</td>\n",
       "      <td>0.0</td>\n",
       "      <td>50000.000000</td>\n",
       "      <td>4.999500e+04</td>\n",
       "      <td>50000.000000</td>\n",
       "      <td>50000.0</td>\n",
       "    </tr>\n",
       "    <tr>\n",
       "      <th>mean</th>\n",
       "      <td>2019.303340</td>\n",
       "      <td>2.010248e+09</td>\n",
       "      <td>1.0</td>\n",
       "      <td>NaN</td>\n",
       "      <td>31989.791884</td>\n",
       "      <td>2.009499e+09</td>\n",
       "      <td>0.200000</td>\n",
       "      <td>0.0</td>\n",
       "    </tr>\n",
       "    <tr>\n",
       "      <th>std</th>\n",
       "      <td>0.459705</td>\n",
       "      <td>2.837824e+08</td>\n",
       "      <td>0.0</td>\n",
       "      <td>NaN</td>\n",
       "      <td>38678.717242</td>\n",
       "      <td>2.737327e+08</td>\n",
       "      <td>0.400004</td>\n",
       "      <td>0.0</td>\n",
       "    </tr>\n",
       "    <tr>\n",
       "      <th>min</th>\n",
       "      <td>2019.000000</td>\n",
       "      <td>1.928502e+09</td>\n",
       "      <td>1.0</td>\n",
       "      <td>NaN</td>\n",
       "      <td>0.170000</td>\n",
       "      <td>1.928502e+09</td>\n",
       "      <td>0.000000</td>\n",
       "      <td>0.0</td>\n",
       "    </tr>\n",
       "    <tr>\n",
       "      <th>25%</th>\n",
       "      <td>2019.000000</td>\n",
       "      <td>1.929329e+09</td>\n",
       "      <td>1.0</td>\n",
       "      <td>NaN</td>\n",
       "      <td>4839.677500</td>\n",
       "      <td>1.929329e+09</td>\n",
       "      <td>0.000000</td>\n",
       "      <td>0.0</td>\n",
       "    </tr>\n",
       "    <tr>\n",
       "      <th>50%</th>\n",
       "      <td>2019.000000</td>\n",
       "      <td>1.929951e+09</td>\n",
       "      <td>1.0</td>\n",
       "      <td>NaN</td>\n",
       "      <td>17290.630000</td>\n",
       "      <td>1.929951e+09</td>\n",
       "      <td>0.000000</td>\n",
       "      <td>0.0</td>\n",
       "    </tr>\n",
       "    <tr>\n",
       "      <th>75%</th>\n",
       "      <td>2020.000000</td>\n",
       "      <td>1.930613e+09</td>\n",
       "      <td>1.0</td>\n",
       "      <td>NaN</td>\n",
       "      <td>46832.040000</td>\n",
       "      <td>1.930612e+09</td>\n",
       "      <td>0.000000</td>\n",
       "      <td>0.0</td>\n",
       "    </tr>\n",
       "    <tr>\n",
       "      <th>max</th>\n",
       "      <td>2020.000000</td>\n",
       "      <td>9.500000e+09</td>\n",
       "      <td>1.0</td>\n",
       "      <td>NaN</td>\n",
       "      <td>792766.350000</td>\n",
       "      <td>2.960636e+09</td>\n",
       "      <td>1.000000</td>\n",
       "      <td>0.0</td>\n",
       "    </tr>\n",
       "  </tbody>\n",
       "</table>\n",
       "</div>"
      ],
      "text/plain": [
       "       buisness_year        doc_id  posting_id  area_business  \\\n",
       "count   50000.000000  5.000000e+04     50000.0            0.0   \n",
       "mean     2019.303340  2.010248e+09         1.0            NaN   \n",
       "std         0.459705  2.837824e+08         0.0            NaN   \n",
       "min      2019.000000  1.928502e+09         1.0            NaN   \n",
       "25%      2019.000000  1.929329e+09         1.0            NaN   \n",
       "50%      2019.000000  1.929951e+09         1.0            NaN   \n",
       "75%      2020.000000  1.930613e+09         1.0            NaN   \n",
       "max      2020.000000  9.500000e+09         1.0            NaN   \n",
       "\n",
       "       total_open_amount    invoice_id        isOpen  document_create_date_1  \n",
       "count       50000.000000  4.999500e+04  50000.000000                 50000.0  \n",
       "mean        31989.791884  2.009499e+09      0.200000                     0.0  \n",
       "std         38678.717242  2.737327e+08      0.400004                     0.0  \n",
       "min             0.170000  1.928502e+09      0.000000                     0.0  \n",
       "25%          4839.677500  1.929329e+09      0.000000                     0.0  \n",
       "50%         17290.630000  1.929951e+09      0.000000                     0.0  \n",
       "75%         46832.040000  1.930612e+09      0.000000                     0.0  \n",
       "max        792766.350000  2.960636e+09      1.000000                     0.0  "
      ]
     },
     "execution_count": 15,
     "metadata": {},
     "output_type": "execute_result"
    }
   ],
   "source": [
    "df.describe()"
   ]
  },
  {
   "cell_type": "code",
   "execution_count": 16,
   "id": "6bb01817",
   "metadata": {},
   "outputs": [],
   "source": [
    "# Cleaning Dataset"
   ]
  },
  {
   "cell_type": "code",
   "execution_count": 17,
   "id": "4b362532",
   "metadata": {},
   "outputs": [],
   "source": [
    "# Check for duplicates Rows"
   ]
  },
  {
   "cell_type": "code",
   "execution_count": 18,
   "id": "64fec79a",
   "metadata": {},
   "outputs": [
    {
     "data": {
      "text/html": [
       "<div>\n",
       "<style scoped>\n",
       "    .dataframe tbody tr th:only-of-type {\n",
       "        vertical-align: middle;\n",
       "    }\n",
       "\n",
       "    .dataframe tbody tr th {\n",
       "        vertical-align: top;\n",
       "    }\n",
       "\n",
       "    .dataframe thead th {\n",
       "        text-align: right;\n",
       "    }\n",
       "</style>\n",
       "<table border=\"1\" class=\"dataframe\">\n",
       "  <thead>\n",
       "    <tr style=\"text-align: right;\">\n",
       "      <th></th>\n",
       "      <th>business_code</th>\n",
       "      <th>cust_number</th>\n",
       "      <th>name_customer</th>\n",
       "      <th>clear_date</th>\n",
       "      <th>buisness_year</th>\n",
       "      <th>doc_id</th>\n",
       "      <th>posting_date</th>\n",
       "      <th>document_create_date</th>\n",
       "      <th>document_create_date.1</th>\n",
       "      <th>due_in_date</th>\n",
       "      <th>invoice_currency</th>\n",
       "      <th>document type</th>\n",
       "      <th>posting_id</th>\n",
       "      <th>area_business</th>\n",
       "      <th>total_open_amount</th>\n",
       "      <th>baseline_create_date</th>\n",
       "      <th>cust_payment_terms</th>\n",
       "      <th>invoice_id</th>\n",
       "      <th>isOpen</th>\n",
       "      <th>document_create_date_1</th>\n",
       "    </tr>\n",
       "  </thead>\n",
       "  <tbody>\n",
       "    <tr>\n",
       "      <th>451</th>\n",
       "      <td>U001</td>\n",
       "      <td>0200769623</td>\n",
       "      <td>WAL-MAR foundation</td>\n",
       "      <td>2019-10-29</td>\n",
       "      <td>2019.0</td>\n",
       "      <td>1.930007e+09</td>\n",
       "      <td>2019-10-13</td>\n",
       "      <td>2019-10-12</td>\n",
       "      <td>2019-10-13</td>\n",
       "      <td>2019-10-28</td>\n",
       "      <td>USD</td>\n",
       "      <td>RV</td>\n",
       "      <td>1.0</td>\n",
       "      <td>NaN</td>\n",
       "      <td>20767.01</td>\n",
       "      <td>2019-10-13</td>\n",
       "      <td>NAH4</td>\n",
       "      <td>1.930007e+09</td>\n",
       "      <td>0</td>\n",
       "      <td>0</td>\n",
       "    </tr>\n",
       "    <tr>\n",
       "      <th>774</th>\n",
       "      <td>U001</td>\n",
       "      <td>0200769623</td>\n",
       "      <td>WAL-MAR co</td>\n",
       "      <td>2019-12-06</td>\n",
       "      <td>2019.0</td>\n",
       "      <td>1.930191e+09</td>\n",
       "      <td>2019-11-26</td>\n",
       "      <td>2019-11-25</td>\n",
       "      <td>2019-11-26</td>\n",
       "      <td>2019-12-11</td>\n",
       "      <td>USD</td>\n",
       "      <td>RV</td>\n",
       "      <td>1.0</td>\n",
       "      <td>NaN</td>\n",
       "      <td>20021.32</td>\n",
       "      <td>2019-11-26</td>\n",
       "      <td>NAH4</td>\n",
       "      <td>1.930191e+09</td>\n",
       "      <td>0</td>\n",
       "      <td>0</td>\n",
       "    </tr>\n",
       "    <tr>\n",
       "      <th>1206</th>\n",
       "      <td>U001</td>\n",
       "      <td>0200722444</td>\n",
       "      <td>PERFOR associates</td>\n",
       "      <td>2019-02-08</td>\n",
       "      <td>2019.0</td>\n",
       "      <td>1.928669e+09</td>\n",
       "      <td>2019-01-24</td>\n",
       "      <td>2019-01-23</td>\n",
       "      <td>2019-01-24</td>\n",
       "      <td>2019-02-08</td>\n",
       "      <td>USD</td>\n",
       "      <td>RV</td>\n",
       "      <td>1.0</td>\n",
       "      <td>NaN</td>\n",
       "      <td>37375.03</td>\n",
       "      <td>2019-01-24</td>\n",
       "      <td>NAA8</td>\n",
       "      <td>1.928669e+09</td>\n",
       "      <td>0</td>\n",
       "      <td>0</td>\n",
       "    </tr>\n",
       "    <tr>\n",
       "      <th>2882</th>\n",
       "      <td>U001</td>\n",
       "      <td>0200397082</td>\n",
       "      <td>GENE associates</td>\n",
       "      <td>2019-04-10</td>\n",
       "      <td>2019.0</td>\n",
       "      <td>1.928594e+09</td>\n",
       "      <td>2019-01-08</td>\n",
       "      <td>2019-01-09</td>\n",
       "      <td>2019-01-08</td>\n",
       "      <td>2019-04-08</td>\n",
       "      <td>USD</td>\n",
       "      <td>RV</td>\n",
       "      <td>1.0</td>\n",
       "      <td>NaN</td>\n",
       "      <td>11845.00</td>\n",
       "      <td>2019-01-08</td>\n",
       "      <td>NAVM</td>\n",
       "      <td>1.928594e+09</td>\n",
       "      <td>0</td>\n",
       "      <td>0</td>\n",
       "    </tr>\n",
       "    <tr>\n",
       "      <th>3421</th>\n",
       "      <td>CA02</td>\n",
       "      <td>0100009866</td>\n",
       "      <td>BUNZ associates</td>\n",
       "      <td>2019-08-07</td>\n",
       "      <td>2019.0</td>\n",
       "      <td>2.960567e+09</td>\n",
       "      <td>2019-07-22</td>\n",
       "      <td>2019-07-22</td>\n",
       "      <td>2019-07-22</td>\n",
       "      <td>2019-08-02</td>\n",
       "      <td>CAD</td>\n",
       "      <td>RV</td>\n",
       "      <td>1.0</td>\n",
       "      <td>NaN</td>\n",
       "      <td>13138.40</td>\n",
       "      <td>2019-07-23</td>\n",
       "      <td>CA10</td>\n",
       "      <td>2.960567e+09</td>\n",
       "      <td>0</td>\n",
       "      <td>0</td>\n",
       "    </tr>\n",
       "    <tr>\n",
       "      <th>...</th>\n",
       "      <td>...</td>\n",
       "      <td>...</td>\n",
       "      <td>...</td>\n",
       "      <td>...</td>\n",
       "      <td>...</td>\n",
       "      <td>...</td>\n",
       "      <td>...</td>\n",
       "      <td>...</td>\n",
       "      <td>...</td>\n",
       "      <td>...</td>\n",
       "      <td>...</td>\n",
       "      <td>...</td>\n",
       "      <td>...</td>\n",
       "      <td>...</td>\n",
       "      <td>...</td>\n",
       "      <td>...</td>\n",
       "      <td>...</td>\n",
       "      <td>...</td>\n",
       "      <td>...</td>\n",
       "      <td>...</td>\n",
       "    </tr>\n",
       "    <tr>\n",
       "      <th>49919</th>\n",
       "      <td>U001</td>\n",
       "      <td>200820380</td>\n",
       "      <td>SMITH'S corporation</td>\n",
       "      <td>2019-07-25</td>\n",
       "      <td>2019.0</td>\n",
       "      <td>1.929595e+09</td>\n",
       "      <td>2019-07-10</td>\n",
       "      <td>2019-07-09</td>\n",
       "      <td>2019-07-10</td>\n",
       "      <td>2019-07-25</td>\n",
       "      <td>USD</td>\n",
       "      <td>RV</td>\n",
       "      <td>1.0</td>\n",
       "      <td>NaN</td>\n",
       "      <td>47646.35</td>\n",
       "      <td>2019-07-10</td>\n",
       "      <td>NAA8</td>\n",
       "      <td>1.929595e+09</td>\n",
       "      <td>0</td>\n",
       "      <td>0</td>\n",
       "    </tr>\n",
       "    <tr>\n",
       "      <th>49931</th>\n",
       "      <td>CA02</td>\n",
       "      <td>0140105686</td>\n",
       "      <td>SYSC foundation</td>\n",
       "      <td>2019-09-05</td>\n",
       "      <td>2019.0</td>\n",
       "      <td>2.960573e+09</td>\n",
       "      <td>2019-08-17</td>\n",
       "      <td>2019-08-17</td>\n",
       "      <td>2019-08-17</td>\n",
       "      <td>2019-09-01</td>\n",
       "      <td>CAD</td>\n",
       "      <td>RV</td>\n",
       "      <td>1.0</td>\n",
       "      <td>NaN</td>\n",
       "      <td>15069.00</td>\n",
       "      <td>2019-08-22</td>\n",
       "      <td>CA10</td>\n",
       "      <td>2.960573e+09</td>\n",
       "      <td>0</td>\n",
       "      <td>0</td>\n",
       "    </tr>\n",
       "    <tr>\n",
       "      <th>49940</th>\n",
       "      <td>U001</td>\n",
       "      <td>0200776463</td>\n",
       "      <td>KROGE foundation</td>\n",
       "      <td>NaT</td>\n",
       "      <td>2020.0</td>\n",
       "      <td>1.930781e+09</td>\n",
       "      <td>2020-04-13</td>\n",
       "      <td>2020-04-13</td>\n",
       "      <td>2020-04-13</td>\n",
       "      <td>2020-04-28</td>\n",
       "      <td>USD</td>\n",
       "      <td>RV</td>\n",
       "      <td>1.0</td>\n",
       "      <td>NaN</td>\n",
       "      <td>131751.56</td>\n",
       "      <td>2020-04-13</td>\n",
       "      <td>NAA8</td>\n",
       "      <td>1.930781e+09</td>\n",
       "      <td>1</td>\n",
       "      <td>0</td>\n",
       "    </tr>\n",
       "    <tr>\n",
       "      <th>49969</th>\n",
       "      <td>U001</td>\n",
       "      <td>0200712187</td>\n",
       "      <td>SPAR associates</td>\n",
       "      <td>NaT</td>\n",
       "      <td>2020.0</td>\n",
       "      <td>1.930644e+09</td>\n",
       "      <td>2020-03-12</td>\n",
       "      <td>2020-03-12</td>\n",
       "      <td>2020-03-12</td>\n",
       "      <td>2020-05-16</td>\n",
       "      <td>USD</td>\n",
       "      <td>RV</td>\n",
       "      <td>1.0</td>\n",
       "      <td>NaN</td>\n",
       "      <td>75017.65</td>\n",
       "      <td>2020-03-12</td>\n",
       "      <td>NAGD</td>\n",
       "      <td>1.930644e+09</td>\n",
       "      <td>1</td>\n",
       "      <td>0</td>\n",
       "    </tr>\n",
       "    <tr>\n",
       "      <th>49979</th>\n",
       "      <td>U001</td>\n",
       "      <td>0200416837</td>\n",
       "      <td>DEC systems</td>\n",
       "      <td>NaT</td>\n",
       "      <td>2020.0</td>\n",
       "      <td>1.930753e+09</td>\n",
       "      <td>2020-04-06</td>\n",
       "      <td>2020-04-06</td>\n",
       "      <td>2020-04-06</td>\n",
       "      <td>2020-04-11</td>\n",
       "      <td>USD</td>\n",
       "      <td>RV</td>\n",
       "      <td>1.0</td>\n",
       "      <td>NaN</td>\n",
       "      <td>1174.50</td>\n",
       "      <td>2020-04-01</td>\n",
       "      <td>NAM2</td>\n",
       "      <td>1.930753e+09</td>\n",
       "      <td>1</td>\n",
       "      <td>0</td>\n",
       "    </tr>\n",
       "  </tbody>\n",
       "</table>\n",
       "<p>1164 rows × 20 columns</p>\n",
       "</div>"
      ],
      "text/plain": [
       "      business_code cust_number        name_customer clear_date  \\\n",
       "451            U001  0200769623   WAL-MAR foundation 2019-10-29   \n",
       "774            U001  0200769623           WAL-MAR co 2019-12-06   \n",
       "1206           U001  0200722444    PERFOR associates 2019-02-08   \n",
       "2882           U001  0200397082      GENE associates 2019-04-10   \n",
       "3421           CA02  0100009866      BUNZ associates 2019-08-07   \n",
       "...             ...         ...                  ...        ...   \n",
       "49919          U001   200820380  SMITH'S corporation 2019-07-25   \n",
       "49931          CA02  0140105686      SYSC foundation 2019-09-05   \n",
       "49940          U001  0200776463     KROGE foundation        NaT   \n",
       "49969          U001  0200712187      SPAR associates        NaT   \n",
       "49979          U001  0200416837          DEC systems        NaT   \n",
       "\n",
       "       buisness_year        doc_id posting_date document_create_date  \\\n",
       "451           2019.0  1.930007e+09   2019-10-13           2019-10-12   \n",
       "774           2019.0  1.930191e+09   2019-11-26           2019-11-25   \n",
       "1206          2019.0  1.928669e+09   2019-01-24           2019-01-23   \n",
       "2882          2019.0  1.928594e+09   2019-01-08           2019-01-09   \n",
       "3421          2019.0  2.960567e+09   2019-07-22           2019-07-22   \n",
       "...              ...           ...          ...                  ...   \n",
       "49919         2019.0  1.929595e+09   2019-07-10           2019-07-09   \n",
       "49931         2019.0  2.960573e+09   2019-08-17           2019-08-17   \n",
       "49940         2020.0  1.930781e+09   2020-04-13           2020-04-13   \n",
       "49969         2020.0  1.930644e+09   2020-03-12           2020-03-12   \n",
       "49979         2020.0  1.930753e+09   2020-04-06           2020-04-06   \n",
       "\n",
       "      document_create_date.1 due_in_date invoice_currency document type  \\\n",
       "451               2019-10-13  2019-10-28              USD            RV   \n",
       "774               2019-11-26  2019-12-11              USD            RV   \n",
       "1206              2019-01-24  2019-02-08              USD            RV   \n",
       "2882              2019-01-08  2019-04-08              USD            RV   \n",
       "3421              2019-07-22  2019-08-02              CAD            RV   \n",
       "...                      ...         ...              ...           ...   \n",
       "49919             2019-07-10  2019-07-25              USD            RV   \n",
       "49931             2019-08-17  2019-09-01              CAD            RV   \n",
       "49940             2020-04-13  2020-04-28              USD            RV   \n",
       "49969             2020-03-12  2020-05-16              USD            RV   \n",
       "49979             2020-04-06  2020-04-11              USD            RV   \n",
       "\n",
       "       posting_id  area_business  total_open_amount baseline_create_date  \\\n",
       "451           1.0            NaN           20767.01           2019-10-13   \n",
       "774           1.0            NaN           20021.32           2019-11-26   \n",
       "1206          1.0            NaN           37375.03           2019-01-24   \n",
       "2882          1.0            NaN           11845.00           2019-01-08   \n",
       "3421          1.0            NaN           13138.40           2019-07-23   \n",
       "...           ...            ...                ...                  ...   \n",
       "49919         1.0            NaN           47646.35           2019-07-10   \n",
       "49931         1.0            NaN           15069.00           2019-08-22   \n",
       "49940         1.0            NaN          131751.56           2020-04-13   \n",
       "49969         1.0            NaN           75017.65           2020-03-12   \n",
       "49979         1.0            NaN            1174.50           2020-04-01   \n",
       "\n",
       "      cust_payment_terms    invoice_id  isOpen  document_create_date_1  \n",
       "451                 NAH4  1.930007e+09       0                       0  \n",
       "774                 NAH4  1.930191e+09       0                       0  \n",
       "1206                NAA8  1.928669e+09       0                       0  \n",
       "2882                NAVM  1.928594e+09       0                       0  \n",
       "3421                CA10  2.960567e+09       0                       0  \n",
       "...                  ...           ...     ...                     ...  \n",
       "49919               NAA8  1.929595e+09       0                       0  \n",
       "49931               CA10  2.960573e+09       0                       0  \n",
       "49940               NAA8  1.930781e+09       1                       0  \n",
       "49969               NAGD  1.930644e+09       1                       0  \n",
       "49979               NAM2  1.930753e+09       1                       0  \n",
       "\n",
       "[1164 rows x 20 columns]"
      ]
     },
     "execution_count": 18,
     "metadata": {},
     "output_type": "execute_result"
    }
   ],
   "source": [
    "df[df.duplicated()]"
   ]
  },
  {
   "cell_type": "code",
   "execution_count": 19,
   "id": "6d54e9e3",
   "metadata": {},
   "outputs": [
    {
     "data": {
      "text/plain": [
       "1164"
      ]
     },
     "execution_count": 19,
     "metadata": {},
     "output_type": "execute_result"
    }
   ],
   "source": [
    "df.duplicated().sum()"
   ]
  },
  {
   "cell_type": "code",
   "execution_count": 20,
   "id": "f5a4bc29",
   "metadata": {},
   "outputs": [
    {
     "data": {
      "text/plain": [
       "(48836, 20)"
      ]
     },
     "execution_count": 20,
     "metadata": {},
     "output_type": "execute_result"
    }
   ],
   "source": [
    "#dropping all the null rows\n",
    "dataFrame=df.drop_duplicates(keep= 'first')\n",
    "dataFrame.shape\n"
   ]
  },
  {
   "cell_type": "code",
   "execution_count": 21,
   "id": "7ea216af",
   "metadata": {},
   "outputs": [],
   "source": [
    "# Remove null columns"
   ]
  },
  {
   "cell_type": "code",
   "execution_count": 22,
   "id": "c893a00e",
   "metadata": {
    "scrolled": true
   },
   "outputs": [
    {
     "data": {
      "text/plain": [
       "(48836, 19)"
      ]
     },
     "execution_count": 22,
     "metadata": {},
     "output_type": "execute_result"
    }
   ],
   "source": [
    "dataFrame=dataFrame.dropna(how = 'all', axis=1) \n",
    "#column removed was area_business\n",
    "dataFrame.shape"
   ]
  },
  {
   "cell_type": "code",
   "execution_count": 23,
   "id": "544c6651",
   "metadata": {},
   "outputs": [],
   "source": [
    "# Remove constant columns"
   ]
  },
  {
   "cell_type": "code",
   "execution_count": 24,
   "id": "4d097444",
   "metadata": {},
   "outputs": [
    {
     "data": {
      "text/plain": [
       "business_code                 6\n",
       "cust_number                1395\n",
       "name_customer              4182\n",
       "clear_date                  396\n",
       "buisness_year                 2\n",
       "doc_id                    48836\n",
       "posting_date                505\n",
       "document_create_date        505\n",
       "document_create_date.1      506\n",
       "due_in_date                 549\n",
       "invoice_currency              2\n",
       "document type                 2\n",
       "posting_id                    1\n",
       "total_open_amount         44205\n",
       "baseline_create_date        508\n",
       "cust_payment_terms           72\n",
       "invoice_id                48831\n",
       "isOpen                        2\n",
       "document_create_date_1        1\n",
       "dtype: int64"
      ]
     },
     "execution_count": 24,
     "metadata": {},
     "output_type": "execute_result"
    }
   ],
   "source": [
    "# Checking the column which contains different values in rows\n",
    "nunique = dataFrame.nunique()\n",
    "nunique"
   ]
  },
  {
   "cell_type": "code",
   "execution_count": 25,
   "id": "21def394",
   "metadata": {},
   "outputs": [
    {
     "data": {
      "text/plain": [
       "((48836, 17),\n",
       " business_code                     object\n",
       " cust_number                       object\n",
       " name_customer                     object\n",
       " clear_date                datetime64[ns]\n",
       " buisness_year                    float64\n",
       " doc_id                           float64\n",
       " posting_date              datetime64[ns]\n",
       " document_create_date      datetime64[ns]\n",
       " document_create_date.1    datetime64[ns]\n",
       " due_in_date               datetime64[ns]\n",
       " invoice_currency                  object\n",
       " document type                     object\n",
       " total_open_amount                float64\n",
       " baseline_create_date      datetime64[ns]\n",
       " cust_payment_terms                object\n",
       " invoice_id                       float64\n",
       " isOpen                             int64\n",
       " dtype: object)"
      ]
     },
     "execution_count": 25,
     "metadata": {},
     "output_type": "execute_result"
    }
   ],
   "source": [
    "cols_to_drop = nunique[nunique == 1].index\n",
    "# column dropped are document_create_date_1 and posting_id\n",
    "dataFrame=dataFrame.drop(cols_to_drop, axis =1)\n",
    "dataFrame.shape, dataFrame.dtypes"
   ]
  },
  {
   "cell_type": "markdown",
   "id": "2c007cd6",
   "metadata": {},
   "source": [
    "#### Check if any columns are duplicate "
   ]
  },
  {
   "cell_type": "code",
   "execution_count": 26,
   "id": "560a6ba7",
   "metadata": {},
   "outputs": [
    {
     "data": {
      "text/html": [
       "<div>\n",
       "<style scoped>\n",
       "    .dataframe tbody tr th:only-of-type {\n",
       "        vertical-align: middle;\n",
       "    }\n",
       "\n",
       "    .dataframe tbody tr th {\n",
       "        vertical-align: top;\n",
       "    }\n",
       "\n",
       "    .dataframe thead th {\n",
       "        text-align: right;\n",
       "    }\n",
       "</style>\n",
       "<table border=\"1\" class=\"dataframe\">\n",
       "  <thead>\n",
       "    <tr style=\"text-align: right;\">\n",
       "      <th></th>\n",
       "      <th>0</th>\n",
       "      <th>1</th>\n",
       "      <th>2</th>\n",
       "      <th>3</th>\n",
       "      <th>4</th>\n",
       "      <th>5</th>\n",
       "      <th>6</th>\n",
       "      <th>7</th>\n",
       "      <th>8</th>\n",
       "      <th>9</th>\n",
       "      <th>...</th>\n",
       "      <th>49990</th>\n",
       "      <th>49991</th>\n",
       "      <th>49992</th>\n",
       "      <th>49993</th>\n",
       "      <th>49994</th>\n",
       "      <th>49995</th>\n",
       "      <th>49996</th>\n",
       "      <th>49997</th>\n",
       "      <th>49998</th>\n",
       "      <th>49999</th>\n",
       "    </tr>\n",
       "  </thead>\n",
       "  <tbody>\n",
       "    <tr>\n",
       "      <th>business_code</th>\n",
       "      <td>U001</td>\n",
       "      <td>U001</td>\n",
       "      <td>U001</td>\n",
       "      <td>U001</td>\n",
       "      <td>U001</td>\n",
       "      <td>U001</td>\n",
       "      <td>U001</td>\n",
       "      <td>U001</td>\n",
       "      <td>U001</td>\n",
       "      <td>U001</td>\n",
       "      <td>...</td>\n",
       "      <td>U001</td>\n",
       "      <td>U001</td>\n",
       "      <td>U001</td>\n",
       "      <td>U001</td>\n",
       "      <td>U001</td>\n",
       "      <td>U001</td>\n",
       "      <td>U001</td>\n",
       "      <td>U001</td>\n",
       "      <td>U001</td>\n",
       "      <td>U001</td>\n",
       "    </tr>\n",
       "    <tr>\n",
       "      <th>cust_number</th>\n",
       "      <td>CCCA02</td>\n",
       "      <td>0200772670</td>\n",
       "      <td>0200744019</td>\n",
       "      <td>0200769623</td>\n",
       "      <td>0200777735</td>\n",
       "      <td>0200726979</td>\n",
       "      <td>0200780825</td>\n",
       "      <td>0200820380</td>\n",
       "      <td>0200769623</td>\n",
       "      <td>0200769623</td>\n",
       "      <td>...</td>\n",
       "      <td>0200769623</td>\n",
       "      <td>0100035877</td>\n",
       "      <td>0200769623</td>\n",
       "      <td>0200799367</td>\n",
       "      <td>0200762301</td>\n",
       "      <td>0200561861</td>\n",
       "      <td>0200769623</td>\n",
       "      <td>0200769623</td>\n",
       "      <td>0200769623</td>\n",
       "      <td>0200772670</td>\n",
       "    </tr>\n",
       "    <tr>\n",
       "      <th>name_customer</th>\n",
       "      <td>KRAFT  llc</td>\n",
       "      <td>ASSOCIAT systems</td>\n",
       "      <td>TARG co</td>\n",
       "      <td>WAL-MAR corporation</td>\n",
       "      <td>NASH  corporation</td>\n",
       "      <td>BJ'S  in</td>\n",
       "      <td>SYSCO FO us</td>\n",
       "      <td>SMITH'S co</td>\n",
       "      <td>WAL-MAR associates</td>\n",
       "      <td>WAL-MAR systems</td>\n",
       "      <td>...</td>\n",
       "      <td>WAL-MAR trust</td>\n",
       "      <td>DUNKIN us</td>\n",
       "      <td>WAL-MAR systems</td>\n",
       "      <td>MCL co</td>\n",
       "      <td>C&amp;S WH associates</td>\n",
       "      <td>CO llc</td>\n",
       "      <td>WAL-MAR llc</td>\n",
       "      <td>WAL-MAR co</td>\n",
       "      <td>WAL-MAR corporation</td>\n",
       "      <td>ASSOCIAT us</td>\n",
       "    </tr>\n",
       "    <tr>\n",
       "      <th>clear_date</th>\n",
       "      <td>2019-03-01 00:00:00</td>\n",
       "      <td>2019-05-15 00:00:00</td>\n",
       "      <td>NaT</td>\n",
       "      <td>2019-10-25 00:00:00</td>\n",
       "      <td>2019-06-21 00:00:00</td>\n",
       "      <td>NaT</td>\n",
       "      <td>2019-11-25 00:00:00</td>\n",
       "      <td>2019-08-22 00:00:00</td>\n",
       "      <td>2019-04-22 00:00:00</td>\n",
       "      <td>2020-02-18 00:00:00</td>\n",
       "      <td>...</td>\n",
       "      <td>2019-01-29 00:00:00</td>\n",
       "      <td>2019-09-11 00:00:00</td>\n",
       "      <td>2019-03-12 00:00:00</td>\n",
       "      <td>NaT</td>\n",
       "      <td>NaT</td>\n",
       "      <td>2019-11-22 00:00:00</td>\n",
       "      <td>2019-10-24 00:00:00</td>\n",
       "      <td>2019-08-13 00:00:00</td>\n",
       "      <td>2019-09-11 00:00:00</td>\n",
       "      <td>NaT</td>\n",
       "    </tr>\n",
       "    <tr>\n",
       "      <th>buisness_year</th>\n",
       "      <td>2019.0</td>\n",
       "      <td>2019.0</td>\n",
       "      <td>2020.0</td>\n",
       "      <td>2019.0</td>\n",
       "      <td>2019.0</td>\n",
       "      <td>2020.0</td>\n",
       "      <td>2019.0</td>\n",
       "      <td>2019.0</td>\n",
       "      <td>2019.0</td>\n",
       "      <td>2020.0</td>\n",
       "      <td>...</td>\n",
       "      <td>2019.0</td>\n",
       "      <td>2019.0</td>\n",
       "      <td>2019.0</td>\n",
       "      <td>2020.0</td>\n",
       "      <td>2020.0</td>\n",
       "      <td>2019.0</td>\n",
       "      <td>2019.0</td>\n",
       "      <td>2019.0</td>\n",
       "      <td>2019.0</td>\n",
       "      <td>2020.0</td>\n",
       "    </tr>\n",
       "    <tr>\n",
       "      <th>doc_id</th>\n",
       "      <td>1928613109.0</td>\n",
       "      <td>1928939858.0</td>\n",
       "      <td>1930709578.0</td>\n",
       "      <td>1930008451.0</td>\n",
       "      <td>1929455434.0</td>\n",
       "      <td>1930789171.0</td>\n",
       "      <td>1930037334.0</td>\n",
       "      <td>1929707836.0</td>\n",
       "      <td>1929110723.0</td>\n",
       "      <td>1930470802.0</td>\n",
       "      <td>...</td>\n",
       "      <td>1928643238.0</td>\n",
       "      <td>1929769489.0</td>\n",
       "      <td>1928872192.0</td>\n",
       "      <td>1930752882.0</td>\n",
       "      <td>1930834011.0</td>\n",
       "      <td>1930125551.0</td>\n",
       "      <td>1930009210.0</td>\n",
       "      <td>1929697093.0</td>\n",
       "      <td>1929818017.0</td>\n",
       "      <td>1930687620.0</td>\n",
       "    </tr>\n",
       "    <tr>\n",
       "      <th>posting_date</th>\n",
       "      <td>2019-01-13 00:00:00</td>\n",
       "      <td>2019-03-10 00:00:00</td>\n",
       "      <td>2020-03-27 00:00:00</td>\n",
       "      <td>2019-10-13 00:00:00</td>\n",
       "      <td>2019-06-07 00:00:00</td>\n",
       "      <td>2020-04-16 00:00:00</td>\n",
       "      <td>2019-10-23 00:00:00</td>\n",
       "      <td>2019-08-07 00:00:00</td>\n",
       "      <td>2019-04-10 00:00:00</td>\n",
       "      <td>2020-02-05 00:00:00</td>\n",
       "      <td>...</td>\n",
       "      <td>2019-01-17 00:00:00</td>\n",
       "      <td>2019-08-27 00:00:00</td>\n",
       "      <td>2019-03-01 00:00:00</td>\n",
       "      <td>2020-04-07 00:00:00</td>\n",
       "      <td>2020-04-29 00:00:00</td>\n",
       "      <td>2019-11-08 00:00:00</td>\n",
       "      <td>2019-10-14 00:00:00</td>\n",
       "      <td>2019-08-03 00:00:00</td>\n",
       "      <td>2019-08-31 00:00:00</td>\n",
       "      <td>2020-03-23 00:00:00</td>\n",
       "    </tr>\n",
       "    <tr>\n",
       "      <th>document_create_date</th>\n",
       "      <td>2019-01-11 00:00:00</td>\n",
       "      <td>2019-03-10 00:00:00</td>\n",
       "      <td>2020-03-27 00:00:00</td>\n",
       "      <td>2019-10-13 00:00:00</td>\n",
       "      <td>2019-06-07 00:00:00</td>\n",
       "      <td>2020-04-15 00:00:00</td>\n",
       "      <td>2019-10-21 00:00:00</td>\n",
       "      <td>2019-08-06 00:00:00</td>\n",
       "      <td>2019-04-09 00:00:00</td>\n",
       "      <td>2020-02-03 00:00:00</td>\n",
       "      <td>...</td>\n",
       "      <td>2019-01-17 00:00:00</td>\n",
       "      <td>2019-08-21 00:00:00</td>\n",
       "      <td>2019-02-27 00:00:00</td>\n",
       "      <td>2020-04-06 00:00:00</td>\n",
       "      <td>2020-04-28 00:00:00</td>\n",
       "      <td>2019-11-07 00:00:00</td>\n",
       "      <td>2019-10-13 00:00:00</td>\n",
       "      <td>2019-08-03 00:00:00</td>\n",
       "      <td>2019-08-31 00:00:00</td>\n",
       "      <td>2020-03-23 00:00:00</td>\n",
       "    </tr>\n",
       "    <tr>\n",
       "      <th>document_create_date.1</th>\n",
       "      <td>2019-01-13 00:00:00</td>\n",
       "      <td>2019-03-10 00:00:00</td>\n",
       "      <td>2020-03-27 00:00:00</td>\n",
       "      <td>2019-10-13 00:00:00</td>\n",
       "      <td>2019-06-07 00:00:00</td>\n",
       "      <td>2020-04-16 00:00:00</td>\n",
       "      <td>2019-10-23 00:00:00</td>\n",
       "      <td>2019-08-07 00:00:00</td>\n",
       "      <td>2019-04-10 00:00:00</td>\n",
       "      <td>2020-02-05 00:00:00</td>\n",
       "      <td>...</td>\n",
       "      <td>2019-01-17 00:00:00</td>\n",
       "      <td>2019-08-27 00:00:00</td>\n",
       "      <td>2019-03-01 00:00:00</td>\n",
       "      <td>2020-04-07 00:00:00</td>\n",
       "      <td>2020-04-29 00:00:00</td>\n",
       "      <td>2019-11-08 00:00:00</td>\n",
       "      <td>2019-10-14 00:00:00</td>\n",
       "      <td>2019-08-03 00:00:00</td>\n",
       "      <td>2019-08-31 00:00:00</td>\n",
       "      <td>2020-03-23 00:00:00</td>\n",
       "    </tr>\n",
       "    <tr>\n",
       "      <th>due_in_date</th>\n",
       "      <td>2019-02-17 00:00:00</td>\n",
       "      <td>2019-05-14 00:00:00</td>\n",
       "      <td>2020-04-11 00:00:00</td>\n",
       "      <td>2019-10-28 00:00:00</td>\n",
       "      <td>2019-06-22 00:00:00</td>\n",
       "      <td>2020-05-01 00:00:00</td>\n",
       "      <td>2019-11-24 00:00:00</td>\n",
       "      <td>2019-08-22 00:00:00</td>\n",
       "      <td>2019-04-25 00:00:00</td>\n",
       "      <td>2020-02-20 00:00:00</td>\n",
       "      <td>...</td>\n",
       "      <td>2019-02-01 00:00:00</td>\n",
       "      <td>2019-09-11 00:00:00</td>\n",
       "      <td>2019-03-16 00:00:00</td>\n",
       "      <td>2020-04-22 00:00:00</td>\n",
       "      <td>2020-05-14 00:00:00</td>\n",
       "      <td>2019-11-23 00:00:00</td>\n",
       "      <td>2019-10-29 00:00:00</td>\n",
       "      <td>2019-08-18 00:00:00</td>\n",
       "      <td>2019-09-15 00:00:00</td>\n",
       "      <td>2020-04-07 00:00:00</td>\n",
       "    </tr>\n",
       "    <tr>\n",
       "      <th>invoice_currency</th>\n",
       "      <td>USD</td>\n",
       "      <td>USD</td>\n",
       "      <td>USD</td>\n",
       "      <td>USD</td>\n",
       "      <td>USD</td>\n",
       "      <td>USD</td>\n",
       "      <td>USD</td>\n",
       "      <td>USD</td>\n",
       "      <td>USD</td>\n",
       "      <td>USD</td>\n",
       "      <td>...</td>\n",
       "      <td>USD</td>\n",
       "      <td>USD</td>\n",
       "      <td>USD</td>\n",
       "      <td>USD</td>\n",
       "      <td>USD</td>\n",
       "      <td>USD</td>\n",
       "      <td>USD</td>\n",
       "      <td>USD</td>\n",
       "      <td>USD</td>\n",
       "      <td>USD</td>\n",
       "    </tr>\n",
       "    <tr>\n",
       "      <th>document type</th>\n",
       "      <td>RV</td>\n",
       "      <td>RV</td>\n",
       "      <td>RV</td>\n",
       "      <td>RV</td>\n",
       "      <td>RV</td>\n",
       "      <td>RV</td>\n",
       "      <td>RV</td>\n",
       "      <td>RV</td>\n",
       "      <td>RV</td>\n",
       "      <td>RV</td>\n",
       "      <td>...</td>\n",
       "      <td>RV</td>\n",
       "      <td>RV</td>\n",
       "      <td>RV</td>\n",
       "      <td>RV</td>\n",
       "      <td>RV</td>\n",
       "      <td>RV</td>\n",
       "      <td>RV</td>\n",
       "      <td>RV</td>\n",
       "      <td>RV</td>\n",
       "      <td>RV</td>\n",
       "    </tr>\n",
       "    <tr>\n",
       "      <th>total_open_amount</th>\n",
       "      <td>95878.89</td>\n",
       "      <td>7852.13</td>\n",
       "      <td>18118.48</td>\n",
       "      <td>3225.75</td>\n",
       "      <td>9490.98</td>\n",
       "      <td>199.08</td>\n",
       "      <td>24180.83</td>\n",
       "      <td>82900.96</td>\n",
       "      <td>23200.48</td>\n",
       "      <td>661.11</td>\n",
       "      <td>...</td>\n",
       "      <td>519.66</td>\n",
       "      <td>8574.91</td>\n",
       "      <td>15805.66</td>\n",
       "      <td>79625.69</td>\n",
       "      <td>61205.39</td>\n",
       "      <td>50632.23</td>\n",
       "      <td>48481.9</td>\n",
       "      <td>10281.44</td>\n",
       "      <td>46816.78</td>\n",
       "      <td>18165.53</td>\n",
       "    </tr>\n",
       "    <tr>\n",
       "      <th>baseline_create_date</th>\n",
       "      <td>2019-01-13 00:00:00</td>\n",
       "      <td>2019-03-10 00:00:00</td>\n",
       "      <td>2020-03-27 00:00:00</td>\n",
       "      <td>2019-10-13 00:00:00</td>\n",
       "      <td>2019-06-07 00:00:00</td>\n",
       "      <td>2020-04-16 00:00:00</td>\n",
       "      <td>2019-10-23 00:00:00</td>\n",
       "      <td>2019-08-07 00:00:00</td>\n",
       "      <td>2019-04-10 00:00:00</td>\n",
       "      <td>2020-02-05 00:00:00</td>\n",
       "      <td>...</td>\n",
       "      <td>2019-01-17 00:00:00</td>\n",
       "      <td>2019-08-27 00:00:00</td>\n",
       "      <td>2019-03-01 00:00:00</td>\n",
       "      <td>2020-04-07 00:00:00</td>\n",
       "      <td>2020-04-29 00:00:00</td>\n",
       "      <td>2019-11-08 00:00:00</td>\n",
       "      <td>2019-10-14 00:00:00</td>\n",
       "      <td>2019-08-03 00:00:00</td>\n",
       "      <td>2019-08-31 00:00:00</td>\n",
       "      <td>2020-03-23 00:00:00</td>\n",
       "    </tr>\n",
       "    <tr>\n",
       "      <th>cust_payment_terms</th>\n",
       "      <td>NAG2</td>\n",
       "      <td>NAGD</td>\n",
       "      <td>NAA8</td>\n",
       "      <td>NAH4</td>\n",
       "      <td>NAA8</td>\n",
       "      <td>NAA8</td>\n",
       "      <td>NA32</td>\n",
       "      <td>NAA8</td>\n",
       "      <td>NAH4</td>\n",
       "      <td>NAH4</td>\n",
       "      <td>...</td>\n",
       "      <td>NAH4</td>\n",
       "      <td>NAA8</td>\n",
       "      <td>NAH4</td>\n",
       "      <td>NAA8</td>\n",
       "      <td>NAC6</td>\n",
       "      <td>NAA8</td>\n",
       "      <td>NAH4</td>\n",
       "      <td>NAH4</td>\n",
       "      <td>NAH4</td>\n",
       "      <td>NAU5</td>\n",
       "    </tr>\n",
       "    <tr>\n",
       "      <th>invoice_id</th>\n",
       "      <td>1928613109.0</td>\n",
       "      <td>1928939858.0</td>\n",
       "      <td>1930709578.0</td>\n",
       "      <td>1930008451.0</td>\n",
       "      <td>1929455434.0</td>\n",
       "      <td>1930789171.0</td>\n",
       "      <td>1930037334.0</td>\n",
       "      <td>1929707836.0</td>\n",
       "      <td>1929110723.0</td>\n",
       "      <td>1930470802.0</td>\n",
       "      <td>...</td>\n",
       "      <td>1928643238.0</td>\n",
       "      <td>1929769489.0</td>\n",
       "      <td>1928872192.0</td>\n",
       "      <td>1930752882.0</td>\n",
       "      <td>1930834011.0</td>\n",
       "      <td>1930125551.0</td>\n",
       "      <td>1930009210.0</td>\n",
       "      <td>1929697093.0</td>\n",
       "      <td>1929818017.0</td>\n",
       "      <td>1930687620.0</td>\n",
       "    </tr>\n",
       "    <tr>\n",
       "      <th>isOpen</th>\n",
       "      <td>0</td>\n",
       "      <td>0</td>\n",
       "      <td>1</td>\n",
       "      <td>0</td>\n",
       "      <td>0</td>\n",
       "      <td>1</td>\n",
       "      <td>0</td>\n",
       "      <td>0</td>\n",
       "      <td>0</td>\n",
       "      <td>0</td>\n",
       "      <td>...</td>\n",
       "      <td>0</td>\n",
       "      <td>0</td>\n",
       "      <td>0</td>\n",
       "      <td>1</td>\n",
       "      <td>1</td>\n",
       "      <td>0</td>\n",
       "      <td>0</td>\n",
       "      <td>0</td>\n",
       "      <td>0</td>\n",
       "      <td>1</td>\n",
       "    </tr>\n",
       "  </tbody>\n",
       "</table>\n",
       "<p>17 rows × 48836 columns</p>\n",
       "</div>"
      ],
      "text/plain": [
       "                                      0                    1      \\\n",
       "business_code                          U001                 U001   \n",
       "cust_number                          CCCA02           0200772670   \n",
       "name_customer                    KRAFT  llc     ASSOCIAT systems   \n",
       "clear_date              2019-03-01 00:00:00  2019-05-15 00:00:00   \n",
       "buisness_year                        2019.0               2019.0   \n",
       "doc_id                         1928613109.0         1928939858.0   \n",
       "posting_date            2019-01-13 00:00:00  2019-03-10 00:00:00   \n",
       "document_create_date    2019-01-11 00:00:00  2019-03-10 00:00:00   \n",
       "document_create_date.1  2019-01-13 00:00:00  2019-03-10 00:00:00   \n",
       "due_in_date             2019-02-17 00:00:00  2019-05-14 00:00:00   \n",
       "invoice_currency                        USD                  USD   \n",
       "document type                            RV                   RV   \n",
       "total_open_amount                  95878.89              7852.13   \n",
       "baseline_create_date    2019-01-13 00:00:00  2019-03-10 00:00:00   \n",
       "cust_payment_terms                     NAG2                 NAGD   \n",
       "invoice_id                     1928613109.0         1928939858.0   \n",
       "isOpen                                    0                    0   \n",
       "\n",
       "                                      2                    3      \\\n",
       "business_code                          U001                 U001   \n",
       "cust_number                      0200744019           0200769623   \n",
       "name_customer                       TARG co  WAL-MAR corporation   \n",
       "clear_date                              NaT  2019-10-25 00:00:00   \n",
       "buisness_year                        2020.0               2019.0   \n",
       "doc_id                         1930709578.0         1930008451.0   \n",
       "posting_date            2020-03-27 00:00:00  2019-10-13 00:00:00   \n",
       "document_create_date    2020-03-27 00:00:00  2019-10-13 00:00:00   \n",
       "document_create_date.1  2020-03-27 00:00:00  2019-10-13 00:00:00   \n",
       "due_in_date             2020-04-11 00:00:00  2019-10-28 00:00:00   \n",
       "invoice_currency                        USD                  USD   \n",
       "document type                            RV                   RV   \n",
       "total_open_amount                  18118.48              3225.75   \n",
       "baseline_create_date    2020-03-27 00:00:00  2019-10-13 00:00:00   \n",
       "cust_payment_terms                     NAA8                 NAH4   \n",
       "invoice_id                     1930709578.0         1930008451.0   \n",
       "isOpen                                    1                    0   \n",
       "\n",
       "                                      4                    5      \\\n",
       "business_code                          U001                 U001   \n",
       "cust_number                      0200777735           0200726979   \n",
       "name_customer             NASH  corporation             BJ'S  in   \n",
       "clear_date              2019-06-21 00:00:00                  NaT   \n",
       "buisness_year                        2019.0               2020.0   \n",
       "doc_id                         1929455434.0         1930789171.0   \n",
       "posting_date            2019-06-07 00:00:00  2020-04-16 00:00:00   \n",
       "document_create_date    2019-06-07 00:00:00  2020-04-15 00:00:00   \n",
       "document_create_date.1  2019-06-07 00:00:00  2020-04-16 00:00:00   \n",
       "due_in_date             2019-06-22 00:00:00  2020-05-01 00:00:00   \n",
       "invoice_currency                        USD                  USD   \n",
       "document type                            RV                   RV   \n",
       "total_open_amount                   9490.98               199.08   \n",
       "baseline_create_date    2019-06-07 00:00:00  2020-04-16 00:00:00   \n",
       "cust_payment_terms                     NAA8                 NAA8   \n",
       "invoice_id                     1929455434.0         1930789171.0   \n",
       "isOpen                                    0                    1   \n",
       "\n",
       "                                      6                    7      \\\n",
       "business_code                          U001                 U001   \n",
       "cust_number                      0200780825           0200820380   \n",
       "name_customer                   SYSCO FO us           SMITH'S co   \n",
       "clear_date              2019-11-25 00:00:00  2019-08-22 00:00:00   \n",
       "buisness_year                        2019.0               2019.0   \n",
       "doc_id                         1930037334.0         1929707836.0   \n",
       "posting_date            2019-10-23 00:00:00  2019-08-07 00:00:00   \n",
       "document_create_date    2019-10-21 00:00:00  2019-08-06 00:00:00   \n",
       "document_create_date.1  2019-10-23 00:00:00  2019-08-07 00:00:00   \n",
       "due_in_date             2019-11-24 00:00:00  2019-08-22 00:00:00   \n",
       "invoice_currency                        USD                  USD   \n",
       "document type                            RV                   RV   \n",
       "total_open_amount                  24180.83             82900.96   \n",
       "baseline_create_date    2019-10-23 00:00:00  2019-08-07 00:00:00   \n",
       "cust_payment_terms                     NA32                 NAA8   \n",
       "invoice_id                     1930037334.0         1929707836.0   \n",
       "isOpen                                    0                    0   \n",
       "\n",
       "                                      8                    9      ...  \\\n",
       "business_code                          U001                 U001  ...   \n",
       "cust_number                      0200769623           0200769623  ...   \n",
       "name_customer            WAL-MAR associates      WAL-MAR systems  ...   \n",
       "clear_date              2019-04-22 00:00:00  2020-02-18 00:00:00  ...   \n",
       "buisness_year                        2019.0               2020.0  ...   \n",
       "doc_id                         1929110723.0         1930470802.0  ...   \n",
       "posting_date            2019-04-10 00:00:00  2020-02-05 00:00:00  ...   \n",
       "document_create_date    2019-04-09 00:00:00  2020-02-03 00:00:00  ...   \n",
       "document_create_date.1  2019-04-10 00:00:00  2020-02-05 00:00:00  ...   \n",
       "due_in_date             2019-04-25 00:00:00  2020-02-20 00:00:00  ...   \n",
       "invoice_currency                        USD                  USD  ...   \n",
       "document type                            RV                   RV  ...   \n",
       "total_open_amount                  23200.48               661.11  ...   \n",
       "baseline_create_date    2019-04-10 00:00:00  2020-02-05 00:00:00  ...   \n",
       "cust_payment_terms                     NAH4                 NAH4  ...   \n",
       "invoice_id                     1929110723.0         1930470802.0  ...   \n",
       "isOpen                                    0                    0  ...   \n",
       "\n",
       "                                      49990                49991  \\\n",
       "business_code                          U001                 U001   \n",
       "cust_number                      0200769623           0100035877   \n",
       "name_customer                 WAL-MAR trust            DUNKIN us   \n",
       "clear_date              2019-01-29 00:00:00  2019-09-11 00:00:00   \n",
       "buisness_year                        2019.0               2019.0   \n",
       "doc_id                         1928643238.0         1929769489.0   \n",
       "posting_date            2019-01-17 00:00:00  2019-08-27 00:00:00   \n",
       "document_create_date    2019-01-17 00:00:00  2019-08-21 00:00:00   \n",
       "document_create_date.1  2019-01-17 00:00:00  2019-08-27 00:00:00   \n",
       "due_in_date             2019-02-01 00:00:00  2019-09-11 00:00:00   \n",
       "invoice_currency                        USD                  USD   \n",
       "document type                            RV                   RV   \n",
       "total_open_amount                    519.66              8574.91   \n",
       "baseline_create_date    2019-01-17 00:00:00  2019-08-27 00:00:00   \n",
       "cust_payment_terms                     NAH4                 NAA8   \n",
       "invoice_id                     1928643238.0         1929769489.0   \n",
       "isOpen                                    0                    0   \n",
       "\n",
       "                                      49992                49993  \\\n",
       "business_code                          U001                 U001   \n",
       "cust_number                      0200769623           0200799367   \n",
       "name_customer               WAL-MAR systems               MCL co   \n",
       "clear_date              2019-03-12 00:00:00                  NaT   \n",
       "buisness_year                        2019.0               2020.0   \n",
       "doc_id                         1928872192.0         1930752882.0   \n",
       "posting_date            2019-03-01 00:00:00  2020-04-07 00:00:00   \n",
       "document_create_date    2019-02-27 00:00:00  2020-04-06 00:00:00   \n",
       "document_create_date.1  2019-03-01 00:00:00  2020-04-07 00:00:00   \n",
       "due_in_date             2019-03-16 00:00:00  2020-04-22 00:00:00   \n",
       "invoice_currency                        USD                  USD   \n",
       "document type                            RV                   RV   \n",
       "total_open_amount                  15805.66             79625.69   \n",
       "baseline_create_date    2019-03-01 00:00:00  2020-04-07 00:00:00   \n",
       "cust_payment_terms                     NAH4                 NAA8   \n",
       "invoice_id                     1928872192.0         1930752882.0   \n",
       "isOpen                                    0                    1   \n",
       "\n",
       "                                      49994                49995  \\\n",
       "business_code                          U001                 U001   \n",
       "cust_number                      0200762301           0200561861   \n",
       "name_customer             C&S WH associates               CO llc   \n",
       "clear_date                              NaT  2019-11-22 00:00:00   \n",
       "buisness_year                        2020.0               2019.0   \n",
       "doc_id                         1930834011.0         1930125551.0   \n",
       "posting_date            2020-04-29 00:00:00  2019-11-08 00:00:00   \n",
       "document_create_date    2020-04-28 00:00:00  2019-11-07 00:00:00   \n",
       "document_create_date.1  2020-04-29 00:00:00  2019-11-08 00:00:00   \n",
       "due_in_date             2020-05-14 00:00:00  2019-11-23 00:00:00   \n",
       "invoice_currency                        USD                  USD   \n",
       "document type                            RV                   RV   \n",
       "total_open_amount                  61205.39             50632.23   \n",
       "baseline_create_date    2020-04-29 00:00:00  2019-11-08 00:00:00   \n",
       "cust_payment_terms                     NAC6                 NAA8   \n",
       "invoice_id                     1930834011.0         1930125551.0   \n",
       "isOpen                                    1                    0   \n",
       "\n",
       "                                      49996                49997  \\\n",
       "business_code                          U001                 U001   \n",
       "cust_number                      0200769623           0200769623   \n",
       "name_customer                   WAL-MAR llc           WAL-MAR co   \n",
       "clear_date              2019-10-24 00:00:00  2019-08-13 00:00:00   \n",
       "buisness_year                        2019.0               2019.0   \n",
       "doc_id                         1930009210.0         1929697093.0   \n",
       "posting_date            2019-10-14 00:00:00  2019-08-03 00:00:00   \n",
       "document_create_date    2019-10-13 00:00:00  2019-08-03 00:00:00   \n",
       "document_create_date.1  2019-10-14 00:00:00  2019-08-03 00:00:00   \n",
       "due_in_date             2019-10-29 00:00:00  2019-08-18 00:00:00   \n",
       "invoice_currency                        USD                  USD   \n",
       "document type                            RV                   RV   \n",
       "total_open_amount                   48481.9             10281.44   \n",
       "baseline_create_date    2019-10-14 00:00:00  2019-08-03 00:00:00   \n",
       "cust_payment_terms                     NAH4                 NAH4   \n",
       "invoice_id                     1930009210.0         1929697093.0   \n",
       "isOpen                                    0                    0   \n",
       "\n",
       "                                      49998                49999  \n",
       "business_code                          U001                 U001  \n",
       "cust_number                      0200769623           0200772670  \n",
       "name_customer           WAL-MAR corporation          ASSOCIAT us  \n",
       "clear_date              2019-09-11 00:00:00                  NaT  \n",
       "buisness_year                        2019.0               2020.0  \n",
       "doc_id                         1929818017.0         1930687620.0  \n",
       "posting_date            2019-08-31 00:00:00  2020-03-23 00:00:00  \n",
       "document_create_date    2019-08-31 00:00:00  2020-03-23 00:00:00  \n",
       "document_create_date.1  2019-08-31 00:00:00  2020-03-23 00:00:00  \n",
       "due_in_date             2019-09-15 00:00:00  2020-04-07 00:00:00  \n",
       "invoice_currency                        USD                  USD  \n",
       "document type                            RV                   RV  \n",
       "total_open_amount                  46816.78             18165.53  \n",
       "baseline_create_date    2019-08-31 00:00:00  2020-03-23 00:00:00  \n",
       "cust_payment_terms                     NAH4                 NAU5  \n",
       "invoice_id                     1929818017.0         1930687620.0  \n",
       "isOpen                                    0                    1  \n",
       "\n",
       "[17 rows x 48836 columns]"
      ]
     },
     "execution_count": 26,
     "metadata": {},
     "output_type": "execute_result"
    }
   ],
   "source": [
    "#transpose\n",
    "alt=dataFrame.T\n",
    "alt"
   ]
  },
  {
   "cell_type": "code",
   "execution_count": 27,
   "id": "3ae63459",
   "metadata": {},
   "outputs": [
    {
     "data": {
      "text/html": [
       "<div>\n",
       "<style scoped>\n",
       "    .dataframe tbody tr th:only-of-type {\n",
       "        vertical-align: middle;\n",
       "    }\n",
       "\n",
       "    .dataframe tbody tr th {\n",
       "        vertical-align: top;\n",
       "    }\n",
       "\n",
       "    .dataframe thead th {\n",
       "        text-align: right;\n",
       "    }\n",
       "</style>\n",
       "<table border=\"1\" class=\"dataframe\">\n",
       "  <thead>\n",
       "    <tr style=\"text-align: right;\">\n",
       "      <th></th>\n",
       "      <th>0</th>\n",
       "      <th>1</th>\n",
       "      <th>2</th>\n",
       "      <th>3</th>\n",
       "      <th>4</th>\n",
       "      <th>5</th>\n",
       "      <th>6</th>\n",
       "      <th>7</th>\n",
       "      <th>8</th>\n",
       "      <th>9</th>\n",
       "      <th>...</th>\n",
       "      <th>49990</th>\n",
       "      <th>49991</th>\n",
       "      <th>49992</th>\n",
       "      <th>49993</th>\n",
       "      <th>49994</th>\n",
       "      <th>49995</th>\n",
       "      <th>49996</th>\n",
       "      <th>49997</th>\n",
       "      <th>49998</th>\n",
       "      <th>49999</th>\n",
       "    </tr>\n",
       "  </thead>\n",
       "  <tbody>\n",
       "  </tbody>\n",
       "</table>\n",
       "<p>0 rows × 48836 columns</p>\n",
       "</div>"
      ],
      "text/plain": [
       "Empty DataFrame\n",
       "Columns: [0, 1, 2, 3, 4, 5, 6, 7, 8, 9, 10, 11, 12, 13, 14, 15, 16, 17, 18, 19, 20, 21, 22, 23, 24, 25, 26, 27, 28, 29, 30, 31, 32, 33, 34, 35, 36, 37, 38, 39, 40, 41, 42, 43, 44, 45, 46, 47, 48, 49, 50, 51, 52, 53, 54, 55, 56, 57, 58, 59, 60, 61, 62, 63, 64, 65, 66, 67, 68, 69, 70, 71, 72, 73, 74, 75, 76, 77, 78, 79, 80, 81, 82, 83, 84, 85, 86, 87, 88, 89, 90, 91, 92, 93, 94, 95, 96, 97, 98, 99, ...]\n",
       "Index: []\n",
       "\n",
       "[0 rows x 48836 columns]"
      ]
     },
     "execution_count": 27,
     "metadata": {},
     "output_type": "execute_result"
    }
   ],
   "source": [
    "#Checking duplicates rows\n",
    "alt[alt.duplicated()]"
   ]
  },
  {
   "cell_type": "code",
   "execution_count": 28,
   "id": "fc1afb84",
   "metadata": {},
   "outputs": [
    {
     "data": {
      "text/plain": [
       "0"
      ]
     },
     "execution_count": 28,
     "metadata": {},
     "output_type": "execute_result"
    }
   ],
   "source": [
    "#total duplicates rows\n",
    "alt.duplicated().sum()"
   ]
  },
  {
   "cell_type": "code",
   "execution_count": 29,
   "id": "5393679d",
   "metadata": {},
   "outputs": [
    {
     "data": {
      "text/plain": [
       "(48836, 17)"
      ]
     },
     "execution_count": 29,
     "metadata": {},
     "output_type": "execute_result"
    }
   ],
   "source": [
    "#Transforming to original form\n",
    "alt=alt.drop_duplicates(keep='first')\n",
    "dataFrame=alt.T\n",
    "dataFrame.shape"
   ]
  },
  {
   "cell_type": "markdown",
   "id": "b6da7d9f",
   "metadata": {},
   "source": [
    "## Split on the basis of clear date"
   ]
  },
  {
   "cell_type": "code",
   "execution_count": 30,
   "id": "2ca281ec",
   "metadata": {},
   "outputs": [],
   "source": [
    "### More Pre Processing"
   ]
  },
  {
   "cell_type": "code",
   "execution_count": 31,
   "id": "2198cc1b",
   "metadata": {},
   "outputs": [],
   "source": [
    "from sklearn.model_selection import train_test_split\n",
    "from sklearn.feature_selection import VarianceThreshold\n",
    "from datetime import datetime\n"
   ]
  },
  {
   "cell_type": "code",
   "execution_count": 32,
   "id": "0b6675f3",
   "metadata": {},
   "outputs": [],
   "source": [
    "# In tain data clear date is not  null and isOpen=0 i.e invoice closed we have to derive relation for prdiction\n",
    "#splitting the data set which we have to find into test and train sets"
   ]
  },
  {
   "cell_type": "code",
   "execution_count": 33,
   "id": "3ca677b3",
   "metadata": {},
   "outputs": [
    {
     "data": {
      "text/html": [
       "<div>\n",
       "<style scoped>\n",
       "    .dataframe tbody tr th:only-of-type {\n",
       "        vertical-align: middle;\n",
       "    }\n",
       "\n",
       "    .dataframe tbody tr th {\n",
       "        vertical-align: top;\n",
       "    }\n",
       "\n",
       "    .dataframe thead th {\n",
       "        text-align: right;\n",
       "    }\n",
       "</style>\n",
       "<table border=\"1\" class=\"dataframe\">\n",
       "  <thead>\n",
       "    <tr style=\"text-align: right;\">\n",
       "      <th></th>\n",
       "      <th>business_code</th>\n",
       "      <th>cust_number</th>\n",
       "      <th>name_customer</th>\n",
       "      <th>clear_date</th>\n",
       "      <th>buisness_year</th>\n",
       "      <th>doc_id</th>\n",
       "      <th>posting_date</th>\n",
       "      <th>document_create_date</th>\n",
       "      <th>document_create_date.1</th>\n",
       "      <th>due_in_date</th>\n",
       "      <th>invoice_currency</th>\n",
       "      <th>document type</th>\n",
       "      <th>total_open_amount</th>\n",
       "      <th>baseline_create_date</th>\n",
       "      <th>cust_payment_terms</th>\n",
       "      <th>invoice_id</th>\n",
       "      <th>isOpen</th>\n",
       "    </tr>\n",
       "  </thead>\n",
       "  <tbody>\n",
       "    <tr>\n",
       "      <th>0</th>\n",
       "      <td>U001</td>\n",
       "      <td>CCCA02</td>\n",
       "      <td>KRAFT  llc</td>\n",
       "      <td>2019-03-01</td>\n",
       "      <td>2019.0</td>\n",
       "      <td>1928613109.0</td>\n",
       "      <td>2019-01-13</td>\n",
       "      <td>2019-01-11</td>\n",
       "      <td>2019-01-13</td>\n",
       "      <td>2019-02-17</td>\n",
       "      <td>USD</td>\n",
       "      <td>RV</td>\n",
       "      <td>95878.89</td>\n",
       "      <td>2019-01-13</td>\n",
       "      <td>NAG2</td>\n",
       "      <td>1928613109.0</td>\n",
       "      <td>0</td>\n",
       "    </tr>\n",
       "    <tr>\n",
       "      <th>1</th>\n",
       "      <td>U001</td>\n",
       "      <td>0200772670</td>\n",
       "      <td>ASSOCIAT systems</td>\n",
       "      <td>2019-05-15</td>\n",
       "      <td>2019.0</td>\n",
       "      <td>1928939858.0</td>\n",
       "      <td>2019-03-10</td>\n",
       "      <td>2019-03-10</td>\n",
       "      <td>2019-03-10</td>\n",
       "      <td>2019-05-14</td>\n",
       "      <td>USD</td>\n",
       "      <td>RV</td>\n",
       "      <td>7852.13</td>\n",
       "      <td>2019-03-10</td>\n",
       "      <td>NAGD</td>\n",
       "      <td>1928939858.0</td>\n",
       "      <td>0</td>\n",
       "    </tr>\n",
       "    <tr>\n",
       "      <th>3</th>\n",
       "      <td>U001</td>\n",
       "      <td>0200769623</td>\n",
       "      <td>WAL-MAR corporation</td>\n",
       "      <td>2019-10-25</td>\n",
       "      <td>2019.0</td>\n",
       "      <td>1930008451.0</td>\n",
       "      <td>2019-10-13</td>\n",
       "      <td>2019-10-13</td>\n",
       "      <td>2019-10-13</td>\n",
       "      <td>2019-10-28</td>\n",
       "      <td>USD</td>\n",
       "      <td>RV</td>\n",
       "      <td>3225.75</td>\n",
       "      <td>2019-10-13</td>\n",
       "      <td>NAH4</td>\n",
       "      <td>1930008451.0</td>\n",
       "      <td>0</td>\n",
       "    </tr>\n",
       "    <tr>\n",
       "      <th>4</th>\n",
       "      <td>U001</td>\n",
       "      <td>0200777735</td>\n",
       "      <td>NASH  corporation</td>\n",
       "      <td>2019-06-21</td>\n",
       "      <td>2019.0</td>\n",
       "      <td>1929455434.0</td>\n",
       "      <td>2019-06-07</td>\n",
       "      <td>2019-06-07</td>\n",
       "      <td>2019-06-07</td>\n",
       "      <td>2019-06-22</td>\n",
       "      <td>USD</td>\n",
       "      <td>RV</td>\n",
       "      <td>9490.98</td>\n",
       "      <td>2019-06-07</td>\n",
       "      <td>NAA8</td>\n",
       "      <td>1929455434.0</td>\n",
       "      <td>0</td>\n",
       "    </tr>\n",
       "    <tr>\n",
       "      <th>6</th>\n",
       "      <td>U001</td>\n",
       "      <td>0200780825</td>\n",
       "      <td>SYSCO FO us</td>\n",
       "      <td>2019-11-25</td>\n",
       "      <td>2019.0</td>\n",
       "      <td>1930037334.0</td>\n",
       "      <td>2019-10-23</td>\n",
       "      <td>2019-10-21</td>\n",
       "      <td>2019-10-23</td>\n",
       "      <td>2019-11-24</td>\n",
       "      <td>USD</td>\n",
       "      <td>RV</td>\n",
       "      <td>24180.83</td>\n",
       "      <td>2019-10-23</td>\n",
       "      <td>NA32</td>\n",
       "      <td>1930037334.0</td>\n",
       "      <td>0</td>\n",
       "    </tr>\n",
       "  </tbody>\n",
       "</table>\n",
       "</div>"
      ],
      "text/plain": [
       "  business_code cust_number        name_customer clear_date buisness_year  \\\n",
       "0          U001      CCCA02           KRAFT  llc 2019-03-01        2019.0   \n",
       "1          U001  0200772670     ASSOCIAT systems 2019-05-15        2019.0   \n",
       "3          U001  0200769623  WAL-MAR corporation 2019-10-25        2019.0   \n",
       "4          U001  0200777735    NASH  corporation 2019-06-21        2019.0   \n",
       "6          U001  0200780825          SYSCO FO us 2019-11-25        2019.0   \n",
       "\n",
       "         doc_id posting_date document_create_date document_create_date.1  \\\n",
       "0  1928613109.0   2019-01-13           2019-01-11             2019-01-13   \n",
       "1  1928939858.0   2019-03-10           2019-03-10             2019-03-10   \n",
       "3  1930008451.0   2019-10-13           2019-10-13             2019-10-13   \n",
       "4  1929455434.0   2019-06-07           2019-06-07             2019-06-07   \n",
       "6  1930037334.0   2019-10-23           2019-10-21             2019-10-23   \n",
       "\n",
       "  due_in_date invoice_currency document type total_open_amount  \\\n",
       "0  2019-02-17              USD            RV          95878.89   \n",
       "1  2019-05-14              USD            RV           7852.13   \n",
       "3  2019-10-28              USD            RV           3225.75   \n",
       "4  2019-06-22              USD            RV           9490.98   \n",
       "6  2019-11-24              USD            RV          24180.83   \n",
       "\n",
       "  baseline_create_date cust_payment_terms    invoice_id isOpen  \n",
       "0           2019-01-13               NAG2  1928613109.0      0  \n",
       "1           2019-03-10               NAGD  1928939858.0      0  \n",
       "3           2019-10-13               NAH4  1930008451.0      0  \n",
       "4           2019-06-07               NAA8  1929455434.0      0  \n",
       "6           2019-10-23               NA32  1930037334.0      0  "
      ]
     },
     "execution_count": 33,
     "metadata": {},
     "output_type": "execute_result"
    }
   ],
   "source": [
    "# We can also split using stratify\n",
    "x_train=dataFrame[dataFrame['isOpen']==0].copy()\n",
    "X=dataFrame[dataFrame['isOpen']==1].copy()\n",
    "x_train.head()"
   ]
  },
  {
   "cell_type": "markdown",
   "id": "c32f5432",
   "metadata": {},
   "source": [
    "### Cleaning\n"
   ]
  },
  {
   "cell_type": "code",
   "execution_count": 34,
   "id": "91aa33c0",
   "metadata": {},
   "outputs": [
    {
     "data": {
      "text/plain": [
       "business_code                 6\n",
       "cust_number                1326\n",
       "name_customer              3878\n",
       "clear_date                  396\n",
       "buisness_year                 2\n",
       "doc_id                    39144\n",
       "posting_date                422\n",
       "document_create_date        424\n",
       "document_create_date.1      423\n",
       "due_in_date                 492\n",
       "invoice_currency              2\n",
       "document type                 2\n",
       "total_open_amount         35579\n",
       "baseline_create_date        432\n",
       "cust_payment_terms           69\n",
       "invoice_id                39139\n",
       "isOpen                        1\n",
       "dtype: int64"
      ]
     },
     "execution_count": 34,
     "metadata": {},
     "output_type": "execute_result"
    }
   ],
   "source": [
    "x_train.nunique()"
   ]
  },
  {
   "cell_type": "code",
   "execution_count": 35,
   "id": "06afa584",
   "metadata": {},
   "outputs": [
    {
     "data": {
      "text/plain": [
       "(39144, 17)"
      ]
     },
     "execution_count": 35,
     "metadata": {},
     "output_type": "execute_result"
    }
   ],
   "source": [
    "x_train.shape"
   ]
  },
  {
   "cell_type": "code",
   "execution_count": 36,
   "id": "7e1a2d35",
   "metadata": {},
   "outputs": [
    {
     "data": {
      "text/plain": [
       "((39144, 13),\n",
       " business_code                 6\n",
       " cust_number                1326\n",
       " name_customer              3878\n",
       " clear_date                  396\n",
       " buisness_year                 2\n",
       " doc_id                    39144\n",
       " posting_date                422\n",
       " document_create_date        424\n",
       " document_create_date.1      423\n",
       " due_in_date                 492\n",
       " invoice_currency              2\n",
       " document type                 2\n",
       " total_open_amount         35579\n",
       " baseline_create_date        432\n",
       " cust_payment_terms           69\n",
       " invoice_id                39139\n",
       " isOpen                        1\n",
       " dtype: int64,\n",
       " Index(['buisness_year', 'invoice_currency', 'document type', 'isOpen'], dtype='object'))"
      ]
     },
     "execution_count": 36,
     "metadata": {},
     "output_type": "execute_result"
    }
   ],
   "source": [
    "#dropping the columns\n",
    "Tunique=x_train.nunique()\n",
    "Tdrop=Tunique[nunique<=2].index\n",
    "## columns removed from test set are => 'buisness_year', 'invoice_currency', 'document type', 'isOpen'\n",
    "x_train = x_train.drop(Tdrop, axis = 1)\n",
    "x_train.shape,Tunique, Tdrop"
   ]
  },
  {
   "cell_type": "code",
   "execution_count": 37,
   "id": "398ccc71",
   "metadata": {},
   "outputs": [
    {
     "data": {
      "text/plain": [
       "(39144, 13)"
      ]
     },
     "execution_count": 37,
     "metadata": {},
     "output_type": "execute_result"
    }
   ],
   "source": [
    "x_train.shape"
   ]
  },
  {
   "cell_type": "code",
   "execution_count": 38,
   "id": "4b63836a",
   "metadata": {},
   "outputs": [],
   "source": [
    "x_train['invoice_id'] = x_train['invoice_id'].apply(float)\n",
    "x_train['total_open_amount'] = x_train['total_open_amount'].apply(float)"
   ]
  },
  {
   "cell_type": "code",
   "execution_count": 39,
   "id": "49396473",
   "metadata": {},
   "outputs": [
    {
     "data": {
      "text/html": [
       "<div>\n",
       "<style scoped>\n",
       "    .dataframe tbody tr th:only-of-type {\n",
       "        vertical-align: middle;\n",
       "    }\n",
       "\n",
       "    .dataframe tbody tr th {\n",
       "        vertical-align: top;\n",
       "    }\n",
       "\n",
       "    .dataframe thead th {\n",
       "        text-align: right;\n",
       "    }\n",
       "</style>\n",
       "<table border=\"1\" class=\"dataframe\">\n",
       "  <thead>\n",
       "    <tr style=\"text-align: right;\">\n",
       "      <th></th>\n",
       "      <th>invoice_id</th>\n",
       "    </tr>\n",
       "  </thead>\n",
       "  <tbody>\n",
       "    <tr>\n",
       "      <th>invoice_id</th>\n",
       "      <td>1.0</td>\n",
       "    </tr>\n",
       "  </tbody>\n",
       "</table>\n",
       "</div>"
      ],
      "text/plain": [
       "            invoice_id\n",
       "invoice_id         1.0"
      ]
     },
     "execution_count": 39,
     "metadata": {},
     "output_type": "execute_result"
    }
   ],
   "source": [
    "#correlation between column \"doc_id\" and \"invoice_id\"\n",
    "x_train[['doc_id','invoice_id']].corr()"
   ]
  },
  {
   "cell_type": "code",
   "execution_count": 40,
   "id": "0ef478c7",
   "metadata": {},
   "outputs": [
    {
     "data": {
      "text/plain": [
       "39144"
      ]
     },
     "execution_count": 40,
     "metadata": {},
     "output_type": "execute_result"
    }
   ],
   "source": [
    "x_train['invoice_id']=np.where(x_train['invoice_id']==x_train['doc_id'],0,1)\n",
    "(x_train['invoice_id']==0).count()"
   ]
  },
  {
   "cell_type": "code",
   "execution_count": 41,
   "id": "f8c6832b",
   "metadata": {},
   "outputs": [
    {
     "data": {
      "text/plain": [
       "((39144, 12),\n",
       " business_code                     object\n",
       " cust_number                       object\n",
       " name_customer                     object\n",
       " clear_date                datetime64[ns]\n",
       " doc_id                            object\n",
       " posting_date              datetime64[ns]\n",
       " document_create_date      datetime64[ns]\n",
       " document_create_date.1    datetime64[ns]\n",
       " due_in_date               datetime64[ns]\n",
       " total_open_amount                float64\n",
       " baseline_create_date      datetime64[ns]\n",
       " cust_payment_terms                object\n",
       " dtype: object)"
      ]
     },
     "execution_count": 41,
     "metadata": {},
     "output_type": "execute_result"
    }
   ],
   "source": [
    "#dropping \n",
    "x_train = x_train.drop(['invoice_id'], axis=1)\n",
    "x_train.shape, x_train.dtypes"
   ]
  },
  {
   "cell_type": "code",
   "execution_count": 42,
   "id": "ae7b625b",
   "metadata": {},
   "outputs": [],
   "source": [
    "# arranging a datasets or sorting a dataset in a order \n",
    "# which will make easier to split \n",
    "x_train = x_train.sort_values(by='posting_date', ascending= True)\n"
   ]
  },
  {
   "cell_type": "code",
   "execution_count": 43,
   "id": "f9348a34",
   "metadata": {},
   "outputs": [
    {
     "data": {
      "text/plain": [
       "(39144, 13)"
      ]
     },
     "execution_count": 43,
     "metadata": {},
     "output_type": "execute_result"
    }
   ],
   "source": [
    "# to get dealay Column\n",
    "#We have subtracted the clear date - due date\n",
    "# this will result into delay column\n",
    "x_train['delay']= (x_train['clear_date']-x_train['due_in_date']).dt.days\n",
    "x_train.shape"
   ]
  },
  {
   "cell_type": "code",
   "execution_count": 44,
   "id": "8ff3857b",
   "metadata": {},
   "outputs": [
    {
     "data": {
      "text/plain": [
       "(39144, 12)"
      ]
     },
     "execution_count": 44,
     "metadata": {},
     "output_type": "execute_result"
    }
   ],
   "source": [
    "x= x_train.drop(['delay'], axis=1)\n",
    "x.shape"
   ]
  },
  {
   "cell_type": "markdown",
   "id": "3d0cdd29",
   "metadata": {},
   "source": [
    "# Split Data"
   ]
  },
  {
   "cell_type": "code",
   "execution_count": 45,
   "id": "b353b6ea",
   "metadata": {},
   "outputs": [],
   "source": [
    "y=x_train['delay']  ### target variable\n",
    "# divide train data into train, test and validation set => first derive prediction uaing train set and then apply it to\n",
    "# validation set to check the accuracy and then if the crreated model works fine on the validation st then apply it to the \n",
    "#  test set .\n",
    "# In test  data  clear is null and isOpen=1 i.e invoice open and we have to apply the prediction here"
   ]
  },
  {
   "cell_type": "code",
   "execution_count": 46,
   "id": "6e485dd3",
   "metadata": {},
   "outputs": [],
   "source": [
    "train, intest,y_train,ytest=train_test_split(x,y,test_size=0.25,random_state=0,shuffle=False)"
   ]
  },
  {
   "cell_type": "code",
   "execution_count": 47,
   "id": "5e9ac306",
   "metadata": {},
   "outputs": [],
   "source": [
    "x_val,x_test,y_val,y_test= train_test_split(intest,ytest,test_size=0.5,random_state=0,shuffle=False)"
   ]
  },
  {
   "cell_type": "code",
   "execution_count": 48,
   "id": "c0b4a9c7",
   "metadata": {},
   "outputs": [
    {
     "data": {
      "text/plain": [
       "((29358, 12), (4893, 12), (4893, 12))"
      ]
     },
     "execution_count": 48,
     "metadata": {},
     "output_type": "execute_result"
    }
   ],
   "source": [
    "train.shape , x_val.shape , x_test.shape"
   ]
  },
  {
   "cell_type": "markdown",
   "id": "a347aab4",
   "metadata": {},
   "source": [
    "# EDA"
   ]
  },
  {
   "cell_type": "markdown",
   "id": "62e259da",
   "metadata": {},
   "source": [
    "## Check for Skewness (EDA)"
   ]
  },
  {
   "cell_type": "code",
   "execution_count": 49,
   "id": "137eafe9",
   "metadata": {},
   "outputs": [
    {
     "data": {
      "text/plain": [
       "<AxesSubplot:xlabel='delay', ylabel='Density'>"
      ]
     },
     "execution_count": 49,
     "metadata": {},
     "output_type": "execute_result"
    },
    {
     "data": {
      "image/png": "[encoded data removed]",
      "text/plain": [
       "<Figure size 432x288 with 1 Axes>"
      ]
     },
     "metadata": {
      "needs_background": "light"
     },
     "output_type": "display_data"
    }
   ],
   "source": [
    "sns.distplot(y)\n",
    "# we will find the distribution of target column\n",
    "# distribution of the target column \n",
    "# right skewed distribution\n",
    "# outliers present but not that significant , hence  "
   ]
  },
  {
   "cell_type": "code",
   "execution_count": 50,
   "id": "c94624e5",
   "metadata": {},
   "outputs": [
    {
     "data": {
      "text/plain": [
       "<AxesSubplot:xlabel='delay', ylabel='total_open_amount'>"
      ]
     },
     "execution_count": 50,
     "metadata": {},
     "output_type": "execute_result"
    },
    {
     "data": {
      "image/png": "[encoded data removed]",
      "text/plain": [
       "<Figure size 432x288 with 1 Axes>"
      ]
     },
     "metadata": {
      "needs_background": "light"
     },
     "output_type": "display_data"
    }
   ],
   "source": [
    "# Check the density of traget variable with various variable in train set\n",
    "# As we can see it depicts some trend like higher the amount less is the delay\n",
    "sns.scatterplot(data=train.merge(y_train,on = train.index), x='delay', y='total_open_amount')"
   ]
  },
  {
   "cell_type": "code",
   "execution_count": 51,
   "id": "fcde662e",
   "metadata": {},
   "outputs": [
    {
     "data": {
      "text/plain": [
       "<AxesSubplot:xlabel='delay', ylabel='key_0'>"
      ]
     },
     "execution_count": 51,
     "metadata": {},
     "output_type": "execute_result"
    },
    {
     "data": {
      "image/png": "[encoded data removed]",
      "text/plain": [
       "<Figure size 432x288 with 1 Axes>"
      ]
     },
     "metadata": {
      "needs_background": "light"
     },
     "output_type": "display_data"
    }
   ],
   "source": [
    "#we can predict any significant relation from this \n",
    "#Doesn't have direct relation to target column\n",
    "sns.scatterplot(data=train.merge(y_train,on = train.index), x='delay', y='key_0')"
   ]
  },
  {
   "cell_type": "code",
   "execution_count": 52,
   "id": "396ef504",
   "metadata": {},
   "outputs": [
    {
     "data": {
      "text/plain": [
       "<AxesSubplot:xlabel='delay', ylabel='doc_id'>"
      ]
     },
     "execution_count": 52,
     "metadata": {},
     "output_type": "execute_result"
    },
    {
     "data": {
      "image/png": "[encoded data removed]",
      "text/plain": [
       "<Figure size 432x288 with 1 Axes>"
      ]
     },
     "metadata": {
      "needs_background": "light"
     },
     "output_type": "display_data"
    }
   ],
   "source": [
    "# No significant relation from target column except some values\n",
    "sns.scatterplot(data=train.merge(y_train,on = train.index), x='delay', y='doc_id')"
   ]
  },
  {
   "cell_type": "code",
   "execution_count": 53,
   "id": "67fd6e08",
   "metadata": {},
   "outputs": [
    {
     "data": {
      "text/html": [
       "<div>\n",
       "<style scoped>\n",
       "    .dataframe tbody tr th:only-of-type {\n",
       "        vertical-align: middle;\n",
       "    }\n",
       "\n",
       "    .dataframe tbody tr th {\n",
       "        vertical-align: top;\n",
       "    }\n",
       "\n",
       "    .dataframe thead th {\n",
       "        text-align: right;\n",
       "    }\n",
       "</style>\n",
       "<table border=\"1\" class=\"dataframe\">\n",
       "  <thead>\n",
       "    <tr style=\"text-align: right;\">\n",
       "      <th></th>\n",
       "      <th>key_0</th>\n",
       "      <th>business_code</th>\n",
       "      <th>cust_number</th>\n",
       "      <th>name_customer</th>\n",
       "      <th>clear_date</th>\n",
       "      <th>doc_id</th>\n",
       "      <th>posting_date</th>\n",
       "      <th>document_create_date</th>\n",
       "      <th>document_create_date.1</th>\n",
       "      <th>due_in_date</th>\n",
       "      <th>total_open_amount</th>\n",
       "      <th>baseline_create_date</th>\n",
       "      <th>cust_payment_terms</th>\n",
       "      <th>delay</th>\n",
       "    </tr>\n",
       "  </thead>\n",
       "  <tbody>\n",
       "    <tr>\n",
       "      <th>0</th>\n",
       "      <td>1595</td>\n",
       "      <td>U001</td>\n",
       "      <td>0200744019</td>\n",
       "      <td>TARG co</td>\n",
       "      <td>2019-01-11</td>\n",
       "      <td>1928531604.0</td>\n",
       "      <td>2018-12-30</td>\n",
       "      <td>2018-12-31</td>\n",
       "      <td>2018-12-30</td>\n",
       "      <td>2019-01-14</td>\n",
       "      <td>8156.46</td>\n",
       "      <td>2018-12-30</td>\n",
       "      <td>NAA8</td>\n",
       "      <td>-3</td>\n",
       "    </tr>\n",
       "    <tr>\n",
       "      <th>1</th>\n",
       "      <td>23335</td>\n",
       "      <td>U001</td>\n",
       "      <td>0200769623</td>\n",
       "      <td>WAL-MAR foundation</td>\n",
       "      <td>2019-01-10</td>\n",
       "      <td>1928542629.0</td>\n",
       "      <td>2018-12-30</td>\n",
       "      <td>2018-12-30</td>\n",
       "      <td>2018-12-30</td>\n",
       "      <td>2019-01-14</td>\n",
       "      <td>16987.34</td>\n",
       "      <td>2018-12-30</td>\n",
       "      <td>NAH4</td>\n",
       "      <td>-4</td>\n",
       "    </tr>\n",
       "    <tr>\n",
       "      <th>2</th>\n",
       "      <td>29642</td>\n",
       "      <td>U001</td>\n",
       "      <td>0200762301</td>\n",
       "      <td>C&amp;S WH in</td>\n",
       "      <td>2019-01-15</td>\n",
       "      <td>1928541925.0</td>\n",
       "      <td>2018-12-30</td>\n",
       "      <td>2018-12-29</td>\n",
       "      <td>2018-12-30</td>\n",
       "      <td>2019-01-14</td>\n",
       "      <td>76132.87</td>\n",
       "      <td>2018-12-30</td>\n",
       "      <td>NAC6</td>\n",
       "      <td>1</td>\n",
       "    </tr>\n",
       "    <tr>\n",
       "      <th>3</th>\n",
       "      <td>5544</td>\n",
       "      <td>U001</td>\n",
       "      <td>0200769623</td>\n",
       "      <td>WAL-MAR associates</td>\n",
       "      <td>2019-01-09</td>\n",
       "      <td>1928539490.0</td>\n",
       "      <td>2018-12-30</td>\n",
       "      <td>2018-12-29</td>\n",
       "      <td>2018-12-30</td>\n",
       "      <td>2019-01-14</td>\n",
       "      <td>323.72</td>\n",
       "      <td>2018-12-30</td>\n",
       "      <td>NAH4</td>\n",
       "      <td>-5</td>\n",
       "    </tr>\n",
       "    <tr>\n",
       "      <th>4</th>\n",
       "      <td>37549</td>\n",
       "      <td>U001</td>\n",
       "      <td>0200769623</td>\n",
       "      <td>WAL-MAR foundation</td>\n",
       "      <td>2019-01-10</td>\n",
       "      <td>1928542619.0</td>\n",
       "      <td>2018-12-30</td>\n",
       "      <td>2018-12-30</td>\n",
       "      <td>2018-12-30</td>\n",
       "      <td>2019-01-14</td>\n",
       "      <td>27642.47</td>\n",
       "      <td>2018-12-30</td>\n",
       "      <td>NAH4</td>\n",
       "      <td>-4</td>\n",
       "    </tr>\n",
       "    <tr>\n",
       "      <th>...</th>\n",
       "      <td>...</td>\n",
       "      <td>...</td>\n",
       "      <td>...</td>\n",
       "      <td>...</td>\n",
       "      <td>...</td>\n",
       "      <td>...</td>\n",
       "      <td>...</td>\n",
       "      <td>...</td>\n",
       "      <td>...</td>\n",
       "      <td>...</td>\n",
       "      <td>...</td>\n",
       "      <td>...</td>\n",
       "      <td>...</td>\n",
       "      <td>...</td>\n",
       "    </tr>\n",
       "    <tr>\n",
       "      <th>29353</th>\n",
       "      <td>13162</td>\n",
       "      <td>U001</td>\n",
       "      <td>0200762301</td>\n",
       "      <td>C&amp;S WH us</td>\n",
       "      <td>2019-11-13</td>\n",
       "      <td>1930054930.0</td>\n",
       "      <td>2019-10-26</td>\n",
       "      <td>2019-10-26</td>\n",
       "      <td>2019-10-26</td>\n",
       "      <td>2019-11-10</td>\n",
       "      <td>128232.52</td>\n",
       "      <td>2019-10-26</td>\n",
       "      <td>NAC6</td>\n",
       "      <td>3</td>\n",
       "    </tr>\n",
       "    <tr>\n",
       "      <th>29354</th>\n",
       "      <td>12844</td>\n",
       "      <td>CA02</td>\n",
       "      <td>0140106408</td>\n",
       "      <td>WAL-M us</td>\n",
       "      <td>2019-11-13</td>\n",
       "      <td>2960588393.0</td>\n",
       "      <td>2019-10-26</td>\n",
       "      <td>2019-10-26</td>\n",
       "      <td>2019-10-26</td>\n",
       "      <td>2019-11-06</td>\n",
       "      <td>10945.45</td>\n",
       "      <td>2019-10-27</td>\n",
       "      <td>CA10</td>\n",
       "      <td>7</td>\n",
       "    </tr>\n",
       "    <tr>\n",
       "      <th>29355</th>\n",
       "      <td>49087</td>\n",
       "      <td>U001</td>\n",
       "      <td>0200769623</td>\n",
       "      <td>WAL-MAR llc</td>\n",
       "      <td>2019-11-06</td>\n",
       "      <td>1930056012.0</td>\n",
       "      <td>2019-10-27</td>\n",
       "      <td>2019-10-26</td>\n",
       "      <td>2019-10-27</td>\n",
       "      <td>2019-11-11</td>\n",
       "      <td>77214.74</td>\n",
       "      <td>2019-10-27</td>\n",
       "      <td>NAH4</td>\n",
       "      <td>-5</td>\n",
       "    </tr>\n",
       "    <tr>\n",
       "      <th>29356</th>\n",
       "      <td>43575</td>\n",
       "      <td>U001</td>\n",
       "      <td>0200726979</td>\n",
       "      <td>BJ'S  in</td>\n",
       "      <td>2019-11-12</td>\n",
       "      <td>1930067799.0</td>\n",
       "      <td>2019-10-27</td>\n",
       "      <td>2019-10-29</td>\n",
       "      <td>2019-10-27</td>\n",
       "      <td>2019-11-11</td>\n",
       "      <td>27.60</td>\n",
       "      <td>2019-10-27</td>\n",
       "      <td>NAA8</td>\n",
       "      <td>1</td>\n",
       "    </tr>\n",
       "    <tr>\n",
       "      <th>29357</th>\n",
       "      <td>26080</td>\n",
       "      <td>U001</td>\n",
       "      <td>0200706844</td>\n",
       "      <td>WINC in</td>\n",
       "      <td>2019-11-12</td>\n",
       "      <td>1930055792.0</td>\n",
       "      <td>2019-10-27</td>\n",
       "      <td>2019-10-28</td>\n",
       "      <td>2019-10-27</td>\n",
       "      <td>2019-11-11</td>\n",
       "      <td>75467.88</td>\n",
       "      <td>2019-10-27</td>\n",
       "      <td>NAA8</td>\n",
       "      <td>1</td>\n",
       "    </tr>\n",
       "  </tbody>\n",
       "</table>\n",
       "<p>29358 rows × 14 columns</p>\n",
       "</div>"
      ],
      "text/plain": [
       "       key_0 business_code cust_number       name_customer clear_date  \\\n",
       "0       1595          U001  0200744019             TARG co 2019-01-11   \n",
       "1      23335          U001  0200769623  WAL-MAR foundation 2019-01-10   \n",
       "2      29642          U001  0200762301           C&S WH in 2019-01-15   \n",
       "3       5544          U001  0200769623  WAL-MAR associates 2019-01-09   \n",
       "4      37549          U001  0200769623  WAL-MAR foundation 2019-01-10   \n",
       "...      ...           ...         ...                 ...        ...   \n",
       "29353  13162          U001  0200762301           C&S WH us 2019-11-13   \n",
       "29354  12844          CA02  0140106408            WAL-M us 2019-11-13   \n",
       "29355  49087          U001  0200769623         WAL-MAR llc 2019-11-06   \n",
       "29356  43575          U001  0200726979            BJ'S  in 2019-11-12   \n",
       "29357  26080          U001  0200706844             WINC in 2019-11-12   \n",
       "\n",
       "             doc_id posting_date document_create_date document_create_date.1  \\\n",
       "0      1928531604.0   2018-12-30           2018-12-31             2018-12-30   \n",
       "1      1928542629.0   2018-12-30           2018-12-30             2018-12-30   \n",
       "2      1928541925.0   2018-12-30           2018-12-29             2018-12-30   \n",
       "3      1928539490.0   2018-12-30           2018-12-29             2018-12-30   \n",
       "4      1928542619.0   2018-12-30           2018-12-30             2018-12-30   \n",
       "...             ...          ...                  ...                    ...   \n",
       "29353  1930054930.0   2019-10-26           2019-10-26             2019-10-26   \n",
       "29354  2960588393.0   2019-10-26           2019-10-26             2019-10-26   \n",
       "29355  1930056012.0   2019-10-27           2019-10-26             2019-10-27   \n",
       "29356  1930067799.0   2019-10-27           2019-10-29             2019-10-27   \n",
       "29357  1930055792.0   2019-10-27           2019-10-28             2019-10-27   \n",
       "\n",
       "      due_in_date  total_open_amount baseline_create_date cust_payment_terms  \\\n",
       "0      2019-01-14            8156.46           2018-12-30               NAA8   \n",
       "1      2019-01-14           16987.34           2018-12-30               NAH4   \n",
       "2      2019-01-14           76132.87           2018-12-30               NAC6   \n",
       "3      2019-01-14             323.72           2018-12-30               NAH4   \n",
       "4      2019-01-14           27642.47           2018-12-30               NAH4   \n",
       "...           ...                ...                  ...                ...   \n",
       "29353  2019-11-10          128232.52           2019-10-26               NAC6   \n",
       "29354  2019-11-06           10945.45           2019-10-27               CA10   \n",
       "29355  2019-11-11           77214.74           2019-10-27               NAH4   \n",
       "29356  2019-11-11              27.60           2019-10-27               NAA8   \n",
       "29357  2019-11-11           75467.88           2019-10-27               NAA8   \n",
       "\n",
       "       delay  \n",
       "0         -3  \n",
       "1         -4  \n",
       "2          1  \n",
       "3         -5  \n",
       "4         -4  \n",
       "...      ...  \n",
       "29353      3  \n",
       "29354      7  \n",
       "29355     -5  \n",
       "29356      1  \n",
       "29357      1  \n",
       "\n",
       "[29358 rows x 14 columns]"
      ]
     },
     "execution_count": 53,
     "metadata": {},
     "output_type": "execute_result"
    }
   ],
   "source": [
    "train.merge(y_train,on=train.index)  ### For a glance"
   ]
  },
  {
   "cell_type": "markdown",
   "id": "0642a550",
   "metadata": {},
   "source": [
    "# Feature Engineering"
   ]
  },
  {
   "cell_type": "code",
   "execution_count": 54,
   "id": "95d751b5",
   "metadata": {},
   "outputs": [],
   "source": [
    "from sklearn.preprocessing import LabelEncoder\n",
    "from sklearn.preprocessing import OneHotEncoder"
   ]
  },
  {
   "cell_type": "code",
   "execution_count": 55,
   "id": "42e026c5",
   "metadata": {},
   "outputs": [],
   "source": [
    "#Creating function to drop the train,val,test columns\n",
    "def Drop(col, traindf=train, valdf=x_val, testdf=x_test):\n",
    "    \n",
    "       traindf.drop(col, inplace=True, axis=1)\n",
    "       valdf.drop(col, inplace=True, axis=1)\n",
    "       testdf.drop(col, inplace=True, axis=1)\n",
    "        \n",
    "       return traindf, valdf, testdf"
   ]
  },
  {
   "cell_type": "code",
   "execution_count": 56,
   "id": "6fbef948",
   "metadata": {},
   "outputs": [],
   "source": [
    "CPayterm= LabelEncoder()\n",
    "CPayterm.fit(train['cust_payment_terms'])\n",
    "train['CPayterm'] = CPayterm.transform(train['cust_payment_terms'])\n"
   ]
  },
  {
   "cell_type": "code",
   "execution_count": 57,
   "id": "36b3ea7c",
   "metadata": {},
   "outputs": [],
   "source": [
    "# finding what are the new catagories in the validation set\n",
    "diff = set(x_val['cust_payment_terms'])-set(CPayterm.classes_)\n",
    "\n",
    "# adding them to the classess variable // \n",
    "for items in diff:\n",
    "    CPayterm.classes_ = np.append(CPayterm.classes_,items)\n",
    "x_val['CPayterm'] = CPayterm.transform(x_val['cust_payment_terms'])\n"
   ]
  },
  {
   "cell_type": "code",
   "execution_count": 58,
   "id": "f013b084",
   "metadata": {},
   "outputs": [],
   "source": [
    "# finding what are the new catagories in the validation set\n",
    "diff2 = set(x_test['cust_payment_terms'])-set(CPayterm.classes_)\n",
    "\n",
    "# adding them to the classess variable // \n",
    "for items in diff2:\n",
    "    CPayterm.classes_ = np.append(CPayterm.classes_,items)\n",
    "x_test['CPayterm'] = CPayterm.transform(x_test['cust_payment_terms'])\n",
    "\n",
    "train, x_val, x_test = Drop(['cust_payment_terms'])"
   ]
  },
  {
   "cell_type": "code",
   "execution_count": 59,
   "id": "d2d97df0",
   "metadata": {},
   "outputs": [],
   "source": [
    "Busiicode= LabelEncoder()\n",
    "Busiicode.fit(train['business_code'])\n",
    "train['Busiicode'] = Busiicode.transform(train['business_code'])"
   ]
  },
  {
   "cell_type": "code",
   "execution_count": 60,
   "id": "e554738c",
   "metadata": {},
   "outputs": [],
   "source": [
    "# finding what are the new catagories in the validation set\n",
    "diff = set(x_val['business_code'])-set(Busiicode.classes_)\n",
    "\n",
    "# adding them to the classess variable // \n",
    "for items in diff:\n",
    "    Busiicode.classes_ = np.append(Busiicode.classes_,items)\n",
    "x_val['Busiicode'] = Busiicode.transform(x_val['business_code'])\n"
   ]
  },
  {
   "cell_type": "code",
   "execution_count": 61,
   "id": "905b59f8",
   "metadata": {},
   "outputs": [],
   "source": [
    "# finding what are the new catagories in the validation set\n",
    "diff2 = set(x_test['business_code'])-set(Busiicode.classes_)\n",
    "\n",
    "# adding them to the classess variable // \n",
    "for items in diff2:\n",
    "    Busiicode.classes_ = np.append(Busiicode.classes_,items)\n",
    "x_test['Busiicode'] = Busiicode.transform(x_test['business_code'])\n",
    "\n",
    "train, x_val, x_test = Drop(['business_code'])"
   ]
  },
  {
   "cell_type": "code",
   "execution_count": 62,
   "id": "3b0f1521",
   "metadata": {},
   "outputs": [],
   "source": [
    "# Remove 'clear_date' column as it has to be predicted "
   ]
  },
  {
   "cell_type": "code",
   "execution_count": 63,
   "id": "eaf4efe0",
   "metadata": {},
   "outputs": [],
   "source": [
    "train, x_val, x_test = Drop(['clear_date'])"
   ]
  },
  {
   "cell_type": "code",
   "execution_count": 64,
   "id": "b40e8360",
   "metadata": {},
   "outputs": [],
   "source": [
    "def status_check(traindf = train,valdf = x_val,testdf = x_test):\n",
    "    print(traindf.info())\n",
    "    print(\"\\n\")\n",
    "    print(traindf.shape,valdf.shape,testdf.shape)\n",
    "    "
   ]
  },
  {
   "cell_type": "code",
   "execution_count": 65,
   "id": "007c37b1",
   "metadata": {},
   "outputs": [],
   "source": [
    "# Removing two other columns that is not in use"
   ]
  },
  {
   "cell_type": "code",
   "execution_count": 66,
   "id": "0f7b3d15",
   "metadata": {},
   "outputs": [],
   "source": [
    "Cnum= LabelEncoder()\n",
    "Cnum.fit(train['cust_number'])\n",
    "train['Cnum'] = Cnum.transform(train['cust_number'])"
   ]
  },
  {
   "cell_type": "code",
   "execution_count": 67,
   "id": "66f7b3ce",
   "metadata": {},
   "outputs": [],
   "source": [
    "# finding what are the new catagories in the validation set\n",
    "diff = set(x_val['cust_number'])-set(Cnum.classes_)\n",
    "\n",
    "# adding them to the classess variable // \n",
    "for items in diff:\n",
    "    Cnum.classes_ = np.append(Cnum.classes_,items)\n",
    "x_val['Cnum'] = Cnum.transform(x_val['cust_number'])\n"
   ]
  },
  {
   "cell_type": "code",
   "execution_count": 68,
   "id": "0b0ce203",
   "metadata": {},
   "outputs": [],
   "source": [
    "# finding what are the new catagories in the test set\n",
    "diff2 = set(x_test['cust_number'])-set(Cnum.classes_)\n",
    "\n",
    "# adding them to the classess variable // \n",
    "for items in diff2:\n",
    "    Cnum.classes_ = np.append(Cnum.classes_,items)\n",
    "x_test['Cnum'] = Cnum.transform(x_test['cust_number'])\n",
    "\n",
    "\n"
   ]
  },
  {
   "cell_type": "code",
   "execution_count": 69,
   "id": "10ecc98f",
   "metadata": {},
   "outputs": [],
   "source": [
    "train, x_val, x_test = Drop(['cust_number'])"
   ]
  },
  {
   "cell_type": "code",
   "execution_count": 70,
   "id": "ab1716cc",
   "metadata": {},
   "outputs": [],
   "source": [
    "Cname= LabelEncoder()\n",
    "Cname.fit(train['name_customer'])\n",
    "train['Cname'] = Cname.transform(train['name_customer'])\n"
   ]
  },
  {
   "cell_type": "code",
   "execution_count": 71,
   "id": "0cf7c4a1",
   "metadata": {},
   "outputs": [],
   "source": [
    "# finding what are the new catagories in the validation set\n",
    "diff = set(x_val['name_customer'])-set(Cname.classes_)\n",
    "\n",
    "# adding them to the classess variable // \n",
    "for items in diff:\n",
    "    Cname.classes_ = np.append(Cname.classes_,items)\n",
    "x_val['Cname'] = Cname.transform(x_val['name_customer'])\n"
   ]
  },
  {
   "cell_type": "code",
   "execution_count": 72,
   "id": "bd6fd229",
   "metadata": {},
   "outputs": [],
   "source": [
    "# finding what are the new catagories in the validation set\n",
    "diff2 = set(x_test['name_customer'])-set(Cname.classes_)\n",
    "\n",
    "# adding them to the classess variable // \n",
    "for items in diff2:\n",
    "    Cname.classes_ = np.append(Cname.classes_,items)\n",
    "x_test['Cname'] = Cname.transform(x_test['name_customer'])\n",
    "\n",
    "\n"
   ]
  },
  {
   "cell_type": "code",
   "execution_count": 73,
   "id": "49d36a92",
   "metadata": {},
   "outputs": [],
   "source": [
    "train, x_val, x_test = Drop(['name_customer'])"
   ]
  },
  {
   "cell_type": "code",
   "execution_count": 74,
   "id": "bd8ea82f",
   "metadata": {},
   "outputs": [],
   "source": [
    "train['DocD']=train['document_create_date'].dt.day\n",
    "x_val['DocD']=x_val['document_create_date'].dt.day\n",
    "x_test['DocD']=x_test['document_create_date'].dt.day\n",
    "\n",
    "train['DocM']=train['document_create_date'].dt.month\n",
    "x_val['DocM']=x_val['document_create_date'].dt.month\n",
    "x_test['DocM']=x_test['document_create_date'].dt.month\n",
    "\n",
    "train['Docdow']=train['document_create_date'].dt.dayofweek\n",
    "x_val['Docdow']=x_val['document_create_date'].dt.dayofweek\n",
    "x_test['Docdow']=x_test['document_create_date'].dt.dayofweek\n",
    "\n",
    "train['DocQ']=train['document_create_date'].dt.quarter\n",
    "x_val['DocQ']=x_val['document_create_date'].dt.quarter\n",
    "x_test['DocQ']=x_test['document_create_date'].dt.quarter\n",
    "\n",
    "train, x_val, x_test = Drop(['document_create_date'])\n"
   ]
  },
  {
   "cell_type": "code",
   "execution_count": 75,
   "id": "59ddd213",
   "metadata": {},
   "outputs": [],
   "source": [
    "#### Removing another column\n",
    "train, x_val, x_test = Drop(['document_create_date.1'])"
   ]
  },
  {
   "cell_type": "code",
   "execution_count": 76,
   "id": "6b939220",
   "metadata": {},
   "outputs": [],
   "source": [
    "#extracting day, month, days of week and quarter\n",
    "train['PosD']=train['posting_date'].dt.day\n",
    "x_val['PosD']=x_val['posting_date'].dt.day\n",
    "x_test['PosD']=x_test['posting_date'].dt.day\n",
    "\n",
    "train['PosM']=train['posting_date'].dt.month\n",
    "x_val['PosM']=x_val['posting_date'].dt.month\n",
    "x_test['PosM']=x_test['posting_date'].dt.month\n",
    "\n",
    "train['Posdow']=train['posting_date'].dt.dayofweek\n",
    "x_val['Posdow']=x_val['posting_date'].dt.dayofweek\n",
    "x_test['Posdow']=x_test['posting_date'].dt.dayofweek\n",
    "\n",
    "#train['PY']=train['posting_date'].dt.year\n",
    "#x_val['PY']=x_val['posting_date'].dt.year\n",
    "#x_test['PY']=x_test['posting_date'].dt.year\n",
    "\n",
    "train, x_val, x_test = Drop(['posting_date'])\n",
    "#Dropping the Column using Drop function"
   ]
  },
  {
   "cell_type": "code",
   "execution_count": 77,
   "id": "3007a498",
   "metadata": {},
   "outputs": [],
   "source": [
    "train['DD']=train['due_in_date'].dt.day\n",
    "x_val['DD']=x_val['due_in_date'].dt.day\n",
    "x_test['DD']=x_test['due_in_date'].dt.day\n",
    "\n",
    "train['DM']=train['due_in_date'].dt.month\n",
    "x_val['DM']=x_val['due_in_date'].dt.month\n",
    "x_test['DM']=x_test['due_in_date'].dt.month\n",
    "\n",
    "train['DQ']=train['due_in_date'].dt.quarter\n",
    "x_val['DQ']=x_val['due_in_date'].dt.quarter\n",
    "x_test['DQ']=x_test['due_in_date'].dt.quarter\n",
    "\n",
    "#train['DY']=train['due_in_date'].dt.year\n",
    "#x_val['DY']=x_val['due_in_date'].dt.year\n",
    "#x_test['DY']=x_test['due_in_date'].dt.year\n",
    "\n",
    "train, x_val, x_test = Drop(['due_in_date'])"
   ]
  },
  {
   "cell_type": "code",
   "execution_count": 78,
   "id": "16a602e2",
   "metadata": {},
   "outputs": [],
   "source": [
    "train['BCD']=train['baseline_create_date'].dt.day\n",
    "x_val['BCD']=x_val['baseline_create_date'].dt.day\n",
    "x_test['BCD']=x_test['baseline_create_date'].dt.day\n",
    "\n",
    "train['BCM']=train['baseline_create_date'].dt.month\n",
    "x_val['BCM']=x_val['baseline_create_date'].dt.month\n",
    "x_test['BCM']=x_test['baseline_create_date'].dt.month\n",
    "\n",
    "train['BCdow']=train['baseline_create_date'].dt.dayofweek\n",
    "x_val['BCdow']=x_val['baseline_create_date'].dt.dayofweek\n",
    "x_test['BCdow']=x_test['baseline_create_date'].dt.dayofweek\n",
    "\n",
    "train, x_val, x_test = Drop(['baseline_create_date'])"
   ]
  },
  {
   "cell_type": "markdown",
   "id": "7e3d8a92",
   "metadata": {},
   "source": [
    "# Feature Selection"
   ]
  },
  {
   "cell_type": "code",
   "execution_count": 79,
   "id": "bd9148b8",
   "metadata": {},
   "outputs": [],
   "source": [
    "### Checking if any outlier crreated"
   ]
  },
  {
   "cell_type": "code",
   "execution_count": 80,
   "id": "858e2d70",
   "metadata": {},
   "outputs": [
    {
     "data": {
      "text/plain": [
       "<AxesSubplot:>"
      ]
     },
     "execution_count": 80,
     "metadata": {},
     "output_type": "execute_result"
    },
    {
     "data": {
      "image/png": "[encoded data removed]",
      "text/plain": [
       "<Figure size 432x288 with 1 Axes>"
      ]
     },
     "metadata": {
      "needs_background": "light"
     },
     "output_type": "display_data"
    }
   ],
   "source": [
    "sns.boxplot(data=train,orient='h',palette='Set2')"
   ]
  },
  {
   "cell_type": "code",
   "execution_count": 81,
   "id": "ec0a4209",
   "metadata": {},
   "outputs": [
    {
     "name": "stdout",
     "output_type": "stream",
     "text": [
      "<class 'pandas.core.frame.DataFrame'>\n",
      "Int64Index: 29358 entries, 1595 to 26080\n",
      "Data columns (total 19 columns):\n",
      " #   Column             Non-Null Count  Dtype  \n",
      "---  ------             --------------  -----  \n",
      " 0   doc_id             29358 non-null  object \n",
      " 1   total_open_amount  29358 non-null  float64\n",
      " 2   CPayterm           29358 non-null  int32  \n",
      " 3   Busiicode          29358 non-null  int32  \n",
      " 4   Cnum               29358 non-null  int32  \n",
      " 5   Cname              29358 non-null  int32  \n",
      " 6   DocD               29358 non-null  int64  \n",
      " 7   DocM               29358 non-null  int64  \n",
      " 8   Docdow             29358 non-null  int64  \n",
      " 9   DocQ               29358 non-null  int64  \n",
      " 10  PosD               29358 non-null  int64  \n",
      " 11  PosM               29358 non-null  int64  \n",
      " 12  Posdow             29358 non-null  int64  \n",
      " 13  DD                 29358 non-null  int64  \n",
      " 14  DM                 29358 non-null  int64  \n",
      " 15  DQ                 29358 non-null  int64  \n",
      " 16  BCD                29358 non-null  int64  \n",
      " 17  BCM                29358 non-null  int64  \n",
      " 18  BCdow              29358 non-null  int64  \n",
      "dtypes: float64(1), int32(4), int64(13), object(1)\n",
      "memory usage: 4.0+ MB\n",
      "None\n",
      "\n",
      "\n",
      "(29358, 19) (4893, 19) (4893, 19)\n"
     ]
    }
   ],
   "source": [
    "status_check()"
   ]
  },
  {
   "cell_type": "code",
   "execution_count": 82,
   "id": "220f4442",
   "metadata": {},
   "outputs": [],
   "source": [
    "### Check if any other column needs to be dropped"
   ]
  },
  {
   "cell_type": "code",
   "execution_count": 83,
   "id": "0f899fc6",
   "metadata": {},
   "outputs": [
    {
     "data": {
      "image/png": "[encoded data removed]",
      "text/plain": [
       "<Figure size 1296x576 with 2 Axes>"
      ]
     },
     "metadata": {
      "needs_background": "light"
     },
     "output_type": "display_data"
    }
   ],
   "source": [
    "train_corr=train.merge(y_train,on=train.index).corr()\n",
    "f,ax=plt.subplots(figsize=(18,8))\n",
    "sns.heatmap(train_corr,cmap=None,annot=True)\n",
    "plt.title(\"Correlation between features\",weight='bold',fontsize=18)\n",
    "plt.show()"
   ]
  },
  {
   "cell_type": "markdown",
   "id": "3e3264e1",
   "metadata": {},
   "source": [
    "# Prediction using models"
   ]
  },
  {
   "cell_type": "markdown",
   "id": "3a94c166",
   "metadata": {},
   "source": [
    "## Create Base Model"
   ]
  },
  {
   "cell_type": "code",
   "execution_count": 84,
   "id": "8be4df58",
   "metadata": {},
   "outputs": [
    {
     "data": {
      "text/plain": [
       "VarianceThreshold(threshold=0.8)"
      ]
     },
     "execution_count": 84,
     "metadata": {},
     "output_type": "execute_result"
    }
   ],
   "source": [
    "from sklearn.feature_selection import VarianceThreshold\n",
    "from sklearn.metrics import r2_score\n",
    "sel = VarianceThreshold(0.8)\n",
    "sel.fit(train)"
   ]
  },
  {
   "cell_type": "code",
   "execution_count": 85,
   "id": "36a1f953",
   "metadata": {},
   "outputs": [
    {
     "data": {
      "text/plain": [
       "array([8.82267757e+16, 1.51889384e+09, 1.24590257e+02, 2.94806384e-01,\n",
       "       5.75411974e+04, 1.33427326e+06, 7.53970574e+01, 7.99259836e+00,\n",
       "       3.22487081e+00, 9.12348725e-01, 7.55039750e+01, 7.93606128e+00,\n",
       "       3.22791427e+00, 7.69426223e+01, 8.08771591e+00, 9.85990174e-01,\n",
       "       7.74852108e+01, 7.94144158e+00, 3.27062188e+00])"
      ]
     },
     "execution_count": 85,
     "metadata": {},
     "output_type": "execute_result"
    }
   ],
   "source": [
    "sel.variances_"
   ]
  },
  {
   "cell_type": "code",
   "execution_count": 86,
   "id": "b9c80a29",
   "metadata": {},
   "outputs": [
    {
     "data": {
      "text/plain": [
       "LinearRegression(n_jobs=10, normalize=True)"
      ]
     },
     "execution_count": 86,
     "metadata": {},
     "output_type": "execute_result"
    }
   ],
   "source": [
    "from sklearn.linear_model import LinearRegression\n",
    "linear_model = LinearRegression(copy_X=True, fit_intercept=True, n_jobs=10, normalize=True)\n",
    "linear_model.fit(train,y_train)\n",
    "#fitting the model according to our train dataset"
   ]
  },
  {
   "cell_type": "code",
   "execution_count": 87,
   "id": "fd7d110a",
   "metadata": {},
   "outputs": [],
   "source": [
    "y_pre=linear_model.predict(train)"
   ]
  },
  {
   "cell_type": "code",
   "execution_count": 88,
   "id": "dcc405be",
   "metadata": {},
   "outputs": [],
   "source": [
    "y_pred=linear_model.predict(x_val)"
   ]
  },
  {
   "cell_type": "code",
   "execution_count": 89,
   "id": "57a5a66e",
   "metadata": {},
   "outputs": [],
   "source": [
    "y_pred2=linear_model.predict(x_test)"
   ]
  },
  {
   "cell_type": "code",
   "execution_count": 90,
   "id": "b55c7403",
   "metadata": {},
   "outputs": [
    {
     "data": {
      "text/plain": [
       "7.972388287462525"
      ]
     },
     "execution_count": 90,
     "metadata": {},
     "output_type": "execute_result"
    }
   ],
   "source": [
    "from sklearn.metrics import mean_squared_error\n",
    "\n",
    "mean_squared_error(y_val, y_pred, squared=False)\n"
   ]
  },
  {
   "cell_type": "code",
   "execution_count": 91,
   "id": "d4f332c1",
   "metadata": {},
   "outputs": [
    {
     "data": {
      "text/plain": [
       "10.684233733539646"
      ]
     },
     "execution_count": 91,
     "metadata": {},
     "output_type": "execute_result"
    }
   ],
   "source": [
    "from sklearn.metrics import mean_squared_error\n",
    "\n",
    "mean_squared_error(y_test, y_pred2, squared=False)"
   ]
  },
  {
   "cell_type": "code",
   "execution_count": 92,
   "id": "3ad2862f",
   "metadata": {},
   "outputs": [
    {
     "data": {
      "text/plain": [
       "10.966493516420453"
      ]
     },
     "execution_count": 92,
     "metadata": {},
     "output_type": "execute_result"
    }
   ],
   "source": [
    "from sklearn.metrics import mean_squared_error\n",
    "\n",
    "mean_squared_error(y_train, y_pre, squared=False)"
   ]
  },
  {
   "cell_type": "code",
   "execution_count": 93,
   "id": "9ab2ac3e",
   "metadata": {},
   "outputs": [
    {
     "data": {
      "text/plain": [
       "-0.805804623880829"
      ]
     },
     "execution_count": 93,
     "metadata": {},
     "output_type": "execute_result"
    }
   ],
   "source": [
    "r2_score(y_val,y_pred)"
   ]
  },
  {
   "cell_type": "code",
   "execution_count": 94,
   "id": "86510397",
   "metadata": {},
   "outputs": [
    {
     "data": {
      "text/html": [
       "<div>\n",
       "<style scoped>\n",
       "    .dataframe tbody tr th:only-of-type {\n",
       "        vertical-align: middle;\n",
       "    }\n",
       "\n",
       "    .dataframe tbody tr th {\n",
       "        vertical-align: top;\n",
       "    }\n",
       "\n",
       "    .dataframe thead th {\n",
       "        text-align: right;\n",
       "    }\n",
       "</style>\n",
       "<table border=\"1\" class=\"dataframe\">\n",
       "  <thead>\n",
       "    <tr style=\"text-align: right;\">\n",
       "      <th></th>\n",
       "      <th>Predicted</th>\n",
       "      <th>Actuals</th>\n",
       "    </tr>\n",
       "  </thead>\n",
       "  <tbody>\n",
       "    <tr>\n",
       "      <th>0</th>\n",
       "      <td>-0.017119</td>\n",
       "      <td>0</td>\n",
       "    </tr>\n",
       "    <tr>\n",
       "      <th>1</th>\n",
       "      <td>-3.975358</td>\n",
       "      <td>-2</td>\n",
       "    </tr>\n",
       "    <tr>\n",
       "      <th>2</th>\n",
       "      <td>0.021529</td>\n",
       "      <td>-5</td>\n",
       "    </tr>\n",
       "    <tr>\n",
       "      <th>3</th>\n",
       "      <td>3.748843</td>\n",
       "      <td>0</td>\n",
       "    </tr>\n",
       "    <tr>\n",
       "      <th>4</th>\n",
       "      <td>-2.963234</td>\n",
       "      <td>-2</td>\n",
       "    </tr>\n",
       "    <tr>\n",
       "      <th>...</th>\n",
       "      <td>...</td>\n",
       "      <td>...</td>\n",
       "    </tr>\n",
       "    <tr>\n",
       "      <th>4888</th>\n",
       "      <td>16.881443</td>\n",
       "      <td>5</td>\n",
       "    </tr>\n",
       "    <tr>\n",
       "      <th>4889</th>\n",
       "      <td>14.971169</td>\n",
       "      <td>-3</td>\n",
       "    </tr>\n",
       "    <tr>\n",
       "      <th>4890</th>\n",
       "      <td>13.865926</td>\n",
       "      <td>-1</td>\n",
       "    </tr>\n",
       "    <tr>\n",
       "      <th>4891</th>\n",
       "      <td>-0.953898</td>\n",
       "      <td>-1</td>\n",
       "    </tr>\n",
       "    <tr>\n",
       "      <th>4892</th>\n",
       "      <td>16.937263</td>\n",
       "      <td>19</td>\n",
       "    </tr>\n",
       "  </tbody>\n",
       "</table>\n",
       "<p>4893 rows × 2 columns</p>\n",
       "</div>"
      ],
      "text/plain": [
       "      Predicted  Actuals\n",
       "0     -0.017119        0\n",
       "1     -3.975358       -2\n",
       "2      0.021529       -5\n",
       "3      3.748843        0\n",
       "4     -2.963234       -2\n",
       "...         ...      ...\n",
       "4888  16.881443        5\n",
       "4889  14.971169       -3\n",
       "4890  13.865926       -1\n",
       "4891  -0.953898       -1\n",
       "4892  16.937263       19\n",
       "\n",
       "[4893 rows x 2 columns]"
      ]
     },
     "execution_count": 94,
     "metadata": {},
     "output_type": "execute_result"
    }
   ],
   "source": [
    "met = pd.DataFrame(zip(y_pred , y_test),columns=['Predicted','Actuals'])\n",
    "met"
   ]
  },
  {
   "cell_type": "code",
   "execution_count": 95,
   "id": "718b0f1d",
   "metadata": {},
   "outputs": [
    {
     "data": {
      "text/plain": [
       "0.932113553971563"
      ]
     },
     "execution_count": 95,
     "metadata": {},
     "output_type": "execute_result"
    }
   ],
   "source": [
    "(abs(met.Predicted-met.Actuals)/met.Actuals).median()"
   ]
  },
  {
   "cell_type": "markdown",
   "id": "f15f09a4",
   "metadata": {},
   "source": [
    "## Tree Based model"
   ]
  },
  {
   "cell_type": "code",
   "execution_count": 96,
   "id": "ef5bbbf6",
   "metadata": {},
   "outputs": [],
   "source": [
    "from sklearn.tree import DecisionTreeRegressor\n",
    "Dtree = DecisionTreeRegressor(random_state=0 , max_depth=8)"
   ]
  },
  {
   "cell_type": "code",
   "execution_count": 97,
   "id": "fd914c83",
   "metadata": {},
   "outputs": [
    {
     "data": {
      "text/plain": [
       "DecisionTreeRegressor(max_depth=8, random_state=0)"
      ]
     },
     "execution_count": 97,
     "metadata": {},
     "output_type": "execute_result"
    }
   ],
   "source": [
    "# Fitting Tree Based model Tree to the Training Set\n",
    "Dtree.fit(train, y_train)"
   ]
  },
  {
   "cell_type": "code",
   "execution_count": 98,
   "id": "8013d73d",
   "metadata": {},
   "outputs": [],
   "source": [
    "#Appending the Scores For Visualisation"
   ]
  },
  {
   "cell_type": "code",
   "execution_count": 99,
   "id": "cd8ad5c8",
   "metadata": {},
   "outputs": [
    {
     "data": {
      "text/plain": [
       "7.679296638903816"
      ]
     },
     "execution_count": 99,
     "metadata": {},
     "output_type": "execute_result"
    }
   ],
   "source": [
    "y_predict = Dtree.predict(train)\n",
    "mean_squared_error(y_train, y_predict, squared=False)"
   ]
  },
  {
   "cell_type": "code",
   "execution_count": 100,
   "id": "f5f24dde",
   "metadata": {},
   "outputs": [],
   "source": [
    "y_predict2 = Dtree.predict(x_val)"
   ]
  },
  {
   "cell_type": "code",
   "execution_count": 101,
   "id": "f4470f55",
   "metadata": {},
   "outputs": [
    {
     "data": {
      "text/plain": [
       "5.147820428429408"
      ]
     },
     "execution_count": 101,
     "metadata": {},
     "output_type": "execute_result"
    }
   ],
   "source": [
    "mean_squared_error(y_val, y_predict2, squared=False)"
   ]
  },
  {
   "cell_type": "code",
   "execution_count": 102,
   "id": "f0bde861",
   "metadata": {},
   "outputs": [
    {
     "data": {
      "text/plain": [
       "9.848473554122531"
      ]
     },
     "execution_count": 102,
     "metadata": {},
     "output_type": "execute_result"
    }
   ],
   "source": [
    "y_predict_test = Dtree.predict(x_test)\n",
    "mean_squared_error(y_test, y_predict_test, squared=False)"
   ]
  },
  {
   "cell_type": "code",
   "execution_count": 103,
   "id": "b05daf14",
   "metadata": {},
   "outputs": [
    {
     "data": {
      "text/plain": [
       "0.2470941807586755"
      ]
     },
     "execution_count": 103,
     "metadata": {},
     "output_type": "execute_result"
    }
   ],
   "source": [
    "r2_score(y_val,y_predict2)"
   ]
  },
  {
   "cell_type": "code",
   "execution_count": 104,
   "id": "1350a920",
   "metadata": {},
   "outputs": [],
   "source": [
    "#this model is also giving up some good result \n",
    "# but we will look for more models "
   ]
  },
  {
   "cell_type": "markdown",
   "id": "a8f752a6",
   "metadata": {},
   "source": [
    "## XG Boost "
   ]
  },
  {
   "cell_type": "code",
   "execution_count": 105,
   "id": "3041f5dc",
   "metadata": {},
   "outputs": [],
   "source": [
    "import xgboost as xgb\n",
    "XGB = DecisionTreeRegressor(random_state=0 , max_depth=5)"
   ]
  },
  {
   "cell_type": "code",
   "execution_count": 106,
   "id": "8c718847",
   "metadata": {},
   "outputs": [
    {
     "data": {
      "text/plain": [
       "DecisionTreeRegressor(max_depth=5, random_state=0)"
      ]
     },
     "execution_count": 106,
     "metadata": {},
     "output_type": "execute_result"
    }
   ],
   "source": [
    "# Fitting XGB Tree to the Training Set\n",
    "XGB.fit(train, y_train)"
   ]
  },
  {
   "cell_type": "code",
   "execution_count": 107,
   "id": "2acd77b6",
   "metadata": {},
   "outputs": [],
   "source": [
    "XGP = XGB.predict(x_val)"
   ]
  },
  {
   "cell_type": "code",
   "execution_count": 108,
   "id": "6b74a955",
   "metadata": {},
   "outputs": [],
   "source": [
    "#Appending the Scores For Visualisation"
   ]
  },
  {
   "cell_type": "code",
   "execution_count": 109,
   "id": "f88225c3",
   "metadata": {},
   "outputs": [
    {
     "data": {
      "text/plain": [
       "5.247550343430756"
      ]
     },
     "execution_count": 109,
     "metadata": {},
     "output_type": "execute_result"
    }
   ],
   "source": [
    "mean_squared_error(y_val, XGP, squared=False)"
   ]
  },
  {
   "cell_type": "code",
   "execution_count": 110,
   "id": "154c6708",
   "metadata": {},
   "outputs": [],
   "source": [
    "XGP = XGB.predict(x_test)"
   ]
  },
  {
   "cell_type": "code",
   "execution_count": 111,
   "id": "f7c32089",
   "metadata": {},
   "outputs": [
    {
     "data": {
      "text/plain": [
       "10.025738029826133"
      ]
     },
     "execution_count": 111,
     "metadata": {},
     "output_type": "execute_result"
    }
   ],
   "source": [
    "mean_squared_error(y_test, XGP, squared=False)"
   ]
  },
  {
   "cell_type": "code",
   "execution_count": 112,
   "id": "3afa762e",
   "metadata": {},
   "outputs": [],
   "source": [
    "#it has also given up the rmse value which is quite similar to tree based model\n"
   ]
  },
  {
   "cell_type": "markdown",
   "id": "1847e5d5",
   "metadata": {},
   "source": [
    "# Random Forest Regressor"
   ]
  },
  {
   "cell_type": "code",
   "execution_count": 113,
   "id": "4c3c6d3d",
   "metadata": {},
   "outputs": [],
   "source": [
    "from sklearn.model_selection import GridSearchCV\n",
    "from sklearn.ensemble import RandomForestRegressor\n",
    "grid_search = RandomForestRegressor(n_jobs=10,max_depth=8,n_estimators=50,random_state=42)\n"
   ]
  },
  {
   "cell_type": "code",
   "execution_count": 114,
   "id": "7c6509cb",
   "metadata": {},
   "outputs": [],
   "source": [
    "## Fitting Random Forest Regressor Tree to the Training Set\n",
    "grid_result= grid_search.fit(train, y_train)"
   ]
  },
  {
   "cell_type": "code",
   "execution_count": 115,
   "id": "05468617",
   "metadata": {},
   "outputs": [],
   "source": [
    "### grid_search = GridSearchCV(grid_search,train,cv=5, scoring='accuracy',n_jobs=-1)"
   ]
  },
  {
   "cell_type": "code",
   "execution_count": 116,
   "id": "8b6be969",
   "metadata": {},
   "outputs": [],
   "source": [
    "Pt=grid_result.predict(train)"
   ]
  },
  {
   "cell_type": "code",
   "execution_count": 117,
   "id": "89bfd915",
   "metadata": {},
   "outputs": [],
   "source": [
    "#Appending the Scores For Visualisation"
   ]
  },
  {
   "cell_type": "code",
   "execution_count": 118,
   "id": "16421e99",
   "metadata": {},
   "outputs": [
    {
     "data": {
      "text/plain": [
       "7.592753079644444"
      ]
     },
     "execution_count": 118,
     "metadata": {},
     "output_type": "execute_result"
    }
   ],
   "source": [
    "mean_squared_error(y_train, Pt, squared=False)"
   ]
  },
  {
   "cell_type": "code",
   "execution_count": 119,
   "id": "ed3730e3",
   "metadata": {},
   "outputs": [
    {
     "data": {
      "text/plain": [
       "10.018951388290231"
      ]
     },
     "execution_count": 119,
     "metadata": {},
     "output_type": "execute_result"
    }
   ],
   "source": [
    "Ptest=grid_result.predict(x_test)\n",
    "mean_squared_error(y_test, Ptest, squared=False)"
   ]
  },
  {
   "cell_type": "code",
   "execution_count": 120,
   "id": "8cacc8ab",
   "metadata": {},
   "outputs": [
    {
     "data": {
      "text/plain": [
       "7.243505525002149"
      ]
     },
     "execution_count": 120,
     "metadata": {},
     "output_type": "execute_result"
    }
   ],
   "source": [
    "Pval=grid_result.predict(x_val)\n",
    "mean_squared_error(y_val, Pval, squared=False)"
   ]
  },
  {
   "cell_type": "code",
   "execution_count": 121,
   "id": "b923d760",
   "metadata": {},
   "outputs": [
    {
     "data": {
      "text/plain": [
       "0.2004398759768461"
      ]
     },
     "execution_count": 121,
     "metadata": {},
     "output_type": "execute_result"
    }
   ],
   "source": [
    "r2_score(y_test,Ptest)"
   ]
  },
  {
   "cell_type": "code",
   "execution_count": 122,
   "id": "671d8010",
   "metadata": {},
   "outputs": [],
   "source": [
    "### Error is low so we'll move to application of this model on the Main Test set\n",
    "### we will use random forest regressor"
   ]
  },
  {
   "cell_type": "markdown",
   "id": "f00ca1d4",
   "metadata": {},
   "source": [
    "## Applying it to the Original Test set"
   ]
  },
  {
   "cell_type": "code",
   "execution_count": 123,
   "id": "9a2500a2",
   "metadata": {},
   "outputs": [],
   "source": [
    "##main_test in same format"
   ]
  },
  {
   "cell_type": "code",
   "execution_count": 124,
   "id": "a0a659fe",
   "metadata": {},
   "outputs": [
    {
     "data": {
      "text/plain": [
       "business_code                0\n",
       "cust_number                  0\n",
       "name_customer                0\n",
       "clear_date                9692\n",
       "buisness_year                0\n",
       "doc_id                       0\n",
       "posting_date                 0\n",
       "document_create_date         0\n",
       "document_create_date.1       0\n",
       "due_in_date                  0\n",
       "invoice_currency             0\n",
       "document type                0\n",
       "total_open_amount            0\n",
       "baseline_create_date         0\n",
       "cust_payment_terms           0\n",
       "invoice_id                   0\n",
       "isOpen                       0\n",
       "dtype: int64"
      ]
     },
     "execution_count": 124,
     "metadata": {},
     "output_type": "execute_result"
    }
   ],
   "source": [
    "X.isna().sum()"
   ]
  },
  {
   "cell_type": "code",
   "execution_count": 125,
   "id": "717e4c2a",
   "metadata": {},
   "outputs": [
    {
     "data": {
      "text/plain": [
       "(9692, 17)"
      ]
     },
     "execution_count": 125,
     "metadata": {},
     "output_type": "execute_result"
    }
   ],
   "source": [
    "# We have to convert or use same procedures to convert the main test as we did for train,val,test data sets\n",
    "# To be able to run with the model\n",
    "main_test=X.drop(['clear_date'], axis=1)\n",
    "X.shape\n"
   ]
  },
  {
   "cell_type": "code",
   "execution_count": 126,
   "id": "0045d09f",
   "metadata": {},
   "outputs": [
    {
     "data": {
      "text/plain": [
       "(9692, 16)"
      ]
     },
     "execution_count": 126,
     "metadata": {},
     "output_type": "execute_result"
    }
   ],
   "source": [
    "main_test.shape"
   ]
  },
  {
   "cell_type": "markdown",
   "id": "92a43d77",
   "metadata": {},
   "source": []
  },
  {
   "cell_type": "code",
   "execution_count": 127,
   "id": "74930945",
   "metadata": {},
   "outputs": [
    {
     "data": {
      "text/plain": [
       "((9692, 12),\n",
       " business_code                5\n",
       " cust_number                658\n",
       " name_customer             1741\n",
       " buisness_year                1\n",
       " doc_id                    9692\n",
       " posting_date                84\n",
       " document_create_date        88\n",
       " document_create_date.1      84\n",
       " due_in_date                127\n",
       " invoice_currency             2\n",
       " document type                1\n",
       " total_open_amount         9034\n",
       " baseline_create_date        85\n",
       " cust_payment_terms          43\n",
       " invoice_id                9692\n",
       " isOpen                       1\n",
       " dtype: int64,\n",
       " Index(['buisness_year', 'invoice_currency', 'document type', 'isOpen'], dtype='object'))"
      ]
     },
     "execution_count": 127,
     "metadata": {},
     "output_type": "execute_result"
    }
   ],
   "source": [
    "Tunique=main_test.nunique()\n",
    "#tunique=x_test.nunique()\n",
    "Tdrop=Tunique[nunique<=2].index\n",
    "## columns removed from test set are => 'buisness_year', 'invoice_currency', 'document type', 'isOpen'\n",
    "main_test= main_test.drop(Tdrop, axis = 1)\n",
    "main_test.shape,Tunique, Tdrop"
   ]
  },
  {
   "cell_type": "code",
   "execution_count": 128,
   "id": "5d5dbfe1",
   "metadata": {},
   "outputs": [],
   "source": [
    "# same encoding used earlier\n",
    "# we have to just encode it in same terms to be ready to processing in a model\n",
    "CPayterm= LabelEncoder()\n",
    "CPayterm.fit(main_test['cust_payment_terms'])\n",
    "main_test['CPayterm'] = CPayterm.transform(main_test['cust_payment_terms'])"
   ]
  },
  {
   "cell_type": "code",
   "execution_count": 129,
   "id": "76cb0662",
   "metadata": {},
   "outputs": [],
   "source": [
    "main_test.drop(['cust_payment_terms'],inplace=True,axis=1)"
   ]
  },
  {
   "cell_type": "code",
   "execution_count": 130,
   "id": "0bddd812",
   "metadata": {},
   "outputs": [],
   "source": [
    "\n",
    "Busiicode= LabelEncoder()\n",
    "Busiicode.fit(main_test['business_code'])\n",
    "main_test['Busiicode'] = Busiicode.transform(main_test['business_code'])\n",
    "\n",
    "main_test.drop(['business_code'],inplace=True,axis=1)"
   ]
  },
  {
   "cell_type": "code",
   "execution_count": 131,
   "id": "241b98af",
   "metadata": {},
   "outputs": [],
   "source": [
    "\n",
    "Cnum= LabelEncoder()\n",
    "Cnum.fit(main_test['cust_number'])\n",
    "main_test['Cnum'] = Cnum.transform(main_test['cust_number'])\n"
   ]
  },
  {
   "cell_type": "code",
   "execution_count": 132,
   "id": "1e108857",
   "metadata": {},
   "outputs": [],
   "source": [
    "main_test.drop(['cust_number'],inplace=True,axis=1)"
   ]
  },
  {
   "cell_type": "code",
   "execution_count": 133,
   "id": "84aed019",
   "metadata": {},
   "outputs": [],
   "source": [
    "Cname= LabelEncoder()\n",
    "Cname.fit(main_test['name_customer'])\n",
    "main_test['Cname'] = Cname.transform(main_test['name_customer'])\n",
    "\n"
   ]
  },
  {
   "cell_type": "code",
   "execution_count": 134,
   "id": "c8670d0c",
   "metadata": {},
   "outputs": [],
   "source": [
    "main_test.drop(['name_customer'],inplace=True,axis=1)"
   ]
  },
  {
   "cell_type": "code",
   "execution_count": 135,
   "id": "81ebe9f5",
   "metadata": {},
   "outputs": [],
   "source": [
    "main_test['DocD']=main_test['document_create_date'].dt.day\n",
    "main_test['DocM']=main_test['document_create_date'].dt.month\n",
    "main_test['Docdow']=main_test['document_create_date'].dt.dayofweek\n",
    "main_test['DocQ']=main_test['document_create_date'].dt.quarter\n",
    "\n",
    "main_test.drop(['document_create_date'],inplace=True,axis=1)"
   ]
  },
  {
   "cell_type": "code",
   "execution_count": 136,
   "id": "64aad400",
   "metadata": {},
   "outputs": [],
   "source": [
    "main_test['PosD']=main_test['posting_date'].dt.day\n",
    "main_test['PosM']=main_test['posting_date'].dt.month\n",
    "main_test['Posdow']=main_test['posting_date'].dt.dayofweek\n",
    "#main_test['PY']=main_test['posting_date'].dt.year\n",
    "\n",
    "main_test.drop(['posting_date'],inplace=True,axis=1)"
   ]
  },
  {
   "cell_type": "code",
   "execution_count": 137,
   "id": "4a0bdfb7",
   "metadata": {},
   "outputs": [],
   "source": [
    "main_test['DD']=main_test['due_in_date'].dt.day\n",
    "main_test['DM']=main_test['due_in_date'].dt.month\n",
    "#main_test['Ddow']=main_test['due_in_date'].dt.dayofweek\n",
    "main_test['DQ']=main_test['due_in_date'].dt.quarter\n",
    "#main_test['DY']=main_test['due_in_date'].dt.year\n",
    "\n",
    "main_test.drop(['due_in_date'],inplace=True,axis=1)"
   ]
  },
  {
   "cell_type": "code",
   "execution_count": 138,
   "id": "9f1e1e59",
   "metadata": {},
   "outputs": [],
   "source": [
    "main_test['BCD']=main_test['baseline_create_date'].dt.day\n",
    "main_test['BCM']=main_test['baseline_create_date'].dt.month\n",
    "main_test['BCdow']=main_test['baseline_create_date'].dt.dayofweek\n",
    "\n",
    "main_test.drop(['baseline_create_date'],inplace=True,axis=1)"
   ]
  },
  {
   "cell_type": "code",
   "execution_count": 139,
   "id": "56462759",
   "metadata": {},
   "outputs": [],
   "source": [
    "main_test.drop(['invoice_id'],inplace=True,axis=1)\n",
    "main_test['doc_id'] = main_test['doc_id'].apply(float)\n",
    "main_test['total_open_amount'] = main_test['total_open_amount'].apply(float)"
   ]
  },
  {
   "cell_type": "code",
   "execution_count": 140,
   "id": "6e4ad1b8",
   "metadata": {},
   "outputs": [],
   "source": [
    "main_test.drop(['document_create_date.1'],inplace=True,axis=1)"
   ]
  },
  {
   "cell_type": "code",
   "execution_count": 141,
   "id": "fb1761da",
   "metadata": {},
   "outputs": [],
   "source": [
    "# We have implemented all the steps as we did earlier\n",
    "# It is required to do so because of input must be same\n",
    "# And to get the desired  result we must cross check it"
   ]
  },
  {
   "cell_type": "markdown",
   "id": "04f94c65",
   "metadata": {},
   "source": [
    "## Prediction using Random Forest Regressor"
   ]
  },
  {
   "cell_type": "code",
   "execution_count": 142,
   "id": "0ba7218d",
   "metadata": {},
   "outputs": [],
   "source": [
    " X['RESULT']=grid_result.predict(main_test)\n",
    "# Now we have given our main test dataset as input in our choosed model\n",
    "# As Random Forest "
   ]
  },
  {
   "cell_type": "code",
   "execution_count": 143,
   "id": "5f3aa64e",
   "metadata": {},
   "outputs": [],
   "source": [
    " X['RESULT']=(round(X['RESULT'])).apply(int)\n"
   ]
  },
  {
   "cell_type": "code",
   "execution_count": 144,
   "id": "edf2298e",
   "metadata": {},
   "outputs": [
    {
     "data": {
      "text/plain": [
       "(-19, 64)"
      ]
     },
     "execution_count": 144,
     "metadata": {},
     "output_type": "execute_result"
    }
   ],
   "source": [
    " X['RESULT'].min(), X['RESULT'].max()\n",
    "# checking the min and max"
   ]
  },
  {
   "cell_type": "code",
   "execution_count": 145,
   "id": "d1958c15",
   "metadata": {},
   "outputs": [],
   "source": [
    " X['predicted'] = X['due_in_date'] + pd.to_timedelta(X['RESULT'], unit='D')\n",
    "# creating a predicted column by adding due date and our target column or delay\n",
    "# now we got our predicted date"
   ]
  },
  {
   "cell_type": "code",
   "execution_count": 146,
   "id": "e8c1aa07",
   "metadata": {},
   "outputs": [
    {
     "data": {
      "text/html": [
       "<div>\n",
       "<style scoped>\n",
       "    .dataframe tbody tr th:only-of-type {\n",
       "        vertical-align: middle;\n",
       "    }\n",
       "\n",
       "    .dataframe tbody tr th {\n",
       "        vertical-align: top;\n",
       "    }\n",
       "\n",
       "    .dataframe thead th {\n",
       "        text-align: right;\n",
       "    }\n",
       "</style>\n",
       "<table border=\"1\" class=\"dataframe\">\n",
       "  <thead>\n",
       "    <tr style=\"text-align: right;\">\n",
       "      <th></th>\n",
       "      <th>business_code</th>\n",
       "      <th>cust_number</th>\n",
       "      <th>name_customer</th>\n",
       "      <th>clear_date</th>\n",
       "      <th>buisness_year</th>\n",
       "      <th>doc_id</th>\n",
       "      <th>posting_date</th>\n",
       "      <th>document_create_date</th>\n",
       "      <th>document_create_date.1</th>\n",
       "      <th>due_in_date</th>\n",
       "      <th>invoice_currency</th>\n",
       "      <th>document type</th>\n",
       "      <th>total_open_amount</th>\n",
       "      <th>baseline_create_date</th>\n",
       "      <th>cust_payment_terms</th>\n",
       "      <th>invoice_id</th>\n",
       "      <th>isOpen</th>\n",
       "      <th>RESULT</th>\n",
       "      <th>predicted</th>\n",
       "    </tr>\n",
       "  </thead>\n",
       "  <tbody>\n",
       "    <tr>\n",
       "      <th>2</th>\n",
       "      <td>U001</td>\n",
       "      <td>0200744019</td>\n",
       "      <td>TARG co</td>\n",
       "      <td>NaT</td>\n",
       "      <td>2020.0</td>\n",
       "      <td>1930709578.0</td>\n",
       "      <td>2020-03-27</td>\n",
       "      <td>2020-03-27</td>\n",
       "      <td>2020-03-27</td>\n",
       "      <td>2020-04-11</td>\n",
       "      <td>USD</td>\n",
       "      <td>RV</td>\n",
       "      <td>18118.48</td>\n",
       "      <td>2020-03-27</td>\n",
       "      <td>NAA8</td>\n",
       "      <td>1930709578.0</td>\n",
       "      <td>1</td>\n",
       "      <td>-2</td>\n",
       "      <td>2020-04-09</td>\n",
       "    </tr>\n",
       "    <tr>\n",
       "      <th>5</th>\n",
       "      <td>U001</td>\n",
       "      <td>0200726979</td>\n",
       "      <td>BJ'S  in</td>\n",
       "      <td>NaT</td>\n",
       "      <td>2020.0</td>\n",
       "      <td>1930789171.0</td>\n",
       "      <td>2020-04-16</td>\n",
       "      <td>2020-04-15</td>\n",
       "      <td>2020-04-16</td>\n",
       "      <td>2020-05-01</td>\n",
       "      <td>USD</td>\n",
       "      <td>RV</td>\n",
       "      <td>199.08</td>\n",
       "      <td>2020-04-16</td>\n",
       "      <td>NAA8</td>\n",
       "      <td>1930789171.0</td>\n",
       "      <td>1</td>\n",
       "      <td>-1</td>\n",
       "      <td>2020-04-30</td>\n",
       "    </tr>\n",
       "    <tr>\n",
       "      <th>10</th>\n",
       "      <td>U001</td>\n",
       "      <td>0200759878</td>\n",
       "      <td>SA in</td>\n",
       "      <td>NaT</td>\n",
       "      <td>2020.0</td>\n",
       "      <td>1930675576.0</td>\n",
       "      <td>2020-03-21</td>\n",
       "      <td>2020-03-20</td>\n",
       "      <td>2020-03-21</td>\n",
       "      <td>2020-04-05</td>\n",
       "      <td>USD</td>\n",
       "      <td>RV</td>\n",
       "      <td>17602.54</td>\n",
       "      <td>2020-03-21</td>\n",
       "      <td>NAH4</td>\n",
       "      <td>1930675576.0</td>\n",
       "      <td>1</td>\n",
       "      <td>2</td>\n",
       "      <td>2020-04-07</td>\n",
       "    </tr>\n",
       "    <tr>\n",
       "      <th>13</th>\n",
       "      <td>U001</td>\n",
       "      <td>0200762301</td>\n",
       "      <td>C&amp;S WH co</td>\n",
       "      <td>NaT</td>\n",
       "      <td>2020.0</td>\n",
       "      <td>1930709317.0</td>\n",
       "      <td>2020-03-28</td>\n",
       "      <td>2020-03-27</td>\n",
       "      <td>2020-03-28</td>\n",
       "      <td>2020-04-12</td>\n",
       "      <td>USD</td>\n",
       "      <td>RV</td>\n",
       "      <td>3578.12</td>\n",
       "      <td>2020-03-28</td>\n",
       "      <td>NAC6</td>\n",
       "      <td>1930709317.0</td>\n",
       "      <td>1</td>\n",
       "      <td>2</td>\n",
       "      <td>2020-04-14</td>\n",
       "    </tr>\n",
       "    <tr>\n",
       "      <th>15</th>\n",
       "      <td>U001</td>\n",
       "      <td>0200418007</td>\n",
       "      <td>AM corporation</td>\n",
       "      <td>NaT</td>\n",
       "      <td>2020.0</td>\n",
       "      <td>1930838503.0</td>\n",
       "      <td>2020-05-04</td>\n",
       "      <td>2020-05-04</td>\n",
       "      <td>2020-05-04</td>\n",
       "      <td>2020-05-19</td>\n",
       "      <td>USD</td>\n",
       "      <td>RV</td>\n",
       "      <td>2399.86</td>\n",
       "      <td>2020-05-04</td>\n",
       "      <td>NAA8</td>\n",
       "      <td>1930838503.0</td>\n",
       "      <td>1</td>\n",
       "      <td>-2</td>\n",
       "      <td>2020-05-17</td>\n",
       "    </tr>\n",
       "    <tr>\n",
       "      <th>...</th>\n",
       "      <td>...</td>\n",
       "      <td>...</td>\n",
       "      <td>...</td>\n",
       "      <td>...</td>\n",
       "      <td>...</td>\n",
       "      <td>...</td>\n",
       "      <td>...</td>\n",
       "      <td>...</td>\n",
       "      <td>...</td>\n",
       "      <td>...</td>\n",
       "      <td>...</td>\n",
       "      <td>...</td>\n",
       "      <td>...</td>\n",
       "      <td>...</td>\n",
       "      <td>...</td>\n",
       "      <td>...</td>\n",
       "      <td>...</td>\n",
       "      <td>...</td>\n",
       "      <td>...</td>\n",
       "    </tr>\n",
       "    <tr>\n",
       "      <th>49965</th>\n",
       "      <td>U001</td>\n",
       "      <td>0200780383</td>\n",
       "      <td>MEIJ associates</td>\n",
       "      <td>NaT</td>\n",
       "      <td>2020.0</td>\n",
       "      <td>1930778760.0</td>\n",
       "      <td>2020-04-13</td>\n",
       "      <td>2020-04-13</td>\n",
       "      <td>2020-04-13</td>\n",
       "      <td>2020-04-28</td>\n",
       "      <td>USD</td>\n",
       "      <td>RV</td>\n",
       "      <td>1373.96</td>\n",
       "      <td>2020-04-13</td>\n",
       "      <td>NAA8</td>\n",
       "      <td>1930778760.0</td>\n",
       "      <td>1</td>\n",
       "      <td>-2</td>\n",
       "      <td>2020-04-26</td>\n",
       "    </tr>\n",
       "    <tr>\n",
       "      <th>49971</th>\n",
       "      <td>U001</td>\n",
       "      <td>0200769623</td>\n",
       "      <td>WAL-MAR</td>\n",
       "      <td>NaT</td>\n",
       "      <td>2020.0</td>\n",
       "      <td>1930766199.0</td>\n",
       "      <td>2020-04-10</td>\n",
       "      <td>2020-04-08</td>\n",
       "      <td>2020-04-10</td>\n",
       "      <td>2020-04-25</td>\n",
       "      <td>USD</td>\n",
       "      <td>RV</td>\n",
       "      <td>13011.36</td>\n",
       "      <td>2020-04-10</td>\n",
       "      <td>NAH4</td>\n",
       "      <td>1930766199.0</td>\n",
       "      <td>1</td>\n",
       "      <td>2</td>\n",
       "      <td>2020-04-27</td>\n",
       "    </tr>\n",
       "    <tr>\n",
       "      <th>49993</th>\n",
       "      <td>U001</td>\n",
       "      <td>0200799367</td>\n",
       "      <td>MCL co</td>\n",
       "      <td>NaT</td>\n",
       "      <td>2020.0</td>\n",
       "      <td>1930752882.0</td>\n",
       "      <td>2020-04-07</td>\n",
       "      <td>2020-04-06</td>\n",
       "      <td>2020-04-07</td>\n",
       "      <td>2020-04-22</td>\n",
       "      <td>USD</td>\n",
       "      <td>RV</td>\n",
       "      <td>79625.69</td>\n",
       "      <td>2020-04-07</td>\n",
       "      <td>NAA8</td>\n",
       "      <td>1930752882.0</td>\n",
       "      <td>1</td>\n",
       "      <td>-1</td>\n",
       "      <td>2020-04-21</td>\n",
       "    </tr>\n",
       "    <tr>\n",
       "      <th>49994</th>\n",
       "      <td>U001</td>\n",
       "      <td>0200762301</td>\n",
       "      <td>C&amp;S WH associates</td>\n",
       "      <td>NaT</td>\n",
       "      <td>2020.0</td>\n",
       "      <td>1930834011.0</td>\n",
       "      <td>2020-04-29</td>\n",
       "      <td>2020-04-28</td>\n",
       "      <td>2020-04-29</td>\n",
       "      <td>2020-05-14</td>\n",
       "      <td>USD</td>\n",
       "      <td>RV</td>\n",
       "      <td>61205.39</td>\n",
       "      <td>2020-04-29</td>\n",
       "      <td>NAC6</td>\n",
       "      <td>1930834011.0</td>\n",
       "      <td>1</td>\n",
       "      <td>3</td>\n",
       "      <td>2020-05-17</td>\n",
       "    </tr>\n",
       "    <tr>\n",
       "      <th>49999</th>\n",
       "      <td>U001</td>\n",
       "      <td>0200772670</td>\n",
       "      <td>ASSOCIAT us</td>\n",
       "      <td>NaT</td>\n",
       "      <td>2020.0</td>\n",
       "      <td>1930687620.0</td>\n",
       "      <td>2020-03-23</td>\n",
       "      <td>2020-03-23</td>\n",
       "      <td>2020-03-23</td>\n",
       "      <td>2020-04-07</td>\n",
       "      <td>USD</td>\n",
       "      <td>RV</td>\n",
       "      <td>18165.53</td>\n",
       "      <td>2020-03-23</td>\n",
       "      <td>NAU5</td>\n",
       "      <td>1930687620.0</td>\n",
       "      <td>1</td>\n",
       "      <td>-14</td>\n",
       "      <td>2020-03-24</td>\n",
       "    </tr>\n",
       "  </tbody>\n",
       "</table>\n",
       "<p>9692 rows × 19 columns</p>\n",
       "</div>"
      ],
      "text/plain": [
       "      business_code cust_number      name_customer clear_date buisness_year  \\\n",
       "2              U001  0200744019            TARG co        NaT        2020.0   \n",
       "5              U001  0200726979           BJ'S  in        NaT        2020.0   \n",
       "10             U001  0200759878              SA in        NaT        2020.0   \n",
       "13             U001  0200762301          C&S WH co        NaT        2020.0   \n",
       "15             U001  0200418007     AM corporation        NaT        2020.0   \n",
       "...             ...         ...                ...        ...           ...   \n",
       "49965          U001  0200780383    MEIJ associates        NaT        2020.0   \n",
       "49971          U001  0200769623           WAL-MAR         NaT        2020.0   \n",
       "49993          U001  0200799367             MCL co        NaT        2020.0   \n",
       "49994          U001  0200762301  C&S WH associates        NaT        2020.0   \n",
       "49999          U001  0200772670        ASSOCIAT us        NaT        2020.0   \n",
       "\n",
       "             doc_id posting_date document_create_date document_create_date.1  \\\n",
       "2      1930709578.0   2020-03-27           2020-03-27             2020-03-27   \n",
       "5      1930789171.0   2020-04-16           2020-04-15             2020-04-16   \n",
       "10     1930675576.0   2020-03-21           2020-03-20             2020-03-21   \n",
       "13     1930709317.0   2020-03-28           2020-03-27             2020-03-28   \n",
       "15     1930838503.0   2020-05-04           2020-05-04             2020-05-04   \n",
       "...             ...          ...                  ...                    ...   \n",
       "49965  1930778760.0   2020-04-13           2020-04-13             2020-04-13   \n",
       "49971  1930766199.0   2020-04-10           2020-04-08             2020-04-10   \n",
       "49993  1930752882.0   2020-04-07           2020-04-06             2020-04-07   \n",
       "49994  1930834011.0   2020-04-29           2020-04-28             2020-04-29   \n",
       "49999  1930687620.0   2020-03-23           2020-03-23             2020-03-23   \n",
       "\n",
       "      due_in_date invoice_currency document type total_open_amount  \\\n",
       "2      2020-04-11              USD            RV          18118.48   \n",
       "5      2020-05-01              USD            RV            199.08   \n",
       "10     2020-04-05              USD            RV          17602.54   \n",
       "13     2020-04-12              USD            RV           3578.12   \n",
       "15     2020-05-19              USD            RV           2399.86   \n",
       "...           ...              ...           ...               ...   \n",
       "49965  2020-04-28              USD            RV           1373.96   \n",
       "49971  2020-04-25              USD            RV          13011.36   \n",
       "49993  2020-04-22              USD            RV          79625.69   \n",
       "49994  2020-05-14              USD            RV          61205.39   \n",
       "49999  2020-04-07              USD            RV          18165.53   \n",
       "\n",
       "      baseline_create_date cust_payment_terms    invoice_id isOpen  RESULT  \\\n",
       "2               2020-03-27               NAA8  1930709578.0      1      -2   \n",
       "5               2020-04-16               NAA8  1930789171.0      1      -1   \n",
       "10              2020-03-21               NAH4  1930675576.0      1       2   \n",
       "13              2020-03-28               NAC6  1930709317.0      1       2   \n",
       "15              2020-05-04               NAA8  1930838503.0      1      -2   \n",
       "...                    ...                ...           ...    ...     ...   \n",
       "49965           2020-04-13               NAA8  1930778760.0      1      -2   \n",
       "49971           2020-04-10               NAH4  1930766199.0      1       2   \n",
       "49993           2020-04-07               NAA8  1930752882.0      1      -1   \n",
       "49994           2020-04-29               NAC6  1930834011.0      1       3   \n",
       "49999           2020-03-23               NAU5  1930687620.0      1     -14   \n",
       "\n",
       "       predicted  \n",
       "2     2020-04-09  \n",
       "5     2020-04-30  \n",
       "10    2020-04-07  \n",
       "13    2020-04-14  \n",
       "15    2020-05-17  \n",
       "...          ...  \n",
       "49965 2020-04-26  \n",
       "49971 2020-04-27  \n",
       "49993 2020-04-21  \n",
       "49994 2020-05-17  \n",
       "49999 2020-03-24  \n",
       "\n",
       "[9692 rows x 19 columns]"
      ]
     },
     "execution_count": 146,
     "metadata": {},
     "output_type": "execute_result"
    }
   ],
   "source": [
    " X"
   ]
  },
  {
   "cell_type": "code",
   "execution_count": 147,
   "id": "446e3823",
   "metadata": {},
   "outputs": [
    {
     "data": {
      "text/plain": [
       "0-14     4815\n",
       "-15-0    4413\n",
       "30-44     355\n",
       "15-29      55\n",
       "<-15       36\n",
       "45-59      17\n",
       "60-74       1\n",
       "Name: bucket, dtype: int64"
      ]
     },
     "execution_count": 147,
     "metadata": {},
     "output_type": "execute_result"
    }
   ],
   "source": [
    "##bucketing the datsets to specific sets\n",
    "X.loc[X['RESULT']<-15,'bucket'] =\"<-15\"\n",
    "X.loc[(X['RESULT']>=-15) & (X['RESULT']<0),'bucket'] = \"-15-0\"\n",
    "X.loc[(X['RESULT']>=0) & (X['RESULT']<15),'bucket'] = \"0-14\"\n",
    "X.loc[(X['RESULT']>=15) & (X['RESULT']<30),'bucket'] = \"15-29\"\n",
    "X.loc[(X['RESULT']>=30) & (X['RESULT']<45),'bucket'] = \"30-44\"\n",
    "X.loc[(X['RESULT']>=45) & (X['RESULT']<60),'bucket'] = \"45-59\"\n",
    "X.loc[(X['RESULT']>=60) & (X['RESULT']<75),'bucket'] = \"60-74\"\n",
    "X.loc[(X['RESULT']>=75),'bucket'] =\">=75\"\n",
    "\n",
    "X['bucket'].value_counts()\n",
    "#checking the counts for all the buckets\n",
    "#how much each buckets carry values \n"
   ]
  },
  {
   "cell_type": "code",
   "execution_count": 148,
   "id": "00d5d21e",
   "metadata": {},
   "outputs": [
    {
     "data": {
      "text/html": [
       "<div>\n",
       "<style scoped>\n",
       "    .dataframe tbody tr th:only-of-type {\n",
       "        vertical-align: middle;\n",
       "    }\n",
       "\n",
       "    .dataframe tbody tr th {\n",
       "        vertical-align: top;\n",
       "    }\n",
       "\n",
       "    .dataframe thead th {\n",
       "        text-align: right;\n",
       "    }\n",
       "</style>\n",
       "<table border=\"1\" class=\"dataframe\">\n",
       "  <thead>\n",
       "    <tr style=\"text-align: right;\">\n",
       "      <th></th>\n",
       "      <th>business_code</th>\n",
       "      <th>cust_number</th>\n",
       "      <th>name_customer</th>\n",
       "      <th>clear_date</th>\n",
       "      <th>buisness_year</th>\n",
       "      <th>doc_id</th>\n",
       "      <th>posting_date</th>\n",
       "      <th>document_create_date</th>\n",
       "      <th>document_create_date.1</th>\n",
       "      <th>due_in_date</th>\n",
       "      <th>invoice_currency</th>\n",
       "      <th>document type</th>\n",
       "      <th>total_open_amount</th>\n",
       "      <th>baseline_create_date</th>\n",
       "      <th>cust_payment_terms</th>\n",
       "      <th>invoice_id</th>\n",
       "      <th>isOpen</th>\n",
       "      <th>RESULT</th>\n",
       "      <th>predicted</th>\n",
       "      <th>bucket</th>\n",
       "    </tr>\n",
       "  </thead>\n",
       "  <tbody>\n",
       "    <tr>\n",
       "      <th>2</th>\n",
       "      <td>U001</td>\n",
       "      <td>0200744019</td>\n",
       "      <td>TARG co</td>\n",
       "      <td>NaT</td>\n",
       "      <td>2020.0</td>\n",
       "      <td>1930709578.0</td>\n",
       "      <td>2020-03-27</td>\n",
       "      <td>2020-03-27</td>\n",
       "      <td>2020-03-27</td>\n",
       "      <td>2020-04-11</td>\n",
       "      <td>USD</td>\n",
       "      <td>RV</td>\n",
       "      <td>18118.48</td>\n",
       "      <td>2020-03-27</td>\n",
       "      <td>NAA8</td>\n",
       "      <td>1930709578.0</td>\n",
       "      <td>1</td>\n",
       "      <td>-2</td>\n",
       "      <td>2020-04-09</td>\n",
       "      <td>-15-0</td>\n",
       "    </tr>\n",
       "    <tr>\n",
       "      <th>5</th>\n",
       "      <td>U001</td>\n",
       "      <td>0200726979</td>\n",
       "      <td>BJ'S  in</td>\n",
       "      <td>NaT</td>\n",
       "      <td>2020.0</td>\n",
       "      <td>1930789171.0</td>\n",
       "      <td>2020-04-16</td>\n",
       "      <td>2020-04-15</td>\n",
       "      <td>2020-04-16</td>\n",
       "      <td>2020-05-01</td>\n",
       "      <td>USD</td>\n",
       "      <td>RV</td>\n",
       "      <td>199.08</td>\n",
       "      <td>2020-04-16</td>\n",
       "      <td>NAA8</td>\n",
       "      <td>1930789171.0</td>\n",
       "      <td>1</td>\n",
       "      <td>-1</td>\n",
       "      <td>2020-04-30</td>\n",
       "      <td>-15-0</td>\n",
       "    </tr>\n",
       "    <tr>\n",
       "      <th>10</th>\n",
       "      <td>U001</td>\n",
       "      <td>0200759878</td>\n",
       "      <td>SA in</td>\n",
       "      <td>NaT</td>\n",
       "      <td>2020.0</td>\n",
       "      <td>1930675576.0</td>\n",
       "      <td>2020-03-21</td>\n",
       "      <td>2020-03-20</td>\n",
       "      <td>2020-03-21</td>\n",
       "      <td>2020-04-05</td>\n",
       "      <td>USD</td>\n",
       "      <td>RV</td>\n",
       "      <td>17602.54</td>\n",
       "      <td>2020-03-21</td>\n",
       "      <td>NAH4</td>\n",
       "      <td>1930675576.0</td>\n",
       "      <td>1</td>\n",
       "      <td>2</td>\n",
       "      <td>2020-04-07</td>\n",
       "      <td>0-14</td>\n",
       "    </tr>\n",
       "    <tr>\n",
       "      <th>13</th>\n",
       "      <td>U001</td>\n",
       "      <td>0200762301</td>\n",
       "      <td>C&amp;S WH co</td>\n",
       "      <td>NaT</td>\n",
       "      <td>2020.0</td>\n",
       "      <td>1930709317.0</td>\n",
       "      <td>2020-03-28</td>\n",
       "      <td>2020-03-27</td>\n",
       "      <td>2020-03-28</td>\n",
       "      <td>2020-04-12</td>\n",
       "      <td>USD</td>\n",
       "      <td>RV</td>\n",
       "      <td>3578.12</td>\n",
       "      <td>2020-03-28</td>\n",
       "      <td>NAC6</td>\n",
       "      <td>1930709317.0</td>\n",
       "      <td>1</td>\n",
       "      <td>2</td>\n",
       "      <td>2020-04-14</td>\n",
       "      <td>0-14</td>\n",
       "    </tr>\n",
       "    <tr>\n",
       "      <th>15</th>\n",
       "      <td>U001</td>\n",
       "      <td>0200418007</td>\n",
       "      <td>AM corporation</td>\n",
       "      <td>NaT</td>\n",
       "      <td>2020.0</td>\n",
       "      <td>1930838503.0</td>\n",
       "      <td>2020-05-04</td>\n",
       "      <td>2020-05-04</td>\n",
       "      <td>2020-05-04</td>\n",
       "      <td>2020-05-19</td>\n",
       "      <td>USD</td>\n",
       "      <td>RV</td>\n",
       "      <td>2399.86</td>\n",
       "      <td>2020-05-04</td>\n",
       "      <td>NAA8</td>\n",
       "      <td>1930838503.0</td>\n",
       "      <td>1</td>\n",
       "      <td>-2</td>\n",
       "      <td>2020-05-17</td>\n",
       "      <td>-15-0</td>\n",
       "    </tr>\n",
       "    <tr>\n",
       "      <th>...</th>\n",
       "      <td>...</td>\n",
       "      <td>...</td>\n",
       "      <td>...</td>\n",
       "      <td>...</td>\n",
       "      <td>...</td>\n",
       "      <td>...</td>\n",
       "      <td>...</td>\n",
       "      <td>...</td>\n",
       "      <td>...</td>\n",
       "      <td>...</td>\n",
       "      <td>...</td>\n",
       "      <td>...</td>\n",
       "      <td>...</td>\n",
       "      <td>...</td>\n",
       "      <td>...</td>\n",
       "      <td>...</td>\n",
       "      <td>...</td>\n",
       "      <td>...</td>\n",
       "      <td>...</td>\n",
       "      <td>...</td>\n",
       "    </tr>\n",
       "    <tr>\n",
       "      <th>49965</th>\n",
       "      <td>U001</td>\n",
       "      <td>0200780383</td>\n",
       "      <td>MEIJ associates</td>\n",
       "      <td>NaT</td>\n",
       "      <td>2020.0</td>\n",
       "      <td>1930778760.0</td>\n",
       "      <td>2020-04-13</td>\n",
       "      <td>2020-04-13</td>\n",
       "      <td>2020-04-13</td>\n",
       "      <td>2020-04-28</td>\n",
       "      <td>USD</td>\n",
       "      <td>RV</td>\n",
       "      <td>1373.96</td>\n",
       "      <td>2020-04-13</td>\n",
       "      <td>NAA8</td>\n",
       "      <td>1930778760.0</td>\n",
       "      <td>1</td>\n",
       "      <td>-2</td>\n",
       "      <td>2020-04-26</td>\n",
       "      <td>-15-0</td>\n",
       "    </tr>\n",
       "    <tr>\n",
       "      <th>49971</th>\n",
       "      <td>U001</td>\n",
       "      <td>0200769623</td>\n",
       "      <td>WAL-MAR</td>\n",
       "      <td>NaT</td>\n",
       "      <td>2020.0</td>\n",
       "      <td>1930766199.0</td>\n",
       "      <td>2020-04-10</td>\n",
       "      <td>2020-04-08</td>\n",
       "      <td>2020-04-10</td>\n",
       "      <td>2020-04-25</td>\n",
       "      <td>USD</td>\n",
       "      <td>RV</td>\n",
       "      <td>13011.36</td>\n",
       "      <td>2020-04-10</td>\n",
       "      <td>NAH4</td>\n",
       "      <td>1930766199.0</td>\n",
       "      <td>1</td>\n",
       "      <td>2</td>\n",
       "      <td>2020-04-27</td>\n",
       "      <td>0-14</td>\n",
       "    </tr>\n",
       "    <tr>\n",
       "      <th>49993</th>\n",
       "      <td>U001</td>\n",
       "      <td>0200799367</td>\n",
       "      <td>MCL co</td>\n",
       "      <td>NaT</td>\n",
       "      <td>2020.0</td>\n",
       "      <td>1930752882.0</td>\n",
       "      <td>2020-04-07</td>\n",
       "      <td>2020-04-06</td>\n",
       "      <td>2020-04-07</td>\n",
       "      <td>2020-04-22</td>\n",
       "      <td>USD</td>\n",
       "      <td>RV</td>\n",
       "      <td>79625.69</td>\n",
       "      <td>2020-04-07</td>\n",
       "      <td>NAA8</td>\n",
       "      <td>1930752882.0</td>\n",
       "      <td>1</td>\n",
       "      <td>-1</td>\n",
       "      <td>2020-04-21</td>\n",
       "      <td>-15-0</td>\n",
       "    </tr>\n",
       "    <tr>\n",
       "      <th>49994</th>\n",
       "      <td>U001</td>\n",
       "      <td>0200762301</td>\n",
       "      <td>C&amp;S WH associates</td>\n",
       "      <td>NaT</td>\n",
       "      <td>2020.0</td>\n",
       "      <td>1930834011.0</td>\n",
       "      <td>2020-04-29</td>\n",
       "      <td>2020-04-28</td>\n",
       "      <td>2020-04-29</td>\n",
       "      <td>2020-05-14</td>\n",
       "      <td>USD</td>\n",
       "      <td>RV</td>\n",
       "      <td>61205.39</td>\n",
       "      <td>2020-04-29</td>\n",
       "      <td>NAC6</td>\n",
       "      <td>1930834011.0</td>\n",
       "      <td>1</td>\n",
       "      <td>3</td>\n",
       "      <td>2020-05-17</td>\n",
       "      <td>0-14</td>\n",
       "    </tr>\n",
       "    <tr>\n",
       "      <th>49999</th>\n",
       "      <td>U001</td>\n",
       "      <td>0200772670</td>\n",
       "      <td>ASSOCIAT us</td>\n",
       "      <td>NaT</td>\n",
       "      <td>2020.0</td>\n",
       "      <td>1930687620.0</td>\n",
       "      <td>2020-03-23</td>\n",
       "      <td>2020-03-23</td>\n",
       "      <td>2020-03-23</td>\n",
       "      <td>2020-04-07</td>\n",
       "      <td>USD</td>\n",
       "      <td>RV</td>\n",
       "      <td>18165.53</td>\n",
       "      <td>2020-03-23</td>\n",
       "      <td>NAU5</td>\n",
       "      <td>1930687620.0</td>\n",
       "      <td>1</td>\n",
       "      <td>-14</td>\n",
       "      <td>2020-03-24</td>\n",
       "      <td>-15-0</td>\n",
       "    </tr>\n",
       "  </tbody>\n",
       "</table>\n",
       "<p>9692 rows × 20 columns</p>\n",
       "</div>"
      ],
      "text/plain": [
       "      business_code cust_number      name_customer clear_date buisness_year  \\\n",
       "2              U001  0200744019            TARG co        NaT        2020.0   \n",
       "5              U001  0200726979           BJ'S  in        NaT        2020.0   \n",
       "10             U001  0200759878              SA in        NaT        2020.0   \n",
       "13             U001  0200762301          C&S WH co        NaT        2020.0   \n",
       "15             U001  0200418007     AM corporation        NaT        2020.0   \n",
       "...             ...         ...                ...        ...           ...   \n",
       "49965          U001  0200780383    MEIJ associates        NaT        2020.0   \n",
       "49971          U001  0200769623           WAL-MAR         NaT        2020.0   \n",
       "49993          U001  0200799367             MCL co        NaT        2020.0   \n",
       "49994          U001  0200762301  C&S WH associates        NaT        2020.0   \n",
       "49999          U001  0200772670        ASSOCIAT us        NaT        2020.0   \n",
       "\n",
       "             doc_id posting_date document_create_date document_create_date.1  \\\n",
       "2      1930709578.0   2020-03-27           2020-03-27             2020-03-27   \n",
       "5      1930789171.0   2020-04-16           2020-04-15             2020-04-16   \n",
       "10     1930675576.0   2020-03-21           2020-03-20             2020-03-21   \n",
       "13     1930709317.0   2020-03-28           2020-03-27             2020-03-28   \n",
       "15     1930838503.0   2020-05-04           2020-05-04             2020-05-04   \n",
       "...             ...          ...                  ...                    ...   \n",
       "49965  1930778760.0   2020-04-13           2020-04-13             2020-04-13   \n",
       "49971  1930766199.0   2020-04-10           2020-04-08             2020-04-10   \n",
       "49993  1930752882.0   2020-04-07           2020-04-06             2020-04-07   \n",
       "49994  1930834011.0   2020-04-29           2020-04-28             2020-04-29   \n",
       "49999  1930687620.0   2020-03-23           2020-03-23             2020-03-23   \n",
       "\n",
       "      due_in_date invoice_currency document type total_open_amount  \\\n",
       "2      2020-04-11              USD            RV          18118.48   \n",
       "5      2020-05-01              USD            RV            199.08   \n",
       "10     2020-04-05              USD            RV          17602.54   \n",
       "13     2020-04-12              USD            RV           3578.12   \n",
       "15     2020-05-19              USD            RV           2399.86   \n",
       "...           ...              ...           ...               ...   \n",
       "49965  2020-04-28              USD            RV           1373.96   \n",
       "49971  2020-04-25              USD            RV          13011.36   \n",
       "49993  2020-04-22              USD            RV          79625.69   \n",
       "49994  2020-05-14              USD            RV          61205.39   \n",
       "49999  2020-04-07              USD            RV          18165.53   \n",
       "\n",
       "      baseline_create_date cust_payment_terms    invoice_id isOpen  RESULT  \\\n",
       "2               2020-03-27               NAA8  1930709578.0      1      -2   \n",
       "5               2020-04-16               NAA8  1930789171.0      1      -1   \n",
       "10              2020-03-21               NAH4  1930675576.0      1       2   \n",
       "13              2020-03-28               NAC6  1930709317.0      1       2   \n",
       "15              2020-05-04               NAA8  1930838503.0      1      -2   \n",
       "...                    ...                ...           ...    ...     ...   \n",
       "49965           2020-04-13               NAA8  1930778760.0      1      -2   \n",
       "49971           2020-04-10               NAH4  1930766199.0      1       2   \n",
       "49993           2020-04-07               NAA8  1930752882.0      1      -1   \n",
       "49994           2020-04-29               NAC6  1930834011.0      1       3   \n",
       "49999           2020-03-23               NAU5  1930687620.0      1     -14   \n",
       "\n",
       "       predicted bucket  \n",
       "2     2020-04-09  -15-0  \n",
       "5     2020-04-30  -15-0  \n",
       "10    2020-04-07   0-14  \n",
       "13    2020-04-14   0-14  \n",
       "15    2020-05-17  -15-0  \n",
       "...          ...    ...  \n",
       "49965 2020-04-26  -15-0  \n",
       "49971 2020-04-27   0-14  \n",
       "49993 2020-04-21  -15-0  \n",
       "49994 2020-05-17   0-14  \n",
       "49999 2020-03-24  -15-0  \n",
       "\n",
       "[9692 rows x 20 columns]"
      ]
     },
     "execution_count": 148,
     "metadata": {},
     "output_type": "execute_result"
    }
   ],
   "source": [
    "  X\n",
    "##output as all the columns "
   ]
  },
  {
   "cell_type": "code",
   "execution_count": 157,
   "id": "70d4cba5",
   "metadata": {},
   "outputs": [],
   "source": [
    "X.to_csv('H2HBABBA2568_.predicted.csv')"
   ]
  },
  {
   "cell_type": "code",
   "execution_count": 153,
   "id": "d9c68553",
   "metadata": {},
   "outputs": [
    {
     "ename": "KeyError",
     "evalue": "\"['document_create_date.1'] not found in axis\"",
     "output_type": "error",
     "traceback": [
      "\u001b[1;31m---------------------------------------------------------------------------\u001b[0m",
      "\u001b[1;31mKeyError\u001b[0m                                  Traceback (most recent call last)",
      "\u001b[1;32m<ipython-input-153-493aab06b62c>\u001b[0m in \u001b[0;36m<module>\u001b[1;34m\u001b[0m\n\u001b[1;32m----> 1\u001b[1;33m \u001b[0mX\u001b[0m\u001b[1;33m.\u001b[0m\u001b[0mdrop\u001b[0m\u001b[1;33m(\u001b[0m\u001b[1;33m[\u001b[0m\u001b[1;34m'document_create_date.1'\u001b[0m\u001b[1;33m]\u001b[0m\u001b[1;33m,\u001b[0m\u001b[0minplace\u001b[0m\u001b[1;33m=\u001b[0m\u001b[1;32mTrue\u001b[0m\u001b[1;33m,\u001b[0m\u001b[0maxis\u001b[0m\u001b[1;33m=\u001b[0m\u001b[1;36m1\u001b[0m\u001b[1;33m)\u001b[0m\u001b[1;33m\u001b[0m\u001b[1;33m\u001b[0m\u001b[0m\n\u001b[0m\u001b[0;32m      2\u001b[0m \u001b[0mX\u001b[0m\u001b[1;33m.\u001b[0m\u001b[0mdrop\u001b[0m\u001b[1;33m(\u001b[0m\u001b[1;33m[\u001b[0m\u001b[1;34m'business_code'\u001b[0m\u001b[1;33m]\u001b[0m\u001b[1;33m,\u001b[0m\u001b[0minplace\u001b[0m\u001b[1;33m=\u001b[0m\u001b[1;32mTrue\u001b[0m\u001b[1;33m,\u001b[0m\u001b[0maxis\u001b[0m\u001b[1;33m=\u001b[0m\u001b[1;36m1\u001b[0m\u001b[1;33m)\u001b[0m\u001b[1;33m\u001b[0m\u001b[1;33m\u001b[0m\u001b[0m\n\u001b[0;32m      3\u001b[0m \u001b[0mX\u001b[0m\u001b[1;33m.\u001b[0m\u001b[0mdrop\u001b[0m\u001b[1;33m(\u001b[0m\u001b[1;33m[\u001b[0m\u001b[1;34m'clear_date'\u001b[0m\u001b[1;33m]\u001b[0m\u001b[1;33m,\u001b[0m\u001b[0minplace\u001b[0m\u001b[1;33m=\u001b[0m\u001b[1;32mTrue\u001b[0m\u001b[1;33m,\u001b[0m\u001b[0maxis\u001b[0m\u001b[1;33m=\u001b[0m\u001b[1;36m1\u001b[0m\u001b[1;33m)\u001b[0m\u001b[1;33m\u001b[0m\u001b[1;33m\u001b[0m\u001b[0m\n\u001b[0;32m      4\u001b[0m \u001b[0mX\u001b[0m\u001b[1;33m.\u001b[0m\u001b[0mdrop\u001b[0m\u001b[1;33m(\u001b[0m\u001b[1;33m[\u001b[0m\u001b[1;34m'buisness_year'\u001b[0m\u001b[1;33m]\u001b[0m\u001b[1;33m,\u001b[0m\u001b[0minplace\u001b[0m\u001b[1;33m=\u001b[0m\u001b[1;32mTrue\u001b[0m\u001b[1;33m,\u001b[0m\u001b[0maxis\u001b[0m\u001b[1;33m=\u001b[0m\u001b[1;36m1\u001b[0m\u001b[1;33m)\u001b[0m\u001b[1;33m\u001b[0m\u001b[1;33m\u001b[0m\u001b[0m\n\u001b[0;32m      5\u001b[0m \u001b[0mX\u001b[0m\u001b[1;33m.\u001b[0m\u001b[0mdrop\u001b[0m\u001b[1;33m(\u001b[0m\u001b[1;33m[\u001b[0m\u001b[1;34m'doc_id'\u001b[0m\u001b[1;33m]\u001b[0m\u001b[1;33m,\u001b[0m\u001b[0minplace\u001b[0m\u001b[1;33m=\u001b[0m\u001b[1;32mTrue\u001b[0m\u001b[1;33m,\u001b[0m\u001b[0maxis\u001b[0m\u001b[1;33m=\u001b[0m\u001b[1;36m1\u001b[0m\u001b[1;33m)\u001b[0m\u001b[1;33m\u001b[0m\u001b[1;33m\u001b[0m\u001b[0m\n",
      "\u001b[1;32mc:\\users\\akashdeep\\appdata\\local\\programs\\python\\python39\\lib\\site-packages\\pandas\\core\\frame.py\u001b[0m in \u001b[0;36mdrop\u001b[1;34m(self, labels, axis, index, columns, level, inplace, errors)\u001b[0m\n\u001b[0;32m   4306\u001b[0m                 \u001b[0mweight\u001b[0m  \u001b[1;36m1.0\u001b[0m     \u001b[1;36m0.8\u001b[0m\u001b[1;33m\u001b[0m\u001b[1;33m\u001b[0m\u001b[0m\n\u001b[0;32m   4307\u001b[0m         \"\"\"\n\u001b[1;32m-> 4308\u001b[1;33m         return super().drop(\n\u001b[0m\u001b[0;32m   4309\u001b[0m             \u001b[0mlabels\u001b[0m\u001b[1;33m=\u001b[0m\u001b[0mlabels\u001b[0m\u001b[1;33m,\u001b[0m\u001b[1;33m\u001b[0m\u001b[1;33m\u001b[0m\u001b[0m\n\u001b[0;32m   4310\u001b[0m             \u001b[0maxis\u001b[0m\u001b[1;33m=\u001b[0m\u001b[0maxis\u001b[0m\u001b[1;33m,\u001b[0m\u001b[1;33m\u001b[0m\u001b[1;33m\u001b[0m\u001b[0m\n",
      "\u001b[1;32mc:\\users\\akashdeep\\appdata\\local\\programs\\python\\python39\\lib\\site-packages\\pandas\\core\\generic.py\u001b[0m in \u001b[0;36mdrop\u001b[1;34m(self, labels, axis, index, columns, level, inplace, errors)\u001b[0m\n\u001b[0;32m   4151\u001b[0m         \u001b[1;32mfor\u001b[0m \u001b[0maxis\u001b[0m\u001b[1;33m,\u001b[0m \u001b[0mlabels\u001b[0m \u001b[1;32min\u001b[0m \u001b[0maxes\u001b[0m\u001b[1;33m.\u001b[0m\u001b[0mitems\u001b[0m\u001b[1;33m(\u001b[0m\u001b[1;33m)\u001b[0m\u001b[1;33m:\u001b[0m\u001b[1;33m\u001b[0m\u001b[1;33m\u001b[0m\u001b[0m\n\u001b[0;32m   4152\u001b[0m             \u001b[1;32mif\u001b[0m \u001b[0mlabels\u001b[0m \u001b[1;32mis\u001b[0m \u001b[1;32mnot\u001b[0m \u001b[1;32mNone\u001b[0m\u001b[1;33m:\u001b[0m\u001b[1;33m\u001b[0m\u001b[1;33m\u001b[0m\u001b[0m\n\u001b[1;32m-> 4153\u001b[1;33m                 \u001b[0mobj\u001b[0m \u001b[1;33m=\u001b[0m \u001b[0mobj\u001b[0m\u001b[1;33m.\u001b[0m\u001b[0m_drop_axis\u001b[0m\u001b[1;33m(\u001b[0m\u001b[0mlabels\u001b[0m\u001b[1;33m,\u001b[0m \u001b[0maxis\u001b[0m\u001b[1;33m,\u001b[0m \u001b[0mlevel\u001b[0m\u001b[1;33m=\u001b[0m\u001b[0mlevel\u001b[0m\u001b[1;33m,\u001b[0m \u001b[0merrors\u001b[0m\u001b[1;33m=\u001b[0m\u001b[0merrors\u001b[0m\u001b[1;33m)\u001b[0m\u001b[1;33m\u001b[0m\u001b[1;33m\u001b[0m\u001b[0m\n\u001b[0m\u001b[0;32m   4154\u001b[0m \u001b[1;33m\u001b[0m\u001b[0m\n\u001b[0;32m   4155\u001b[0m         \u001b[1;32mif\u001b[0m \u001b[0minplace\u001b[0m\u001b[1;33m:\u001b[0m\u001b[1;33m\u001b[0m\u001b[1;33m\u001b[0m\u001b[0m\n",
      "\u001b[1;32mc:\\users\\akashdeep\\appdata\\local\\programs\\python\\python39\\lib\\site-packages\\pandas\\core\\generic.py\u001b[0m in \u001b[0;36m_drop_axis\u001b[1;34m(self, labels, axis, level, errors)\u001b[0m\n\u001b[0;32m   4186\u001b[0m                 \u001b[0mnew_axis\u001b[0m \u001b[1;33m=\u001b[0m \u001b[0maxis\u001b[0m\u001b[1;33m.\u001b[0m\u001b[0mdrop\u001b[0m\u001b[1;33m(\u001b[0m\u001b[0mlabels\u001b[0m\u001b[1;33m,\u001b[0m \u001b[0mlevel\u001b[0m\u001b[1;33m=\u001b[0m\u001b[0mlevel\u001b[0m\u001b[1;33m,\u001b[0m \u001b[0merrors\u001b[0m\u001b[1;33m=\u001b[0m\u001b[0merrors\u001b[0m\u001b[1;33m)\u001b[0m\u001b[1;33m\u001b[0m\u001b[1;33m\u001b[0m\u001b[0m\n\u001b[0;32m   4187\u001b[0m             \u001b[1;32melse\u001b[0m\u001b[1;33m:\u001b[0m\u001b[1;33m\u001b[0m\u001b[1;33m\u001b[0m\u001b[0m\n\u001b[1;32m-> 4188\u001b[1;33m                 \u001b[0mnew_axis\u001b[0m \u001b[1;33m=\u001b[0m \u001b[0maxis\u001b[0m\u001b[1;33m.\u001b[0m\u001b[0mdrop\u001b[0m\u001b[1;33m(\u001b[0m\u001b[0mlabels\u001b[0m\u001b[1;33m,\u001b[0m \u001b[0merrors\u001b[0m\u001b[1;33m=\u001b[0m\u001b[0merrors\u001b[0m\u001b[1;33m)\u001b[0m\u001b[1;33m\u001b[0m\u001b[1;33m\u001b[0m\u001b[0m\n\u001b[0m\u001b[0;32m   4189\u001b[0m             \u001b[0mresult\u001b[0m \u001b[1;33m=\u001b[0m \u001b[0mself\u001b[0m\u001b[1;33m.\u001b[0m\u001b[0mreindex\u001b[0m\u001b[1;33m(\u001b[0m\u001b[1;33m**\u001b[0m\u001b[1;33m{\u001b[0m\u001b[0maxis_name\u001b[0m\u001b[1;33m:\u001b[0m \u001b[0mnew_axis\u001b[0m\u001b[1;33m}\u001b[0m\u001b[1;33m)\u001b[0m\u001b[1;33m\u001b[0m\u001b[1;33m\u001b[0m\u001b[0m\n\u001b[0;32m   4190\u001b[0m \u001b[1;33m\u001b[0m\u001b[0m\n",
      "\u001b[1;32mc:\\users\\akashdeep\\appdata\\local\\programs\\python\\python39\\lib\\site-packages\\pandas\\core\\indexes\\base.py\u001b[0m in \u001b[0;36mdrop\u001b[1;34m(self, labels, errors)\u001b[0m\n\u001b[0;32m   5589\u001b[0m         \u001b[1;32mif\u001b[0m \u001b[0mmask\u001b[0m\u001b[1;33m.\u001b[0m\u001b[0many\u001b[0m\u001b[1;33m(\u001b[0m\u001b[1;33m)\u001b[0m\u001b[1;33m:\u001b[0m\u001b[1;33m\u001b[0m\u001b[1;33m\u001b[0m\u001b[0m\n\u001b[0;32m   5590\u001b[0m             \u001b[1;32mif\u001b[0m \u001b[0merrors\u001b[0m \u001b[1;33m!=\u001b[0m \u001b[1;34m\"ignore\"\u001b[0m\u001b[1;33m:\u001b[0m\u001b[1;33m\u001b[0m\u001b[1;33m\u001b[0m\u001b[0m\n\u001b[1;32m-> 5591\u001b[1;33m                 \u001b[1;32mraise\u001b[0m \u001b[0mKeyError\u001b[0m\u001b[1;33m(\u001b[0m\u001b[1;34mf\"{labels[mask]} not found in axis\"\u001b[0m\u001b[1;33m)\u001b[0m\u001b[1;33m\u001b[0m\u001b[1;33m\u001b[0m\u001b[0m\n\u001b[0m\u001b[0;32m   5592\u001b[0m             \u001b[0mindexer\u001b[0m \u001b[1;33m=\u001b[0m \u001b[0mindexer\u001b[0m\u001b[1;33m[\u001b[0m\u001b[1;33m~\u001b[0m\u001b[0mmask\u001b[0m\u001b[1;33m]\u001b[0m\u001b[1;33m\u001b[0m\u001b[1;33m\u001b[0m\u001b[0m\n\u001b[0;32m   5593\u001b[0m         \u001b[1;32mreturn\u001b[0m \u001b[0mself\u001b[0m\u001b[1;33m.\u001b[0m\u001b[0mdelete\u001b[0m\u001b[1;33m(\u001b[0m\u001b[0mindexer\u001b[0m\u001b[1;33m)\u001b[0m\u001b[1;33m\u001b[0m\u001b[1;33m\u001b[0m\u001b[0m\n",
      "\u001b[1;31mKeyError\u001b[0m: \"['document_create_date.1'] not found in axis\""
     ]
    }
   ],
   "source": [
    "X.drop(['document_create_date.1'],inplace=True,axis=1)\n",
    "X.drop(['business_code'],inplace=True,axis=1)\n",
    "X.drop(['clear_date'],inplace=True,axis=1)\n",
    "X.drop(['buisness_year'],inplace=True,axis=1)\n",
    "X.drop(['doc_id'],inplace=True,axis=1)\n",
    "X.drop(['posting_date'],inplace=True,axis=1)\n",
    "X.drop(['document_create_date'],inplace=True,axis=1)\n",
    "X.drop(['invoice_currency'],inplace=True,axis=1)\n",
    "X.drop(['document type'],inplace=True,axis=1)\n",
    "X.drop(['baseline_create_date'],inplace=True,axis=1)\n",
    "X.drop(['cust_payment_terms'],inplace=True,axis=1)\n",
    "X.drop(['isOpen'],inplace=True,axis=1)\n",
    "X.drop(['RESULT'],inplace=True,axis=1)\n"
   ]
  },
  {
   "cell_type": "code",
   "execution_count": 150,
   "id": "6f6739b3",
   "metadata": {},
   "outputs": [
    {
     "data": {
      "text/plain": [
       "business_code                5\n",
       "cust_number                658\n",
       "name_customer             1741\n",
       "clear_date                   0\n",
       "buisness_year                1\n",
       "doc_id                    9692\n",
       "posting_date                84\n",
       "document_create_date        88\n",
       "document_create_date.1      84\n",
       "due_in_date                127\n",
       "invoice_currency             2\n",
       "document type                1\n",
       "total_open_amount         9034\n",
       "baseline_create_date        85\n",
       "cust_payment_terms          43\n",
       "invoice_id                9692\n",
       "isOpen                       1\n",
       "RESULT                      64\n",
       "predicted                  135\n",
       "bucket                       7\n",
       "dtype: int64"
      ]
     },
     "execution_count": 150,
     "metadata": {},
     "output_type": "execute_result"
    }
   ],
   "source": [
    "# Checking our distinct values in each columns\n",
    "unique=X.nunique()\n",
    "unique"
   ]
  },
  {
   "cell_type": "code",
   "execution_count": 155,
   "id": "9365d790",
   "metadata": {},
   "outputs": [],
   "source": [
    "X.drop(['RESULT'],inplace=True,axis=1)"
   ]
  },
  {
   "cell_type": "code",
   "execution_count": 156,
   "id": "437073c2",
   "metadata": {},
   "outputs": [
    {
     "data": {
      "text/html": [
       "<div>\n",
       "<style scoped>\n",
       "    .dataframe tbody tr th:only-of-type {\n",
       "        vertical-align: middle;\n",
       "    }\n",
       "\n",
       "    .dataframe tbody tr th {\n",
       "        vertical-align: top;\n",
       "    }\n",
       "\n",
       "    .dataframe thead th {\n",
       "        text-align: right;\n",
       "    }\n",
       "</style>\n",
       "<table border=\"1\" class=\"dataframe\">\n",
       "  <thead>\n",
       "    <tr style=\"text-align: right;\">\n",
       "      <th></th>\n",
       "      <th>cust_number</th>\n",
       "      <th>name_customer</th>\n",
       "      <th>due_in_date</th>\n",
       "      <th>total_open_amount</th>\n",
       "      <th>invoice_id</th>\n",
       "      <th>predicted</th>\n",
       "      <th>bucket</th>\n",
       "    </tr>\n",
       "  </thead>\n",
       "  <tbody>\n",
       "    <tr>\n",
       "      <th>2</th>\n",
       "      <td>0200744019</td>\n",
       "      <td>TARG co</td>\n",
       "      <td>2020-04-11</td>\n",
       "      <td>18118.48</td>\n",
       "      <td>1930709578.0</td>\n",
       "      <td>2020-04-09</td>\n",
       "      <td>-15-0</td>\n",
       "    </tr>\n",
       "    <tr>\n",
       "      <th>5</th>\n",
       "      <td>0200726979</td>\n",
       "      <td>BJ'S  in</td>\n",
       "      <td>2020-05-01</td>\n",
       "      <td>199.08</td>\n",
       "      <td>1930789171.0</td>\n",
       "      <td>2020-04-30</td>\n",
       "      <td>-15-0</td>\n",
       "    </tr>\n",
       "    <tr>\n",
       "      <th>10</th>\n",
       "      <td>0200759878</td>\n",
       "      <td>SA in</td>\n",
       "      <td>2020-04-05</td>\n",
       "      <td>17602.54</td>\n",
       "      <td>1930675576.0</td>\n",
       "      <td>2020-04-07</td>\n",
       "      <td>0-14</td>\n",
       "    </tr>\n",
       "    <tr>\n",
       "      <th>13</th>\n",
       "      <td>0200762301</td>\n",
       "      <td>C&amp;S WH co</td>\n",
       "      <td>2020-04-12</td>\n",
       "      <td>3578.12</td>\n",
       "      <td>1930709317.0</td>\n",
       "      <td>2020-04-14</td>\n",
       "      <td>0-14</td>\n",
       "    </tr>\n",
       "    <tr>\n",
       "      <th>15</th>\n",
       "      <td>0200418007</td>\n",
       "      <td>AM corporation</td>\n",
       "      <td>2020-05-19</td>\n",
       "      <td>2399.86</td>\n",
       "      <td>1930838503.0</td>\n",
       "      <td>2020-05-17</td>\n",
       "      <td>-15-0</td>\n",
       "    </tr>\n",
       "    <tr>\n",
       "      <th>...</th>\n",
       "      <td>...</td>\n",
       "      <td>...</td>\n",
       "      <td>...</td>\n",
       "      <td>...</td>\n",
       "      <td>...</td>\n",
       "      <td>...</td>\n",
       "      <td>...</td>\n",
       "    </tr>\n",
       "    <tr>\n",
       "      <th>49965</th>\n",
       "      <td>0200780383</td>\n",
       "      <td>MEIJ associates</td>\n",
       "      <td>2020-04-28</td>\n",
       "      <td>1373.96</td>\n",
       "      <td>1930778760.0</td>\n",
       "      <td>2020-04-26</td>\n",
       "      <td>-15-0</td>\n",
       "    </tr>\n",
       "    <tr>\n",
       "      <th>49971</th>\n",
       "      <td>0200769623</td>\n",
       "      <td>WAL-MAR</td>\n",
       "      <td>2020-04-25</td>\n",
       "      <td>13011.36</td>\n",
       "      <td>1930766199.0</td>\n",
       "      <td>2020-04-27</td>\n",
       "      <td>0-14</td>\n",
       "    </tr>\n",
       "    <tr>\n",
       "      <th>49993</th>\n",
       "      <td>0200799367</td>\n",
       "      <td>MCL co</td>\n",
       "      <td>2020-04-22</td>\n",
       "      <td>79625.69</td>\n",
       "      <td>1930752882.0</td>\n",
       "      <td>2020-04-21</td>\n",
       "      <td>-15-0</td>\n",
       "    </tr>\n",
       "    <tr>\n",
       "      <th>49994</th>\n",
       "      <td>0200762301</td>\n",
       "      <td>C&amp;S WH associates</td>\n",
       "      <td>2020-05-14</td>\n",
       "      <td>61205.39</td>\n",
       "      <td>1930834011.0</td>\n",
       "      <td>2020-05-17</td>\n",
       "      <td>0-14</td>\n",
       "    </tr>\n",
       "    <tr>\n",
       "      <th>49999</th>\n",
       "      <td>0200772670</td>\n",
       "      <td>ASSOCIAT us</td>\n",
       "      <td>2020-04-07</td>\n",
       "      <td>18165.53</td>\n",
       "      <td>1930687620.0</td>\n",
       "      <td>2020-03-24</td>\n",
       "      <td>-15-0</td>\n",
       "    </tr>\n",
       "  </tbody>\n",
       "</table>\n",
       "<p>9692 rows × 7 columns</p>\n",
       "</div>"
      ],
      "text/plain": [
       "      cust_number      name_customer due_in_date total_open_amount  \\\n",
       "2      0200744019            TARG co  2020-04-11          18118.48   \n",
       "5      0200726979           BJ'S  in  2020-05-01            199.08   \n",
       "10     0200759878              SA in  2020-04-05          17602.54   \n",
       "13     0200762301          C&S WH co  2020-04-12           3578.12   \n",
       "15     0200418007     AM corporation  2020-05-19           2399.86   \n",
       "...           ...                ...         ...               ...   \n",
       "49965  0200780383    MEIJ associates  2020-04-28           1373.96   \n",
       "49971  0200769623           WAL-MAR   2020-04-25          13011.36   \n",
       "49993  0200799367             MCL co  2020-04-22          79625.69   \n",
       "49994  0200762301  C&S WH associates  2020-05-14          61205.39   \n",
       "49999  0200772670        ASSOCIAT us  2020-04-07          18165.53   \n",
       "\n",
       "         invoice_id  predicted bucket  \n",
       "2      1930709578.0 2020-04-09  -15-0  \n",
       "5      1930789171.0 2020-04-30  -15-0  \n",
       "10     1930675576.0 2020-04-07   0-14  \n",
       "13     1930709317.0 2020-04-14   0-14  \n",
       "15     1930838503.0 2020-05-17  -15-0  \n",
       "...             ...        ...    ...  \n",
       "49965  1930778760.0 2020-04-26  -15-0  \n",
       "49971  1930766199.0 2020-04-27   0-14  \n",
       "49993  1930752882.0 2020-04-21  -15-0  \n",
       "49994  1930834011.0 2020-05-17   0-14  \n",
       "49999  1930687620.0 2020-03-24  -15-0  \n",
       "\n",
       "[9692 rows x 7 columns]"
      ]
     },
     "execution_count": 156,
     "metadata": {},
     "output_type": "execute_result"
    }
   ],
   "source": [
    "X"
   ]
  },
  {
   "cell_type": "code",
   "execution_count": 158,
   "id": "af081982",
   "metadata": {},
   "outputs": [
    {
     "ename": "TypeError",
     "evalue": "'DataFrame' object is not callable",
     "output_type": "error",
     "traceback": [
      "\u001b[1;31m---------------------------------------------------------------------------\u001b[0m",
      "\u001b[1;31mTypeError\u001b[0m                                 Traceback (most recent call last)",
      "\u001b[1;32m<ipython-input-158-4f9246d53ba6>\u001b[0m in \u001b[0;36m<module>\u001b[1;34m\u001b[0m\n\u001b[1;32m----> 1\u001b[1;33m \u001b[0mX\u001b[0m\u001b[1;33m(\u001b[0m\u001b[1;34m'invoice_id'\u001b[0m\u001b[1;33m)\u001b[0m\u001b[1;33m.\u001b[0m\u001b[0mnunique\u001b[0m\u001b[1;33m(\u001b[0m\u001b[1;33m)\u001b[0m\u001b[1;33m\u001b[0m\u001b[1;33m\u001b[0m\u001b[0m\n\u001b[0m",
      "\u001b[1;31mTypeError\u001b[0m: 'DataFrame' object is not callable"
     ]
    }
   ],
   "source": [
    "X('invoice_id').nunique()"
   ]
  },
  {
   "cell_type": "code",
   "execution_count": 159,
   "id": "a795af89",
   "metadata": {},
   "outputs": [
    {
     "data": {
      "text/plain": [
       "cust_number                  object\n",
       "name_customer                object\n",
       "due_in_date          datetime64[ns]\n",
       "total_open_amount            object\n",
       "invoice_id                   object\n",
       "predicted            datetime64[ns]\n",
       "bucket                       object\n",
       "dtype: object"
      ]
     },
     "execution_count": 159,
     "metadata": {},
     "output_type": "execute_result"
    }
   ],
   "source": [
    "X.dtypes"
   ]
  },
  {
   "cell_type": "code",
   "execution_count": null,
   "id": "754206bc",
   "metadata": {},
   "outputs": [],
   "source": []
  }
 ],
 "metadata": {
  "kernelspec": {
   "display_name": "Python 3",
   "language": "python",
   "name": "python3"
  },
  "language_info": {
   "codemirror_mode": {
    "name": "ipython",
    "version": 3
   },
   "file_extension": ".py",
   "mimetype": "text/x-python",
   "name": "python",
   "nbconvert_exporter": "python",
   "pygments_lexer": "ipython3",
   "version": "3.9.5"
  }
 },
 "nbformat": 4,
 "nbformat_minor": 5
}
